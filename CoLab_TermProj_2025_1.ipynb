{
 "cells": [
  {
   "cell_type": "markdown",
   "metadata": {
    "id": "_SmTogjeMD47"
   },
   "source": [
    "# 생물정보학 및 실습 1 - Term Project용 환경 셋업\n",
    "\n",
    "```\n",
    "생물정보학 및 실습 1\n",
    "서울대학교 생물정보학전공/생명과학부 2025년 1학기\n",
    "\n",
    "이 노트북은 Creative Commons BY-SA 조건으로 재사용 가능합니다.\n",
    "장혜식 <hyeshik@snu.ac.kr>, 서울대학교 생명과학부\n",
    "```\n",
    "\n",
    "이 노트북은 Google Colab을 이용해서 Term Project를 할 수 있도록 환경을 준비해 줍니다. 터미널 사용이 원활하지 않은 상태이고, 데이터를 오랫동안 보관하기 어렵기 때문에 되도록 개인용 컴퓨터에서 [Anaconda](https://www.anaconda.com/)나 [JupyterLab](https://jupyterlab.readthedocs.io/en/stable/) 등을 설치하고 사용하시는 것이 편하지만, 개인용 컴퓨터 사양이 부족한 경우에는 Google CoLab을 사용할 수도 있습니다. 개인용 컴퓨터를 쓸 때는 Windows에서는 [WSL2](https://docs.microsoft.com/en-us/windows/wsl/install-win10)를 쓰시면 리눅스 커맨드라인 환경을 쓸 수 있습니다. Google Colab은 창을 닫은 후 90분 후, 또는 창을 처음 열고 12시간 후에 환경을 닫아버리기 때문에 매번 실습할 때마다 새로 셋업이 필요합니다. `Runtime->Run All`을 실행해서 전체를 한 번 실행하시면 준비됩니다. 모든 것이 잘 안 되고 뭔가 꼬인 느낌이 강하게 들 때는 `Runtime->Disconnect and delete runtime`을 누르고 새로 시작하시면 될 수도 있습니다.\n",
    "\n",
    "Colab 상에서 파일 경로나 디렉토리를 더 쉽게 보고 싶은 분들은, 화면 왼쪽의 아이콘들 중 가장 아래 폴더 아이콘을 눌러서 볼 수 있습니다.\n",
    "\n",
    "`Runtime->Run All`으로 실행했을 때, `wget`이나 `rsync` 명령이 연결이 잘 안 되어 중간에 에러가 일부 날 수 있지만 해당 셀만 다시 실행하면 해결되는 경우도 있습니다. 해당되는 셀에는 셀의 앞이나 뒤에 추가 설명을 작성하였으니 참고해 주세요."
   ]
  },
  {
   "cell_type": "markdown",
   "metadata": {},
   "source": [
    "# 로컬 컴퓨터에서 실습을 진행함"
   ]
  },
  {
   "cell_type": "markdown",
   "metadata": {
    "id": "zGYjheLcRJS0"
   },
   "source": [
    "## Google Drive 마운트\n",
    "\n",
    "데이터 파일들을 불러오고 저장하기 위해서 Google Drive를 연결합니다. **이번엔 스크립트 파일을 편집해야 하기 때문에 Google Drive 마운트를 하지 않으면 vim등 콘솔에서 쓸 수 있는 에디터를 쓰셔야 합니다.** 화면에 나오는 주소를 눌러서 인증하고 인증 코드를 그 아래에 입력하세요. 그러면 `/contents/drive/MyDrive`에서 자신의 Drive 최상단 폴더가 보입니다. Google CoLab에서 접속하지 않고, 본인 컴퓨터 또는 연구실 워크스테이션 등 다른 컴퓨터를 쓰시는 경우에는 저장공간이 충분하므로 이 부분은 생략하고 지나갑니다."
   ]
  },
  {
   "cell_type": "code",
   "execution_count": 1,
   "metadata": {
    "colab": {
     "base_uri": "https://localhost:8080/"
    },
    "id": "0HgOxANiRHgl",
    "outputId": "c7f8d26b-218c-4cd2-9dfb-28013116b975"
   },
   "outputs": [],
   "source": [
    "# from google.colab import drive\n",
    "# drive.mount('/content/drive')"
   ]
  },
  {
   "cell_type": "markdown",
   "metadata": {
    "id": "ra3RB22DWEER"
   },
   "source": [
    "## 실습용 Bioconda 환경 설치하기\n",
    "Google CoLab에서 접속하지 않고, 본인 컴퓨터 또는 연구실 워크스테이션 등 다른 컴퓨터를 쓰시는 경우에는 따로 실습용 [Bioconda](https://bioconda.github.io/) 환경을 구축해서 이 노트북을 그 환경 안에서 띄우시면 됩니다.\n",
    "\n",
    "CoLab을 쓰시는 분들은 다음에 따라서 실습용 프로그램들을 쉽게 설치할 수 있도록 [Bioconda](https://bioconda.github.io/) 환경을 만듭니다. 실행하고 진행상황을 관찰하다가 에러로 보이는 것이 있으면 잘 읽어보고 해결합니다.\n",
    "\n",
    "파이썬 모듈들은 Colab쪽의 파이썬 인터프리터를 바꿀 수 없기 때문에 Conda에 설치하더라도 사용하기 어렵습니다. 파이썬 모듈은 `pip` 명령어로 설치하시면 Colab에서 불러와서 사용할 수 있습니다.\n",
    "\n",
    "환경 초기화에 관련된 스크립트는 [GitHub 프로젝트](https://github.com/hyeshik/colab-biolab)에 있습니다."
   ]
  },
  {
   "cell_type": "code",
   "execution_count": 2,
   "metadata": {
    "colab": {
     "base_uri": "https://localhost:8080/"
    },
    "id": "TTXmNi4hcap3",
    "outputId": "d65182e7-0734-4cd0-bd9c-e2c68cac9e18"
   },
   "outputs": [
    {
     "name": "stdout",
     "output_type": "stream",
     "text": [
      "Cloning into 'colab-biolab'...\n",
      "remote: Enumerating objects: 76, done.\u001b[K\n",
      "remote: Counting objects: 100% (76/76), done.\u001b[K\n",
      "remote: Compressing objects: 100% (47/47), done.\u001b[K\n",
      "remote: Total 76 (delta 26), reused 59 (delta 15), pack-reused 0 (from 0)\u001b[K\n",
      "Receiving objects: 100% (76/76), 318.16 KiB | 7.07 MiB/s, done.\n",
      "Resolving deltas: 100% (26/26), done.\n",
      "./\n",
      "./root/\n",
      "./root/.bashrc.biolab\n",
      "tar: ./root/.bashrc.biolab: Cannot open: Permission denied\n",
      "./root/.tmux.conf\n",
      "tar: ./root/.tmux.conf: Cannot open: Permission denied\n",
      "./root/.bin.priority/\n",
      "tar: ./root/.bin.priority: Cannot mkdir: Permission denied\n",
      "./root/.bin.priority/pip\n",
      "tar: ./root/.bin.priority/pip: Cannot open: Permission denied\n",
      "./root/.bin.priority/pip3\n",
      "tar: ./root/.bin.priority/pip3: Cannot open: Permission denied\n",
      "./root/.bin.priority/pip2\n",
      "tar: ./root/.bin.priority/pip2: Cannot open: Permission denied\n",
      "./root/.profile\n",
      "tar: ./root/.profile: Cannot open: Permission denied\n",
      "./root/.vimrc\n",
      "tar: ./root/.vimrc: Cannot open: Permission denied\n",
      "./root/.condarc\n",
      "tar: ./root/.condarc: Cannot open: Permission denied\n",
      "tar: ./root: Cannot utime: Operation not permitted\n",
      "tar: ./root: Cannot change mode to rwxrwxr-x: Operation not permitted\n",
      "tar: .: Cannot utime: Operation not permitted\n",
      "tar: .: Cannot change mode to rwxrwxr-x: Operation not permitted\n",
      "tar: Exiting with failure status due to previous errors\n",
      "--2025-05-07 14:24:51--  https://repo.anaconda.com/miniconda/Miniconda3-latest-Linux-x86_64.sh\n",
      "Resolving repo.anaconda.com (repo.anaconda.com)... 104.16.32.241, 104.16.191.158, 2606:4700::6810:20f1, ...\n",
      "Connecting to repo.anaconda.com (repo.anaconda.com)|104.16.32.241|:443... connected.\n",
      "HTTP request sent, awaiting response... 200 OK\n",
      "Length: 155472915 (148M) [application/octet-stream]\n",
      "Saving to: ‘miniconda3.sh’\n",
      "\n",
      "miniconda3.sh       100%[===================>] 148.27M  10.4MB/s    in 14s     \n",
      "\n",
      "2025-05-07 14:25:06 (10.3 MB/s) - ‘miniconda3.sh’ saved [155472915/155472915]\n",
      "\n",
      "mkdir: cannot create directory ‘/root’: Permission denied\n",
      "ERROR: Could not create directory: '/root/conda'.\n",
      "Check permissions and available disk space (982 MB needed).\n",
      "cat: /home/junhyeong/.bashrc.biolab: No such file or directory\n"
     ]
    },
    {
     "name": "stderr",
     "output_type": "stream",
     "text": [
      "/bin/bash: line 1: /root/conda/bin/conda: Permission denied\n"
     ]
    },
    {
     "name": "stdout",
     "output_type": "stream",
     "text": [
      "Activated conda environment `lab'!\n"
     ]
    },
    {
     "name": "stderr",
     "output_type": "stream",
     "text": [
      "\n",
      "CondaError: Run 'conda init' before 'conda activate'\n",
      "\n"
     ]
    }
   ],
   "source": [
    "# !git clone https://github.com/hyeshik/colab-biolab.git\n",
    "# !cd colab-biolab && bash tools/setup.sh\n",
    "# exec(open('colab-biolab/tools/activate_conda.py').read())"
   ]
  },
  {
   "cell_type": "markdown",
   "metadata": {
    "id": "eDfJ0fCzsTTb"
   },
   "source": [
    "Google CoLab에서 shell command를 실행할 때는 명령 앞에 !을 붙이면 실행할 수 있습니다."
   ]
  },
  {
   "cell_type": "markdown",
   "metadata": {
    "id": "J2LqGiP_N26s"
   },
   "source": [
    "## 시퀀싱 데이터 다운로드\n",
    "이제 실습 수업에서 필요한 시퀀싱 데이터를 다운로드 받아서 설치합시다. 드라이브 공간만 충분하면 데이터는 계속 저장돼 있기 때문에 학기 전체를 통해서 딱 한 번만 하시면 됩니다. Colab에서는 작업용 데이터를 Google Drive 폴더 아래의 `binfo-datapack1`에 저장합니다. 실습용 데이터는 `/content/drive/MyDrive/binfo1-datapack1`에 풀리게 됩니다.\n",
    "\n",
    "### (Option 1) Google CoLab에서 접속한 경우\n",
    "1. [Google Drive 공유폴더](https://drive.google.com/drive/folders/1QBJednh-C7A17PFOlpZHBKyDmBvd6klh?usp=sharing)에 접속합니다.\n",
    "1. 제목줄의 \"binfo1-datapack1 ▾\"에서 ▾을 누릅니다.\n",
    "1. Organize -> Add shortcut to Drive를 누릅니다.\n",
    "1. My Drive를 선택해서 ADD SHORTCUT 버튼을 누릅니다.\n",
    "1. 다음 cell을 실행해서 링크가 제대로 들어왔는지 확인합니다. (바로 확인되지 않으면 3–5분 정도 기다렸다가 하면 됩니다.)\n",
    "1. 제대로 확인되면 다음으로 넘어갑니다.\n"
   ]
  },
  {
   "cell_type": "code",
   "execution_count": 3,
   "metadata": {
    "colab": {
     "base_uri": "https://localhost:8080/"
    },
    "id": "D24wKYriG8tI",
    "outputId": "1209a82b-483c-40ee-af4e-5de3648a4062"
   },
   "outputs": [
    {
     "name": "stdout",
     "output_type": "stream",
     "text": [
      "total 7162852\n",
      "-r-------- 1 root root 1370036258 Apr 27  2023 CLIP-35L33G.bam\n",
      "-r-------- 1 root root    3118336 Apr 27  2023 CLIP-35L33G.bam.bai\n",
      "-r-------- 1 root root       7113 May 11  2023 CLIP-let7g.bam\n",
      "-r-------- 1 root root      14561 May 11  2023 CLIP-let7g-gene.pileup\n",
      "-r-------- 1 root root    2685065 May 11  2023 CLIP-let7g.pileup\n",
      "-r-------- 1 root root  883334756 Apr 27  2023 gencode.gtf\n",
      "-r-------- 1 root root   24065406 Apr 27  2023 read-counts.txt\n",
      "-r-------- 1 root root        751 Apr 27  2023 read-counts.txt.summary\n",
      "-r-------- 1 root root 1003658801 Apr 27  2023 RNA-control.bam\n",
      "-r-------- 1 root root    2276104 Apr 27  2023 RNA-control.bam.bai\n",
      "-r-------- 1 root root 1260991122 Apr 27  2023 RNA-siLin28a.bam\n",
      "-r-------- 1 root root    2710744 Apr 27  2023 RNA-siLin28a.bam.bai\n",
      "-r-------- 1 root root  981684502 Apr 27  2023 RNA-siLuc.bam\n",
      "-r-------- 1 root root    2606104 Apr 27  2023 RNA-siLuc.bam.bai\n",
      "-r-------- 1 root root  737352902 Apr 27  2023 RPF-siLin28a.bam\n",
      "-r-------- 1 root root    2482768 Apr 27  2023 RPF-siLin28a.bam.bai\n",
      "-r-------- 1 root root 1055123479 Apr 27  2023 RPF-siLuc.bam\n",
      "-r-------- 1 root root    2605912 Apr 27  2023 RPF-siLuc.bam.bai\n"
     ]
    }
   ],
   "source": [
    "# !ls -al /content/drive/MyDrive/binfo1-datapack1/"
   ]
  },
  {
   "cell_type": "markdown",
   "metadata": {
    "id": "OZ0KkKrmG-M4"
   },
   "source": [
    "### (Option 2) CoLab외의 다른 환경에서 접속한 경우\n",
    "본인 컴퓨터나 연구실 워크스테이션 등에서 작업하는 경우에는 다음 명령어로 다운로드 받으시면 됩니다.\n",
    "\n",
    "첫 번째에는 wget이 접속오류를 내는 경우가 많으니, 접속에러가 발생하면 다시 한 번 실행해 보세요. `/content/drive/Mydrive` 부분은 원하는 저장 경로로 바꿔서 지정하시면 됩니다."
   ]
  },
  {
   "cell_type": "code",
   "execution_count": 5,
   "metadata": {
    "id": "kIN484e7NSxR"
   },
   "outputs": [
    {
     "name": "stdout",
     "output_type": "stream",
     "text": [
      "--2025-05-07 14:35:57--  https://hyeshik.qbio.io/binfo/binfo1-datapack1.tar\n",
      "Resolving hyeshik.qbio.io (hyeshik.qbio.io)... 147.47.203.129\n",
      "Connecting to hyeshik.qbio.io (hyeshik.qbio.io)|147.47.203.129|:443... connected.\n",
      "WARNING: The certificate of ‘hyeshik.qbio.io’ is not trusted.\n",
      "WARNING: The certificate of ‘hyeshik.qbio.io’ hasn't got a known issuer.\n",
      "HTTP request sent, awaiting response... 200 OK\n",
      "Length: 6424668160 (6.0G) [application/octet-stream]\n",
      "Saving to: ‘STDOUT’\n",
      "\n",
      "-                    16%[==>                 ]   1.01G  11.2MB/s    in 95s     \n",
      "\n",
      "2025-05-07 14:37:32 (10.8 MB/s) - Connection closed at byte 1080295125. Retrying.\n",
      "\n",
      "--2025-05-07 14:37:33--  (try: 2)  https://hyeshik.qbio.io/binfo/binfo1-datapack1.tar\n",
      "Connecting to hyeshik.qbio.io (hyeshik.qbio.io)|147.47.203.129|:443... connected.\n",
      "WARNING: The certificate of ‘hyeshik.qbio.io’ is not trusted.\n",
      "WARNING: The certificate of ‘hyeshik.qbio.io’ hasn't got a known issuer.\n",
      "HTTP request sent, awaiting response... 206 Partial Content\n",
      "Length: 6424668160 (6.0G), 5344373035 (5.0G) remaining [application/octet-stream]\n",
      "Saving to: ‘STDOUT’\n",
      "\n",
      "-                    33%[+++==>              ]   2.01G  10.7MB/s    in 95s     \n",
      "\n",
      "2025-05-07 14:39:08 (10.8 MB/s) - Connection closed at byte 2157870460. Retrying.\n",
      "\n",
      "--2025-05-07 14:39:10--  (try: 3)  https://hyeshik.qbio.io/binfo/binfo1-datapack1.tar\n",
      "Connecting to hyeshik.qbio.io (hyeshik.qbio.io)|147.47.203.129|:443... connected.\n",
      "WARNING: The certificate of ‘hyeshik.qbio.io’ is not trusted.\n",
      "WARNING: The certificate of ‘hyeshik.qbio.io’ hasn't got a known issuer.\n",
      "HTTP request sent, awaiting response... 206 Partial Content\n",
      "Length: 6424668160 (6.0G), 4266797700 (4.0G) remaining [application/octet-stream]\n",
      "Saving to: ‘STDOUT’\n",
      "\n",
      "-                    50%[++++++===>          ]   3.01G  11.2MB/s    in 93s     \n",
      "\n",
      "2025-05-07 14:40:44 (11.1 MB/s) - Connection closed at byte 3235740707. Retrying.\n",
      "\n",
      "--2025-05-07 14:40:47--  (try: 4)  https://hyeshik.qbio.io/binfo/binfo1-datapack1.tar\n",
      "Connecting to hyeshik.qbio.io (hyeshik.qbio.io)|147.47.203.129|:443... connected.\n",
      "WARNING: The certificate of ‘hyeshik.qbio.io’ is not trusted.\n",
      "WARNING: The certificate of ‘hyeshik.qbio.io’ hasn't got a known issuer.\n",
      "HTTP request sent, awaiting response... 206 Partial Content\n",
      "Length: 6424668160 (6.0G), 3188927453 (3.0G) remaining [application/octet-stream]\n",
      "Saving to: ‘STDOUT’\n",
      "\n",
      "-                    67%[++++++++++==>       ]   4.02G  11.1MB/s    in 93s     \n",
      "\n",
      "2025-05-07 14:42:19 (11.1 MB/s) - Connection closed at byte 4313168586. Retrying.\n",
      "\n",
      "--2025-05-07 14:42:23--  (try: 5)  https://hyeshik.qbio.io/binfo/binfo1-datapack1.tar\n",
      "Connecting to hyeshik.qbio.io (hyeshik.qbio.io)|147.47.203.129|:443... connected.\n",
      "WARNING: The certificate of ‘hyeshik.qbio.io’ is not trusted.\n",
      "WARNING: The certificate of ‘hyeshik.qbio.io’ hasn't got a known issuer.\n",
      "HTTP request sent, awaiting response... 206 Partial Content\n",
      "Length: 6424668160 (6.0G), 2111499574 (2.0G) remaining [application/octet-stream]\n",
      "Saving to: ‘STDOUT’\n",
      "\n",
      "-                    83%[+++++++++++++==>    ]   5.02G  11.2MB/s    in 93s     \n",
      "\n",
      "2025-05-07 14:43:56 (11.1 MB/s) - Connection closed at byte 5390104945. Retrying.\n",
      "\n",
      "--2025-05-07 14:44:01--  (try: 6)  https://hyeshik.qbio.io/binfo/binfo1-datapack1.tar\n",
      "Connecting to hyeshik.qbio.io (hyeshik.qbio.io)|147.47.203.129|:443... connected.\n",
      "WARNING: The certificate of ‘hyeshik.qbio.io’ is not trusted.\n",
      "WARNING: The certificate of ‘hyeshik.qbio.io’ hasn't got a known issuer.\n",
      "HTTP request sent, awaiting response... 206 Partial Content\n",
      "Length: 6424668160 (6.0G), 1034563215 (987M) remaining [application/octet-stream]\n",
      "Saving to: ‘STDOUT’\n",
      "\n",
      "-                   100%[++++++++++++++++===>]   5.98G  11.2MB/s    in 89s     \n",
      "\n",
      "2025-05-07 14:45:30 (11.1 MB/s) - written to stdout [6424668160/6424668160]\n",
      "\n"
     ]
    }
   ],
   "source": [
    "!wget -O - --no-check-certificate https://hyeshik.qbio.io/binfo/binfo1-datapack1.tar | tar -C data/ -xf -"
   ]
  },
  {
   "cell_type": "markdown",
   "metadata": {
    "id": "kiQ5y4dTD27M"
   },
   "source": [
    "그리고, GENCODE Annotation 데이터도 미리 받아서 저장해 둡니다. 에러가 나면 다시 한 번 실행해 봅니다."
   ]
  },
  {
   "cell_type": "code",
   "execution_count": 6,
   "metadata": {
    "id": "Efdd3x8hDMh4"
   },
   "outputs": [
    {
     "name": "stdout",
     "output_type": "stream",
     "text": [
      "--2025-05-07 14:48:32--  http://ftp.ebi.ac.uk/pub/databases/gencode/Gencode_mouse/release_M27/gencode.vM27.annotation.gtf.gz\n",
      "193.62.193.165ebi.ac.uk (ftp.ebi.ac.uk)... \n",
      "connected. to ftp.ebi.ac.uk (ftp.ebi.ac.uk)|193.62.193.165|:80... \n",
      "200 OKequest sent, awaiting response... \n",
      "Length: 28359457 (27M) [application/x-gzip]\n",
      "Saving to: ‘data/binfo1-datapack1/gencode.gtf.gz’\n",
      "\n",
      "data/binfo1-datapac 100%[===================>]  27.04M   306KB/s    in 43s     \n",
      "\n",
      "2025-05-07 14:49:16 (645 KB/s) - ‘data/binfo1-datapack1/gencode.gtf.gz’ saved [28359457/28359457]\n",
      "\n"
     ]
    }
   ],
   "source": [
    "!wget --no-check-certificate -O data/binfo1-datapack1/gencode.gtf.gz http://ftp.ebi.ac.uk/pub/databases/gencode/Gencode_mouse/release_M27/gencode.vM27.annotation.gtf.gz"
   ]
  },
  {
   "cell_type": "markdown",
   "metadata": {
    "id": "lnlM-S70C-tY"
   },
   "source": [
    "### 파일 체크섬 확인\n",
    "\n",
    "받은 데이터의 MD5 체크섬을 확인합니다. 한참 걸립니다. 각 파일들의 원래 체크섬은 다음과 같습니다. 한 번 비교해 보세요. (나중에 자동으로 비교하고 싶으시면 `md5sum -c` 옵션을 사용하면 됩니다. 여기서는 MD5를 처음 써 보는 의미에서 직접 비교해 봅시다.)\n",
    "\n",
    "```\n",
    "140aaf30bcb9276cc716f8699f04ddd6  CLIP-35L33G.bam\n",
    "f1b3336ed7e2f97d562dcc71641251bd  CLIP-35L33G.bam.bai\n",
    "328883a73d507eafbf5b60bd6b906201  RNA-control.bam\n",
    "02073818e2f398a73c3b76e5169de1ca  RNA-control.bam.bai\n",
    "b09550d09d6c2a4ce27f0226f426fdb1  RNA-siLin28a.bam\n",
    "fef112c727244060ea62d3f2564a07f6  RNA-siLin28a.bam.bai\n",
    "28bbd0c47d725669340c784f1b772c01  RNA-siLuc.bam\n",
    "43590fdc4d81905c0432e0d1cb8cfd5b  RNA-siLuc.bam.bai\n",
    "5c08a9297307bc83259e658c4474f0cc  RPF-siLin28a.bam\n",
    "a1bb3e29be412dfd7fd8d16b1b1acc4c  RPF-siLin28a.bam.bai\n",
    "f2eebf50943024d0116c9cd3e744c707  RPF-siLuc.bam\n",
    "dc24f69e8f571fc8be30f28ce5b84fcd  RPF-siLuc.bam.bai\n",
    "```"
   ]
  },
  {
   "cell_type": "code",
   "execution_count": 7,
   "metadata": {
    "id": "g8lC_YJRBCPf"
   },
   "outputs": [
    {
     "name": "stdout",
     "output_type": "stream",
     "text": [
      "140aaf30bcb9276cc716f8699f04ddd6  data/binfo1-datapack1/CLIP-35L33G.bam\n",
      "f1b3336ed7e2f97d562dcc71641251bd  data/binfo1-datapack1/CLIP-35L33G.bam.bai\n",
      "794eb8d273987a094dcc013afa2a1956  data/binfo1-datapack1/gencode.gtf.gz\n",
      "328883a73d507eafbf5b60bd6b906201  data/binfo1-datapack1/RNA-control.bam\n",
      "02073818e2f398a73c3b76e5169de1ca  data/binfo1-datapack1/RNA-control.bam.bai\n",
      "b09550d09d6c2a4ce27f0226f426fdb1  data/binfo1-datapack1/RNA-siLin28a.bam\n",
      "fef112c727244060ea62d3f2564a07f6  data/binfo1-datapack1/RNA-siLin28a.bam.bai\n",
      "28bbd0c47d725669340c784f1b772c01  data/binfo1-datapack1/RNA-siLuc.bam\n",
      "43590fdc4d81905c0432e0d1cb8cfd5b  data/binfo1-datapack1/RNA-siLuc.bam.bai\n",
      "5c08a9297307bc83259e658c4474f0cc  data/binfo1-datapack1/RPF-siLin28a.bam\n",
      "a1bb3e29be412dfd7fd8d16b1b1acc4c  data/binfo1-datapack1/RPF-siLin28a.bam.bai\n",
      "f2eebf50943024d0116c9cd3e744c707  data/binfo1-datapack1/RPF-siLuc.bam\n",
      "dc24f69e8f571fc8be30f28ce5b84fcd  data/binfo1-datapack1/RPF-siLuc.bam.bai\n"
     ]
    }
   ],
   "source": [
    "!md5sum data/binfo1-datapack1/*"
   ]
  },
  {
   "cell_type": "code",
   "execution_count": 8,
   "metadata": {
    "colab": {
     "base_uri": "https://localhost:8080/"
    },
    "id": "PVXzIs5FE3Q4",
    "outputId": "81ff8809-88e3-426f-8485-242179a0a78d"
   },
   "outputs": [
    {
     "name": "stdout",
     "output_type": "stream",
     "text": [
      "total 6301824\n",
      "drwxr-xr-x. 2 junhyeong junhyeong       4096 May  7 14:48 .\n",
      "drwxrwxr-x. 3 junhyeong junhyeong       4096 May  7 14:35 ..\n",
      "-rw-r--r--. 1 junhyeong junhyeong 1370036258 May  6  2021 CLIP-35L33G.bam\n",
      "-rw-r--r--. 1 junhyeong junhyeong    3118336 May  6  2021 CLIP-35L33G.bam.bai\n",
      "-rw-rw-r--. 1 junhyeong junhyeong   28359457 Mar  9  2021 gencode.gtf.gz\n",
      "-rw-r--r--. 1 junhyeong junhyeong 1003658801 May  6  2021 RNA-control.bam\n",
      "-rw-r--r--. 1 junhyeong junhyeong    2276104 May  6  2021 RNA-control.bam.bai\n",
      "-rw-r--r--. 1 junhyeong junhyeong 1260991122 May  6  2021 RNA-siLin28a.bam\n",
      "-rw-r--r--. 1 junhyeong junhyeong    2710744 May  6  2021 RNA-siLin28a.bam.bai\n",
      "-rw-r--r--. 1 junhyeong junhyeong  981684502 May  6  2021 RNA-siLuc.bam\n",
      "-rw-r--r--. 1 junhyeong junhyeong    2606104 May  6  2021 RNA-siLuc.bam.bai\n",
      "-rw-r--r--. 1 junhyeong junhyeong  737352902 May  6  2021 RPF-siLin28a.bam\n",
      "-rw-r--r--. 1 junhyeong junhyeong    2482768 May  6  2021 RPF-siLin28a.bam.bai\n",
      "-rw-r--r--. 1 junhyeong junhyeong 1055123479 May  6  2021 RPF-siLuc.bam\n",
      "-rw-r--r--. 1 junhyeong junhyeong    2605912 May  6  2021 RPF-siLuc.bam.bai\n"
     ]
    }
   ],
   "source": [
    "!ls -al data/binfo*"
   ]
  },
  {
   "cell_type": "markdown",
   "metadata": {
    "id": "ecEA1PPQUlIK"
   },
   "source": [
    "실습에 필요한 프로그램들 몇 가지를 추가로 설치합니다."
   ]
  },
  {
   "cell_type": "code",
   "execution_count": 2,
   "metadata": {
    "colab": {
     "base_uri": "https://localhost:8080/"
    },
    "id": "neteyWsWEKBy",
    "outputId": "3f6fb92e-076f-4157-dde4-83c52227f0d4"
   },
   "outputs": [
    {
     "name": "stdout",
     "output_type": "stream",
     "text": [
      "~/miniconda3/envs/jupyter/bin/featureCounts\n"
     ]
    }
   ],
   "source": [
    "# !conda install -y subread\n",
    "!which featureCounts"
   ]
  },
  {
   "cell_type": "markdown",
   "metadata": {
    "id": "Oe_54MZrEi4y"
   },
   "source": [
    "## Transcript count table 마련하기\n",
    "\n",
    "제공된 alignment와 annotation 파일들을 이용해서 transcript별 read count를 구해봅니다. 실제 연구에서는 multi-mapping 등을 고려해야 하지만, 여기서는 단순화해서 모두 무시합니다."
   ]
  },
  {
   "cell_type": "markdown",
   "metadata": {
    "id": "rrkL8Zl-s978"
   },
   "source": [
    "먼저 작업 디렉토리를 만들고 데이터를 원본 디렉토리에서 복사해 옵니다. (이미 이 노트북을 실행한 적이 있으면 다시 할 필요는 없습니다.)"
   ]
  },
  {
   "cell_type": "code",
   "execution_count": 3,
   "metadata": {
    "colab": {
     "base_uri": "https://localhost:8080/"
    },
    "id": "sBFlXRN0jHom",
    "outputId": "3089affd-022a-43c5-9404-15ff56e286ff"
   },
   "outputs": [
    {
     "name": "stdout",
     "output_type": "stream",
     "text": [
      "total 8\n",
      "drwxrwxr-x. 2 junhyeong junhyeong 4096 May  7 14:54 .\n",
      "drwxrwxr-x. 4 junhyeong junhyeong 4096 May  7 14:54 ..\n",
      "-rw-rw-r--. 1 junhyeong junhyeong    0 May  7 14:54 .test\n"
     ]
    }
   ],
   "source": [
    "!cd data/; mkdir cctest; touch cctest/.test; ls -al cctest/"
   ]
  },
  {
   "cell_type": "code",
   "execution_count": 4,
   "metadata": {
    "id": "0-OeqN5Vodby"
   },
   "outputs": [
    {
     "name": "stdout",
     "output_type": "stream",
     "text": [
      "rsync  version 3.1.3  protocol version 31\n",
      "Copyright (C) 1996-2018 by Andrew Tridgell, Wayne Davison, and others.\n",
      "Web site: http://rsync.samba.org/\n",
      "Capabilities:\n",
      "    64-bit files, 64-bit inums, 64-bit timestamps, 64-bit long ints,\n",
      "    socketpairs, hardlinks, symlinks, IPv6, batchfiles, inplace,\n",
      "    append, ACLs, xattrs, iconv, symtimes, prealloc\n",
      "\n",
      "rsync comes with ABSOLUTELY NO WARRANTY.  This is free software, and you\n",
      "are welcome to redistribute it under certain conditions.  See the GNU\n",
      "General Public Licence for details.\n",
      "\n",
      "rsync is a file transfer program capable of efficient remote update\n",
      "via a fast differencing algorithm.\n",
      "\n",
      "Usage: rsync [OPTION]... SRC [SRC]... DEST\n",
      "  or   rsync [OPTION]... SRC [SRC]... [USER@]HOST:DEST\n",
      "  or   rsync [OPTION]... SRC [SRC]... [USER@]HOST::DEST\n",
      "  or   rsync [OPTION]... SRC [SRC]... rsync://[USER@]HOST[:PORT]/DEST\n",
      "  or   rsync [OPTION]... [USER@]HOST:SRC [DEST]\n",
      "  or   rsync [OPTION]... [USER@]HOST::SRC [DEST]\n",
      "  or   rsync [OPTION]... rsync://[USER@]HOST[:PORT]/SRC [DEST]\n",
      "The ':' usages connect via remote shell, while '::' & 'rsync://' usages connect\n",
      "to an rsync daemon, and require SRC or DEST to start with a module name.\n",
      "\n",
      "Options\n",
      " -v, --verbose               increase verbosity\n",
      "     --info=FLAGS            fine-grained informational verbosity\n",
      "     --debug=FLAGS           fine-grained debug verbosity\n",
      "     --msgs2stderr           special output handling for debugging\n",
      " -q, --quiet                 suppress non-error messages\n",
      "     --no-motd               suppress daemon-mode MOTD (see manpage caveat)\n",
      " -c, --checksum              skip based on checksum, not mod-time & size\n",
      " -a, --archive               archive mode; equals -rlptgoD (no -H,-A,-X)\n",
      "     --no-OPTION             turn off an implied OPTION (e.g. --no-D)\n",
      " -r, --recursive             recurse into directories\n",
      " -R, --relative              use relative path names\n",
      "     --no-implied-dirs       don't send implied dirs with --relative\n",
      " -b, --backup                make backups (see --suffix & --backup-dir)\n",
      "     --backup-dir=DIR        make backups into hierarchy based in DIR\n",
      "     --suffix=SUFFIX         set backup suffix (default ~ w/o --backup-dir)\n",
      " -u, --update                skip files that are newer on the receiver\n",
      "     --inplace               update destination files in-place (SEE MAN PAGE)\n",
      "     --append                append data onto shorter files\n",
      "     --append-verify         like --append, but with old data in file checksum\n",
      " -d, --dirs                  transfer directories without recursing\n",
      " -l, --links                 copy symlinks as symlinks\n",
      " -L, --copy-links            transform symlink into referent file/dir\n",
      "     --copy-unsafe-links     only \"unsafe\" symlinks are transformed\n",
      "     --safe-links            ignore symlinks that point outside the source tree\n",
      "     --munge-links           munge symlinks to make them safer (but unusable)\n",
      " -k, --copy-dirlinks         transform symlink to a dir into referent dir\n",
      " -K, --keep-dirlinks         treat symlinked dir on receiver as dir\n",
      " -H, --hard-links            preserve hard links\n",
      " -p, --perms                 preserve permissions\n",
      " -E, --executability         preserve the file's executability\n",
      "     --chmod=CHMOD           affect file and/or directory permissions\n",
      " -A, --acls                  preserve ACLs (implies --perms)\n",
      " -X, --xattrs                preserve extended attributes\n",
      " -o, --owner                 preserve owner (super-user only)\n",
      " -g, --group                 preserve group\n",
      "     --devices               preserve device files (super-user only)\n",
      "     --copy-devices          copy device contents as regular file\n",
      "     --specials              preserve special files\n",
      " -D                          same as --devices --specials\n",
      " -t, --times                 preserve modification times\n",
      " -O, --omit-dir-times        omit directories from --times\n",
      " -J, --omit-link-times       omit symlinks from --times\n",
      "     --super                 receiver attempts super-user activities\n",
      "     --fake-super            store/recover privileged attrs using xattrs\n",
      " -S, --sparse                turn sequences of nulls into sparse blocks\n",
      "     --sparse-block=SIZE     set block size used to handle sparse files\n",
      "     --preallocate           allocate dest files before writing them\n",
      " -n, --dry-run               perform a trial run with no changes made\n",
      " -W, --whole-file            copy files whole (without delta-xfer algorithm)\n",
      "     --checksum-choice=STR   choose the checksum algorithms\n",
      " -x, --one-file-system       don't cross filesystem boundaries\n",
      " -B, --block-size=SIZE       force a fixed checksum block-size\n",
      " -e, --rsh=COMMAND           specify the remote shell to use\n",
      "     --rsync-path=PROGRAM    specify the rsync to run on the remote machine\n",
      "     --existing              skip creating new files on receiver\n",
      "     --ignore-existing       skip updating files that already exist on receiver\n",
      "     --remove-source-files   sender removes synchronized files (non-dirs)\n",
      "     --del                   an alias for --delete-during\n",
      "     --delete                delete extraneous files from destination dirs\n",
      "     --delete-before         receiver deletes before transfer, not during\n",
      "     --delete-during         receiver deletes during the transfer\n",
      "     --delete-delay          find deletions during, delete after\n",
      "     --delete-after          receiver deletes after transfer, not during\n",
      "     --delete-excluded       also delete excluded files from destination dirs\n",
      "     --ignore-missing-args   ignore missing source args without error\n",
      "     --delete-missing-args   delete missing source args from destination\n",
      "     --ignore-errors         delete even if there are I/O errors\n",
      "     --force                 force deletion of directories even if not empty\n",
      "     --max-delete=NUM        don't delete more than NUM files\n",
      "     --max-size=SIZE         don't transfer any file larger than SIZE\n",
      "     --min-size=SIZE         don't transfer any file smaller than SIZE\n",
      "     --partial               keep partially transferred files\n",
      "     --partial-dir=DIR       put a partially transferred file into DIR\n",
      "     --delay-updates         put all updated files into place at transfer's end\n",
      " -m, --prune-empty-dirs      prune empty directory chains from the file-list\n",
      "     --numeric-ids           don't map uid/gid values by user/group name\n",
      "     --usermap=STRING        custom username mapping\n",
      "     --groupmap=STRING       custom groupname mapping\n",
      "     --chown=USER:GROUP      simple username/groupname mapping\n",
      "     --timeout=SECONDS       set I/O timeout in seconds\n",
      "     --contimeout=SECONDS    set daemon connection timeout in seconds\n",
      " -I, --ignore-times          don't skip files that match in size and mod-time\n",
      " -M, --remote-option=OPTION  send OPTION to the remote side only\n",
      "     --size-only             skip files that match in size\n",
      " -@, --modify-window=NUM     set the accuracy for mod-time comparisons\n",
      " -T, --temp-dir=DIR          create temporary files in directory DIR\n",
      " -y, --fuzzy                 find similar file for basis if no dest file\n",
      "     --compare-dest=DIR      also compare destination files relative to DIR\n",
      "     --copy-dest=DIR         ... and include copies of unchanged files\n",
      "     --link-dest=DIR         hardlink to files in DIR when unchanged\n",
      " -z, --compress              compress file data during the transfer\n",
      "     --compress-level=NUM    explicitly set compression level\n",
      "     --skip-compress=LIST    skip compressing files with a suffix in LIST\n",
      " -C, --cvs-exclude           auto-ignore files the same way CVS does\n",
      " -f, --filter=RULE           add a file-filtering RULE\n",
      " -F                          same as --filter='dir-merge /.rsync-filter'\n",
      "                             repeated: --filter='- .rsync-filter'\n",
      "     --exclude=PATTERN       exclude files matching PATTERN\n",
      "     --exclude-from=FILE     read exclude patterns from FILE\n",
      "     --include=PATTERN       don't exclude files matching PATTERN\n",
      "     --include-from=FILE     read include patterns from FILE\n",
      "     --files-from=FILE       read list of source-file names from FILE\n",
      " -0, --from0                 all *-from/filter files are delimited by 0s\n",
      " -s, --protect-args          no space-splitting; only wildcard special-chars\n",
      "     --address=ADDRESS       bind address for outgoing socket to daemon\n",
      "     --port=PORT             specify double-colon alternate port number\n",
      "     --sockopts=OPTIONS      specify custom TCP options\n",
      "     --blocking-io           use blocking I/O for the remote shell\n",
      "     --stats                 give some file-transfer stats\n",
      " -8, --8-bit-output          leave high-bit chars unescaped in output\n",
      " -h, --human-readable        output numbers in a human-readable format\n",
      "     --progress              show progress during transfer\n",
      " -P                          same as --partial --progress\n",
      " -i, --itemize-changes       output a change-summary for all updates\n",
      "     --out-format=FORMAT     output updates using the specified FORMAT\n",
      "     --log-file=FILE         log what we're doing to the specified FILE\n",
      "     --log-file-format=FMT   log updates using the specified FMT\n",
      "     --password-file=FILE    read daemon-access password from FILE\n",
      "     --list-only             list the files instead of copying them\n",
      "     --bwlimit=RATE          limit socket I/O bandwidth\n",
      "     --outbuf=N|L|B          set output buffering to None, Line, or Block\n",
      "     --write-batch=FILE      write a batched update to FILE\n",
      "     --only-write-batch=FILE like --write-batch but w/o updating destination\n",
      "     --read-batch=FILE       read a batched update from FILE\n",
      "     --protocol=NUM          force an older protocol version to be used\n",
      "     --iconv=CONVERT_SPEC    request charset conversion of filenames\n",
      "     --checksum-seed=NUM     set block/file checksum seed (advanced)\n",
      " -4, --ipv4                  prefer IPv4\n",
      " -6, --ipv6                  prefer IPv6\n",
      "     --version               print version number\n",
      "(-h) --help                  show this help (-h is --help only if used alone)\n",
      "\n",
      "Use \"rsync --daemon --help\" to see the daemon-mode command-line options.\n",
      "Please see the rsync(1) and rsyncd.conf(5) man pages for full documentation.\n",
      "See http://rsync.samba.org/ for updates, bug reports, and answers\n"
     ]
    }
   ],
   "source": [
    "!rsync -h"
   ]
  },
  {
   "cell_type": "markdown",
   "metadata": {
    "id": "rFd95GWQmI6L"
   },
   "source": [
    "Colab에서 실습하시는 경우 Google Drive 환경에 따라서 간혹 `rsync`에서 에러가 날 수 있습니다. (주석 처리해 두었습니다.)\n",
    "\n",
    " 그럴 때는 `rsync`대신 `cp` 명령으로 `binfo1-datapack1`에 있는 파일들을 모두 `binfo1-work`로 옮겨서 작업하시면 됩니다. `cp` 명령도 에러가 난다면, 구글 드라이브 GUI를 이용해서 복사해도 괜찮습니다. Colab에서는 파일들을 `binfo1-work`로 꼭 옮겨 주세요. Colab 외에서 실습하시는 분들은 편한 방법대로 하시면 됩니다."
   ]
  },
  {
   "cell_type": "code",
   "execution_count": 5,
   "metadata": {
    "id": "ibYTwDaIon6b"
   },
   "outputs": [],
   "source": [
    "!mkdir -p data/binfo1-work\n",
    "# !rsync -Pav /content/drive/MyDrive/binfo1-datapack1/ /content/drive/MyDrive/binfo1-work/"
   ]
  },
  {
   "cell_type": "code",
   "execution_count": 6,
   "metadata": {
    "colab": {
     "base_uri": "https://localhost:8080/"
    },
    "id": "WJEqpSd_rgYK",
    "outputId": "b9dd93b1-23c6-4630-bfbf-e72ffe877839"
   },
   "outputs": [
    {
     "name": "stdout",
     "output_type": "stream",
     "text": [
      "/var2/Works/junhyeong/bioinfo1_project/data/binfo1-work\n"
     ]
    }
   ],
   "source": [
    "%cd data/binfo1-work"
   ]
  },
  {
   "cell_type": "code",
   "execution_count": 9,
   "metadata": {},
   "outputs": [
    {
     "data": {
      "text/plain": [
       "'/var2/Works/junhyeong/bioinfo1_project/data/binfo1-work'"
      ]
     },
     "execution_count": 9,
     "metadata": {},
     "output_type": "execute_result"
    }
   ],
   "source": [
    "%pwd"
   ]
  },
  {
   "cell_type": "code",
   "execution_count": 11,
   "metadata": {
    "id": "IPbjb8EtdjQb"
   },
   "outputs": [],
   "source": [
    "%cp -r ../binfo1-datapack1/* ./"
   ]
  },
  {
   "cell_type": "markdown",
   "metadata": {
    "id": "gudJrFYlsTun"
   },
   "source": [
    "자! bam 파일에 담긴 aligned reads와 gtf 파일에 담긴 gene annotation으로 gene별 read count를 구합니다."
   ]
  },
  {
   "cell_type": "code",
   "execution_count": 13,
   "metadata": {},
   "outputs": [],
   "source": [
    "!gzip -d gencode.gtf"
   ]
  },
  {
   "cell_type": "code",
   "execution_count": 14,
   "metadata": {
    "colab": {
     "base_uri": "https://localhost:8080/"
    },
    "id": "5OrnDxegFAip",
    "outputId": "44fcca8f-c944-4ef4-b1f3-1182f65fb0c5"
   },
   "outputs": [
    {
     "name": "stdout",
     "output_type": "stream",
     "text": [
      "\n",
      "       \u001b[44;37m ========== \u001b[0m\u001b[36m    _____ _    _ ____  _____  ______          _____  \n",
      "       \u001b[44;37m =====      \u001b[0m\u001b[36m   / ____| |  | |  _ \\|  __ \\|  ____|   /\\   |  __ \\ \n",
      "       \u001b[44;37m   =====    \u001b[0m\u001b[36m  | (___ | |  | | |_) | |__) | |__     /  \\  | |  | |\n",
      "       \u001b[44;37m     ====   \u001b[0m\u001b[36m   \\___ \\| |  | |  _ <|  _  /|  __|   / /\\ \\ | |  | |\n",
      "       \u001b[44;37m       ==== \u001b[0m\u001b[36m   ____) | |__| | |_) | | \\ \\| |____ / ____ \\| |__| |\n",
      "       \u001b[44;37m ========== \u001b[0m\u001b[36m  |_____/ \\____/|____/|_|  \\_\\______/_/    \\_\\_____/\u001b[0m\n",
      "\t  v2.1.1\n",
      "\n",
      "//==========================\u001b[36m featureCounts setting \u001b[0m===========================\\\\\n",
      "||  \u001b[0m                                                                          ||\n",
      "||             Input files : \u001b[36m6 BAM files  \u001b[0m \u001b[0m                                   ||\n",
      "||  \u001b[0m                                                                          ||\n",
      "||                           \u001b[36mCLIP-35L33G.bam\u001b[0m \u001b[0m                                 ||\n",
      "||                           \u001b[36mRNA-control.bam\u001b[0m \u001b[0m                                 ||\n",
      "||                           \u001b[36mRNA-siLin28a.bam\u001b[0m \u001b[0m                                ||\n",
      "||                           \u001b[36mRNA-siLuc.bam\u001b[0m \u001b[0m                                   ||\n",
      "||                           \u001b[36mRPF-siLin28a.bam\u001b[0m \u001b[0m                                ||\n",
      "||                           \u001b[36mRPF-siLuc.bam\u001b[0m \u001b[0m                                   ||\n",
      "||  \u001b[0m                                                                          ||\n",
      "||             Output file : \u001b[36mread-counts.txt\u001b[0m \u001b[0m                                 ||\n",
      "||                 Summary : \u001b[36mread-counts.txt.summary\u001b[0m \u001b[0m                         ||\n",
      "||              Paired-end : \u001b[36mno\u001b[0m \u001b[0m                                              ||\n",
      "||        Count read pairs : \u001b[36mno\u001b[0m \u001b[0m                                              ||\n",
      "||              Annotation : \u001b[36mgencode.gtf (GTF)\u001b[0m \u001b[0m                               ||\n",
      "||      Dir for temp files : \u001b[36m./\u001b[0m \u001b[0m                                              ||\n",
      "||  \u001b[0m                                                                          ||\n",
      "||                 Threads : \u001b[36m1\u001b[0m \u001b[0m                                               ||\n",
      "||                   Level : \u001b[36mmeta-feature level\u001b[0m \u001b[0m                              ||\n",
      "||      Multimapping reads : \u001b[36mnot counted\u001b[0m \u001b[0m                                     ||\n",
      "|| Multi-overlapping reads : \u001b[36mnot counted\u001b[0m \u001b[0m                                     ||\n",
      "||   Min overlapping bases : \u001b[36m1\u001b[0m \u001b[0m                                               ||\n",
      "||  \u001b[0m                                                                          ||\n",
      "\\\\============================================================================//\n",
      "\n",
      "//=================================\u001b[36m Running \u001b[0m==================================\\\\\n",
      "||  \u001b[0m                                                                          ||\n",
      "|| Load annotation file gencode.gtf \u001b[0m... \u001b[0m                                      ||\n",
      "||    Features : \u001b[36m841952\u001b[0m \u001b[0m                                                      ||\n",
      "||    Meta-features : \u001b[36m55359\u001b[0m \u001b[0m                                                  ||\n",
      "||    Chromosomes/contigs : \u001b[36m22\u001b[0m \u001b[0m                                               ||\n",
      "||  \u001b[0m                                                                          ||\n",
      "|| Process BAM file CLIP-35L33G.bam... \u001b[0m                                       ||\n",
      "||    Single-end reads are included. \u001b[0m                                         ||\n",
      "||    Total alignments : \u001b[36m38880853\u001b[0m \u001b[0m                                            ||\n",
      "||    Successfully assigned alignments : \u001b[36m13630945 (35.1%)\u001b[0m \u001b[0m                    ||\n",
      "||    Running time : \u001b[36m0.65 minutes\u001b[0m \u001b[0m                                            ||\n",
      "||  \u001b[0m                                                                          ||\n",
      "|| Process BAM file RNA-control.bam... \u001b[0m                                       ||\n",
      "||    Single-end reads are included. \u001b[0m                                         ||\n",
      "||    Total alignments : \u001b[36m24971058\u001b[0m \u001b[0m                                            ||\n",
      "||    Successfully assigned alignments : \u001b[36m5200836 (20.8%)\u001b[0m \u001b[0m                     ||\n",
      "||    Running time : \u001b[36m0.42 minutes\u001b[0m \u001b[0m                                            ||\n",
      "||  \u001b[0m                                                                          ||\n",
      "|| Process BAM file RNA-siLin28a.bam... \u001b[0m                                      ||\n",
      "||    Single-end reads are included. \u001b[0m                                         ||\n",
      "||    Total alignments : \u001b[36m35108178\u001b[0m \u001b[0m                                            ||\n",
      "||    Successfully assigned alignments : \u001b[36m12338280 (35.1%)\u001b[0m \u001b[0m                    ||\n",
      "||    Running time : \u001b[36m0.60 minutes\u001b[0m \u001b[0m                                            ||\n",
      "||  \u001b[0m                                                                          ||\n",
      "|| Process BAM file RNA-siLuc.bam... \u001b[0m                                         ||\n",
      "||    Single-end reads are included. \u001b[0m                                         ||\n",
      "||    Total alignments : \u001b[36m28117241\u001b[0m \u001b[0m                                            ||\n",
      "||    Successfully assigned alignments : \u001b[36m9748787 (34.7%)\u001b[0m \u001b[0m                     ||\n",
      "||    Running time : \u001b[36m0.47 minutes\u001b[0m \u001b[0m                                            ||\n",
      "||  \u001b[0m                                                                          ||\n",
      "|| Process BAM file RPF-siLin28a.bam... \u001b[0m                                      ||\n",
      "||    Single-end reads are included. \u001b[0m                                         ||\n",
      "||    Total alignments : \u001b[36m30095551\u001b[0m \u001b[0m                                            ||\n",
      "||    Successfully assigned alignments : \u001b[36m10694162 (35.5%)\u001b[0m \u001b[0m                    ||\n",
      "||    Running time : \u001b[36m0.44 minutes\u001b[0m \u001b[0m                                            ||\n",
      "||  \u001b[0m                                                                          ||\n",
      "|| Process BAM file RPF-siLuc.bam... \u001b[0m                                         ||\n",
      "||    Single-end reads are included. \u001b[0m                                         ||\n",
      "||    Total alignments : \u001b[36m42002435\u001b[0m \u001b[0m                                            ||\n",
      "||    Successfully assigned alignments : \u001b[36m12932285 (30.8%)\u001b[0m \u001b[0m                    ||\n",
      "||    Running time : \u001b[36m0.61 minutes\u001b[0m \u001b[0m                                            ||\n",
      "||  \u001b[0m                                                                          ||\n",
      "|| Write the final count table. \u001b[0m                                              ||\n",
      "|| Write the read assignment summary. \u001b[0m                                        ||\n",
      "||  \u001b[0m                                                                          ||\n",
      "|| Summary of counting results can be found in file \"read-counts.txt.summary \u001b[0m ||\n",
      "|| \" \u001b[0m                                                                         ||\n",
      "||  \u001b[0m                                                                          ||\n",
      "\\\\============================================================================//\n",
      "\n"
     ]
    }
   ],
   "source": [
    "!featureCounts -a gencode.gtf -o read-counts.txt *.bam"
   ]
  },
  {
   "cell_type": "markdown",
   "metadata": {
    "id": "b2yJztZvGl9Q"
   },
   "source": [
    "결과를 pandas로 읽어와 봅니다."
   ]
  },
  {
   "cell_type": "code",
   "execution_count": 15,
   "metadata": {
    "colab": {
     "base_uri": "https://localhost:8080/",
     "height": 238
    },
    "id": "BMyNT3ARFAWi",
    "outputId": "79a01bb3-df47-4988-fc4c-d91eddf2a3a1"
   },
   "outputs": [
    {
     "data": {
      "text/html": [
       "<div>\n",
       "<style scoped>\n",
       "    .dataframe tbody tr th:only-of-type {\n",
       "        vertical-align: middle;\n",
       "    }\n",
       "\n",
       "    .dataframe tbody tr th {\n",
       "        vertical-align: top;\n",
       "    }\n",
       "\n",
       "    .dataframe thead th {\n",
       "        text-align: right;\n",
       "    }\n",
       "</style>\n",
       "<table border=\"1\" class=\"dataframe\">\n",
       "  <thead>\n",
       "    <tr style=\"text-align: right;\">\n",
       "      <th></th>\n",
       "      <th>Chr</th>\n",
       "      <th>Start</th>\n",
       "      <th>End</th>\n",
       "      <th>Strand</th>\n",
       "      <th>Length</th>\n",
       "      <th>CLIP-35L33G.bam</th>\n",
       "      <th>RNA-control.bam</th>\n",
       "      <th>RNA-siLin28a.bam</th>\n",
       "      <th>RNA-siLuc.bam</th>\n",
       "      <th>RPF-siLin28a.bam</th>\n",
       "      <th>RPF-siLuc.bam</th>\n",
       "    </tr>\n",
       "    <tr>\n",
       "      <th>Geneid</th>\n",
       "      <th></th>\n",
       "      <th></th>\n",
       "      <th></th>\n",
       "      <th></th>\n",
       "      <th></th>\n",
       "      <th></th>\n",
       "      <th></th>\n",
       "      <th></th>\n",
       "      <th></th>\n",
       "      <th></th>\n",
       "      <th></th>\n",
       "    </tr>\n",
       "  </thead>\n",
       "  <tbody>\n",
       "    <tr>\n",
       "      <th>ENSMUSG00000102693.2</th>\n",
       "      <td>chr1</td>\n",
       "      <td>3143476</td>\n",
       "      <td>3144545</td>\n",
       "      <td>+</td>\n",
       "      <td>1070</td>\n",
       "      <td>0</td>\n",
       "      <td>0</td>\n",
       "      <td>0</td>\n",
       "      <td>0</td>\n",
       "      <td>0</td>\n",
       "      <td>0</td>\n",
       "    </tr>\n",
       "    <tr>\n",
       "      <th>ENSMUSG00000064842.3</th>\n",
       "      <td>chr1</td>\n",
       "      <td>3172239</td>\n",
       "      <td>3172348</td>\n",
       "      <td>+</td>\n",
       "      <td>110</td>\n",
       "      <td>0</td>\n",
       "      <td>0</td>\n",
       "      <td>0</td>\n",
       "      <td>0</td>\n",
       "      <td>0</td>\n",
       "      <td>0</td>\n",
       "    </tr>\n",
       "    <tr>\n",
       "      <th>ENSMUSG00000051951.6</th>\n",
       "      <td>chr1;chr1;chr1;chr1;chr1;chr1;chr1</td>\n",
       "      <td>3276124;3276746;3283662;3283832;3284705;349192...</td>\n",
       "      <td>3277540;3277540;3285855;3286567;3287191;349212...</td>\n",
       "      <td>-;-;-;-;-;-;-</td>\n",
       "      <td>6094</td>\n",
       "      <td>4</td>\n",
       "      <td>1</td>\n",
       "      <td>1</td>\n",
       "      <td>1</td>\n",
       "      <td>0</td>\n",
       "      <td>0</td>\n",
       "    </tr>\n",
       "    <tr>\n",
       "      <th>ENSMUSG00000102851.2</th>\n",
       "      <td>chr1</td>\n",
       "      <td>3322980</td>\n",
       "      <td>3323459</td>\n",
       "      <td>+</td>\n",
       "      <td>480</td>\n",
       "      <td>3</td>\n",
       "      <td>0</td>\n",
       "      <td>0</td>\n",
       "      <td>0</td>\n",
       "      <td>0</td>\n",
       "      <td>0</td>\n",
       "    </tr>\n",
       "    <tr>\n",
       "      <th>ENSMUSG00000103377.2</th>\n",
       "      <td>chr1</td>\n",
       "      <td>3435954</td>\n",
       "      <td>3438772</td>\n",
       "      <td>-</td>\n",
       "      <td>2819</td>\n",
       "      <td>0</td>\n",
       "      <td>0</td>\n",
       "      <td>0</td>\n",
       "      <td>0</td>\n",
       "      <td>0</td>\n",
       "      <td>0</td>\n",
       "    </tr>\n",
       "  </tbody>\n",
       "</table>\n",
       "</div>"
      ],
      "text/plain": [
       "                                                     Chr  \\\n",
       "Geneid                                                     \n",
       "ENSMUSG00000102693.2                                chr1   \n",
       "ENSMUSG00000064842.3                                chr1   \n",
       "ENSMUSG00000051951.6  chr1;chr1;chr1;chr1;chr1;chr1;chr1   \n",
       "ENSMUSG00000102851.2                                chr1   \n",
       "ENSMUSG00000103377.2                                chr1   \n",
       "\n",
       "                                                                  Start  \\\n",
       "Geneid                                                                    \n",
       "ENSMUSG00000102693.2                                            3143476   \n",
       "ENSMUSG00000064842.3                                            3172239   \n",
       "ENSMUSG00000051951.6  3276124;3276746;3283662;3283832;3284705;349192...   \n",
       "ENSMUSG00000102851.2                                            3322980   \n",
       "ENSMUSG00000103377.2                                            3435954   \n",
       "\n",
       "                                                                    End  \\\n",
       "Geneid                                                                    \n",
       "ENSMUSG00000102693.2                                            3144545   \n",
       "ENSMUSG00000064842.3                                            3172348   \n",
       "ENSMUSG00000051951.6  3277540;3277540;3285855;3286567;3287191;349212...   \n",
       "ENSMUSG00000102851.2                                            3323459   \n",
       "ENSMUSG00000103377.2                                            3438772   \n",
       "\n",
       "                             Strand  Length  CLIP-35L33G.bam  RNA-control.bam  \\\n",
       "Geneid                                                                          \n",
       "ENSMUSG00000102693.2              +    1070                0                0   \n",
       "ENSMUSG00000064842.3              +     110                0                0   \n",
       "ENSMUSG00000051951.6  -;-;-;-;-;-;-    6094                4                1   \n",
       "ENSMUSG00000102851.2              +     480                3                0   \n",
       "ENSMUSG00000103377.2              -    2819                0                0   \n",
       "\n",
       "                      RNA-siLin28a.bam  RNA-siLuc.bam  RPF-siLin28a.bam  \\\n",
       "Geneid                                                                    \n",
       "ENSMUSG00000102693.2                 0              0                 0   \n",
       "ENSMUSG00000064842.3                 0              0                 0   \n",
       "ENSMUSG00000051951.6                 1              1                 0   \n",
       "ENSMUSG00000102851.2                 0              0                 0   \n",
       "ENSMUSG00000103377.2                 0              0                 0   \n",
       "\n",
       "                      RPF-siLuc.bam  \n",
       "Geneid                               \n",
       "ENSMUSG00000102693.2              0  \n",
       "ENSMUSG00000064842.3              0  \n",
       "ENSMUSG00000051951.6              0  \n",
       "ENSMUSG00000102851.2              0  \n",
       "ENSMUSG00000103377.2              0  "
      ]
     },
     "execution_count": 15,
     "metadata": {},
     "output_type": "execute_result"
    }
   ],
   "source": [
    "import pandas as pd\n",
    "cnts = pd.read_csv('read-counts.txt', sep='\\t', comment='#', index_col=0)\n",
    "cnts.head()"
   ]
  },
  {
   "cell_type": "markdown",
   "metadata": {
    "id": "NyrUZ7WBPAmv"
   },
   "source": [
    "이제 한 번 대충 그림을 그려 봅니다."
   ]
  },
  {
   "cell_type": "code",
   "execution_count": 16,
   "metadata": {
    "colab": {
     "base_uri": "https://localhost:8080/",
     "height": 255
    },
    "id": "YlSZiJgVPAZS",
    "outputId": "28d61b7c-267e-4cf0-c791-69cc7ede63ae"
   },
   "outputs": [
    {
     "data": {
      "text/html": [
       "<div>\n",
       "<style scoped>\n",
       "    .dataframe tbody tr th:only-of-type {\n",
       "        vertical-align: middle;\n",
       "    }\n",
       "\n",
       "    .dataframe tbody tr th {\n",
       "        vertical-align: top;\n",
       "    }\n",
       "\n",
       "    .dataframe thead th {\n",
       "        text-align: right;\n",
       "    }\n",
       "</style>\n",
       "<table border=\"1\" class=\"dataframe\">\n",
       "  <thead>\n",
       "    <tr style=\"text-align: right;\">\n",
       "      <th></th>\n",
       "      <th>Chr</th>\n",
       "      <th>Start</th>\n",
       "      <th>End</th>\n",
       "      <th>Strand</th>\n",
       "      <th>Length</th>\n",
       "      <th>CLIP-35L33G.bam</th>\n",
       "      <th>RNA-control.bam</th>\n",
       "      <th>RNA-siLin28a.bam</th>\n",
       "      <th>RNA-siLuc.bam</th>\n",
       "      <th>RPF-siLin28a.bam</th>\n",
       "      <th>RPF-siLuc.bam</th>\n",
       "      <th>clip_enrichment</th>\n",
       "      <th>rden_change</th>\n",
       "    </tr>\n",
       "    <tr>\n",
       "      <th>Geneid</th>\n",
       "      <th></th>\n",
       "      <th></th>\n",
       "      <th></th>\n",
       "      <th></th>\n",
       "      <th></th>\n",
       "      <th></th>\n",
       "      <th></th>\n",
       "      <th></th>\n",
       "      <th></th>\n",
       "      <th></th>\n",
       "      <th></th>\n",
       "      <th></th>\n",
       "      <th></th>\n",
       "    </tr>\n",
       "  </thead>\n",
       "  <tbody>\n",
       "    <tr>\n",
       "      <th>ENSMUSG00000102693.2</th>\n",
       "      <td>chr1</td>\n",
       "      <td>3143476</td>\n",
       "      <td>3144545</td>\n",
       "      <td>+</td>\n",
       "      <td>1070</td>\n",
       "      <td>0</td>\n",
       "      <td>0</td>\n",
       "      <td>0</td>\n",
       "      <td>0</td>\n",
       "      <td>0</td>\n",
       "      <td>0</td>\n",
       "      <td>NaN</td>\n",
       "      <td>NaN</td>\n",
       "    </tr>\n",
       "    <tr>\n",
       "      <th>ENSMUSG00000064842.3</th>\n",
       "      <td>chr1</td>\n",
       "      <td>3172239</td>\n",
       "      <td>3172348</td>\n",
       "      <td>+</td>\n",
       "      <td>110</td>\n",
       "      <td>0</td>\n",
       "      <td>0</td>\n",
       "      <td>0</td>\n",
       "      <td>0</td>\n",
       "      <td>0</td>\n",
       "      <td>0</td>\n",
       "      <td>NaN</td>\n",
       "      <td>NaN</td>\n",
       "    </tr>\n",
       "    <tr>\n",
       "      <th>ENSMUSG00000051951.6</th>\n",
       "      <td>chr1;chr1;chr1;chr1;chr1;chr1;chr1</td>\n",
       "      <td>3276124;3276746;3283662;3283832;3284705;349192...</td>\n",
       "      <td>3277540;3277540;3285855;3286567;3287191;349212...</td>\n",
       "      <td>-;-;-;-;-;-;-</td>\n",
       "      <td>6094</td>\n",
       "      <td>4</td>\n",
       "      <td>1</td>\n",
       "      <td>1</td>\n",
       "      <td>1</td>\n",
       "      <td>0</td>\n",
       "      <td>0</td>\n",
       "      <td>4.0</td>\n",
       "      <td>NaN</td>\n",
       "    </tr>\n",
       "    <tr>\n",
       "      <th>ENSMUSG00000102851.2</th>\n",
       "      <td>chr1</td>\n",
       "      <td>3322980</td>\n",
       "      <td>3323459</td>\n",
       "      <td>+</td>\n",
       "      <td>480</td>\n",
       "      <td>3</td>\n",
       "      <td>0</td>\n",
       "      <td>0</td>\n",
       "      <td>0</td>\n",
       "      <td>0</td>\n",
       "      <td>0</td>\n",
       "      <td>inf</td>\n",
       "      <td>NaN</td>\n",
       "    </tr>\n",
       "    <tr>\n",
       "      <th>ENSMUSG00000103377.2</th>\n",
       "      <td>chr1</td>\n",
       "      <td>3435954</td>\n",
       "      <td>3438772</td>\n",
       "      <td>-</td>\n",
       "      <td>2819</td>\n",
       "      <td>0</td>\n",
       "      <td>0</td>\n",
       "      <td>0</td>\n",
       "      <td>0</td>\n",
       "      <td>0</td>\n",
       "      <td>0</td>\n",
       "      <td>NaN</td>\n",
       "      <td>NaN</td>\n",
       "    </tr>\n",
       "  </tbody>\n",
       "</table>\n",
       "</div>"
      ],
      "text/plain": [
       "                                                     Chr  \\\n",
       "Geneid                                                     \n",
       "ENSMUSG00000102693.2                                chr1   \n",
       "ENSMUSG00000064842.3                                chr1   \n",
       "ENSMUSG00000051951.6  chr1;chr1;chr1;chr1;chr1;chr1;chr1   \n",
       "ENSMUSG00000102851.2                                chr1   \n",
       "ENSMUSG00000103377.2                                chr1   \n",
       "\n",
       "                                                                  Start  \\\n",
       "Geneid                                                                    \n",
       "ENSMUSG00000102693.2                                            3143476   \n",
       "ENSMUSG00000064842.3                                            3172239   \n",
       "ENSMUSG00000051951.6  3276124;3276746;3283662;3283832;3284705;349192...   \n",
       "ENSMUSG00000102851.2                                            3322980   \n",
       "ENSMUSG00000103377.2                                            3435954   \n",
       "\n",
       "                                                                    End  \\\n",
       "Geneid                                                                    \n",
       "ENSMUSG00000102693.2                                            3144545   \n",
       "ENSMUSG00000064842.3                                            3172348   \n",
       "ENSMUSG00000051951.6  3277540;3277540;3285855;3286567;3287191;349212...   \n",
       "ENSMUSG00000102851.2                                            3323459   \n",
       "ENSMUSG00000103377.2                                            3438772   \n",
       "\n",
       "                             Strand  Length  CLIP-35L33G.bam  RNA-control.bam  \\\n",
       "Geneid                                                                          \n",
       "ENSMUSG00000102693.2              +    1070                0                0   \n",
       "ENSMUSG00000064842.3              +     110                0                0   \n",
       "ENSMUSG00000051951.6  -;-;-;-;-;-;-    6094                4                1   \n",
       "ENSMUSG00000102851.2              +     480                3                0   \n",
       "ENSMUSG00000103377.2              -    2819                0                0   \n",
       "\n",
       "                      RNA-siLin28a.bam  RNA-siLuc.bam  RPF-siLin28a.bam  \\\n",
       "Geneid                                                                    \n",
       "ENSMUSG00000102693.2                 0              0                 0   \n",
       "ENSMUSG00000064842.3                 0              0                 0   \n",
       "ENSMUSG00000051951.6                 1              1                 0   \n",
       "ENSMUSG00000102851.2                 0              0                 0   \n",
       "ENSMUSG00000103377.2                 0              0                 0   \n",
       "\n",
       "                      RPF-siLuc.bam  clip_enrichment  rden_change  \n",
       "Geneid                                                             \n",
       "ENSMUSG00000102693.2              0              NaN          NaN  \n",
       "ENSMUSG00000064842.3              0              NaN          NaN  \n",
       "ENSMUSG00000051951.6              0              4.0          NaN  \n",
       "ENSMUSG00000102851.2              0              inf          NaN  \n",
       "ENSMUSG00000103377.2              0              NaN          NaN  "
      ]
     },
     "execution_count": 16,
     "metadata": {},
     "output_type": "execute_result"
    }
   ],
   "source": [
    "cnts['clip_enrichment'] = cnts['CLIP-35L33G.bam'] / cnts['RNA-control.bam']\n",
    "cnts['rden_change'] = (cnts['RPF-siLin28a.bam'] / cnts['RNA-siLin28a.bam']) / (cnts['RPF-siLuc.bam'] / cnts['RNA-siLuc.bam'])\n",
    "cnts.head()"
   ]
  },
  {
   "cell_type": "code",
   "execution_count": 17,
   "metadata": {
    "colab": {
     "base_uri": "https://localhost:8080/",
     "height": 499
    },
    "id": "vU3ce_HEFALl",
    "outputId": "7b193ffa-a6ce-4b7f-cf4f-a731baa57d8b"
   },
   "outputs": [
    {
     "ename": "ModuleNotFoundError",
     "evalue": "No module named 'matplotlib'",
     "output_type": "error",
     "traceback": [
      "\u001b[0;31m---------------------------------------------------------------------------\u001b[0m",
      "\u001b[0;31mModuleNotFoundError\u001b[0m                       Traceback (most recent call last)",
      "Cell \u001b[0;32mIn[17], line 1\u001b[0m\n\u001b[0;32m----> 1\u001b[0m \u001b[38;5;28;01mfrom\u001b[39;00m\u001b[38;5;250m \u001b[39m\u001b[38;5;21;01mmatplotlib\u001b[39;00m\u001b[38;5;250m \u001b[39m\u001b[38;5;28;01mimport\u001b[39;00m pyplot \u001b[38;5;28;01mas\u001b[39;00m plt\n\u001b[1;32m      2\u001b[0m \u001b[38;5;28;01mimport\u001b[39;00m\u001b[38;5;250m \u001b[39m\u001b[38;5;21;01mnumpy\u001b[39;00m\u001b[38;5;250m \u001b[39m\u001b[38;5;28;01mas\u001b[39;00m\u001b[38;5;250m \u001b[39m\u001b[38;5;21;01mnp\u001b[39;00m\n\u001b[1;32m      4\u001b[0m fig, ax \u001b[38;5;241m=\u001b[39m plt\u001b[38;5;241m.\u001b[39msubplots(\u001b[38;5;241m1\u001b[39m, \u001b[38;5;241m1\u001b[39m, figsize\u001b[38;5;241m=\u001b[39m(\u001b[38;5;241m5\u001b[39m, \u001b[38;5;241m5\u001b[39m))\n",
      "\u001b[0;31mModuleNotFoundError\u001b[0m: No module named 'matplotlib'"
     ]
    }
   ],
   "source": [
    "from matplotlib import pyplot as plt\n",
    "import numpy as np\n",
    "\n",
    "fig, ax = plt.subplots(1, 1, figsize=(5, 5))\n",
    "ax.scatter(np.log2(cnts['clip_enrichment']),\n",
    "           np.log2(cnts['rden_change']))"
   ]
  },
  {
   "cell_type": "markdown",
   "metadata": {
    "id": "ksVjIL10mV_v"
   },
   "source": [
    "이 그림에는 문제가 많이 있습니다. 논문의 그림 Figure 4D처럼 한 번 만들어 봅시다~"
   ]
  },
  {
   "cell_type": "code",
   "execution_count": null,
   "metadata": {
    "id": "RZ-EV3s5X3u5"
   },
   "outputs": [],
   "source": [
    "# 여기에 코드를 새로 작성해서 논문의 그림과 비슷하게 만들어 봅니다."
   ]
  },
  {
   "cell_type": "markdown",
   "metadata": {
    "id": "sf6EJJ60Qbxg"
   },
   "source": [
    "## Protein localization 반영하기\n",
    "\n",
    "논문 그림(Figure 5B, S6A)에서는 protein localization을 반영해서 색으로 나타냈습니다. 이것을 한 번 구현해 봅시다. 각 gene product의 localization을 따로 구하려면 좀 귀찮기 때문에 미리 모아 두었습니다. UniProt에서 매핑된 데이터를 토대로 아주 명확한 것만 일부 정리한 것입니다. 이것도 마찬가지로 처음엔 에러가 나기도 하니까, 다시 실행해보면 거의 잘 됩니다~"
   ]
  },
  {
   "cell_type": "code",
   "execution_count": 14,
   "metadata": {
    "colab": {
     "base_uri": "https://localhost:8080/",
     "height": 206
    },
    "id": "ivb1q7_f-gl4",
    "outputId": "1ee2646a-f5c5-4f74-e43c-ea246aa86b46"
   },
   "outputs": [
    {
     "data": {
      "application/vnd.google.colaboratory.intrinsic+json": {
       "summary": "{\n  \"name\": \"mouselocal\",\n  \"rows\": 9523,\n  \"fields\": [\n    {\n      \"column\": \"gene_id\",\n      \"properties\": {\n        \"dtype\": \"string\",\n        \"num_unique_values\": 9414,\n        \"samples\": [\n          \"ENSMUSG00000063065\",\n          \"ENSMUSG00000026586\",\n          \"ENSMUSG00000096068\"\n        ],\n        \"semantic_type\": \"\",\n        \"description\": \"\"\n      }\n    },\n    {\n      \"column\": \"Gene names\",\n      \"properties\": {\n        \"dtype\": \"string\",\n        \"num_unique_values\": 9304,\n        \"samples\": [\n          \"Lats1 Warts\",\n          \"Pla2g4f\",\n          \"Uhmk1 Kis Kist\"\n        ],\n        \"semantic_type\": \"\",\n        \"description\": \"\"\n      }\n    },\n    {\n      \"column\": \"type\",\n      \"properties\": {\n        \"dtype\": \"category\",\n        \"num_unique_values\": 3,\n        \"samples\": [\n          \"cytoplasm\",\n          \"nucleus\",\n          \"integral membrane\"\n        ],\n        \"semantic_type\": \"\",\n        \"description\": \"\"\n      }\n    }\n  ]\n}",
       "type": "dataframe",
       "variable_name": "mouselocal"
      },
      "text/html": [
       "\n",
       "  <div id=\"df-c33464ac-1bbb-40c9-ab7a-905c0c6a8ddc\" class=\"colab-df-container\">\n",
       "    <div>\n",
       "<style scoped>\n",
       "    .dataframe tbody tr th:only-of-type {\n",
       "        vertical-align: middle;\n",
       "    }\n",
       "\n",
       "    .dataframe tbody tr th {\n",
       "        vertical-align: top;\n",
       "    }\n",
       "\n",
       "    .dataframe thead th {\n",
       "        text-align: right;\n",
       "    }\n",
       "</style>\n",
       "<table border=\"1\" class=\"dataframe\">\n",
       "  <thead>\n",
       "    <tr style=\"text-align: right;\">\n",
       "      <th></th>\n",
       "      <th>gene_id</th>\n",
       "      <th>Gene names</th>\n",
       "      <th>type</th>\n",
       "    </tr>\n",
       "  </thead>\n",
       "  <tbody>\n",
       "    <tr>\n",
       "      <th>0</th>\n",
       "      <td>ENSMUSG00000000001</td>\n",
       "      <td>Gnai3</td>\n",
       "      <td>cytoplasm</td>\n",
       "    </tr>\n",
       "    <tr>\n",
       "      <th>1</th>\n",
       "      <td>ENSMUSG00000000028</td>\n",
       "      <td>Cdc45 Cdc45l Cdc45l2</td>\n",
       "      <td>nucleus</td>\n",
       "    </tr>\n",
       "    <tr>\n",
       "      <th>2</th>\n",
       "      <td>ENSMUSG00000000049</td>\n",
       "      <td>Apoh B2gp1</td>\n",
       "      <td>cytoplasm</td>\n",
       "    </tr>\n",
       "    <tr>\n",
       "      <th>3</th>\n",
       "      <td>ENSMUSG00000000058</td>\n",
       "      <td>Cav2</td>\n",
       "      <td>cytoplasm</td>\n",
       "    </tr>\n",
       "    <tr>\n",
       "      <th>4</th>\n",
       "      <td>ENSMUSG00000000085</td>\n",
       "      <td>Scmh1</td>\n",
       "      <td>nucleus</td>\n",
       "    </tr>\n",
       "  </tbody>\n",
       "</table>\n",
       "</div>\n",
       "    <div class=\"colab-df-buttons\">\n",
       "\n",
       "  <div class=\"colab-df-container\">\n",
       "    <button class=\"colab-df-convert\" onclick=\"convertToInteractive('df-c33464ac-1bbb-40c9-ab7a-905c0c6a8ddc')\"\n",
       "            title=\"Convert this dataframe to an interactive table.\"\n",
       "            style=\"display:none;\">\n",
       "\n",
       "  <svg xmlns=\"http://www.w3.org/2000/svg\" height=\"24px\" viewBox=\"0 -960 960 960\">\n",
       "    <path d=\"M120-120v-720h720v720H120Zm60-500h600v-160H180v160Zm220 220h160v-160H400v160Zm0 220h160v-160H400v160ZM180-400h160v-160H180v160Zm440 0h160v-160H620v160ZM180-180h160v-160H180v160Zm440 0h160v-160H620v160Z\"/>\n",
       "  </svg>\n",
       "    </button>\n",
       "\n",
       "  <style>\n",
       "    .colab-df-container {\n",
       "      display:flex;\n",
       "      gap: 12px;\n",
       "    }\n",
       "\n",
       "    .colab-df-convert {\n",
       "      background-color: #E8F0FE;\n",
       "      border: none;\n",
       "      border-radius: 50%;\n",
       "      cursor: pointer;\n",
       "      display: none;\n",
       "      fill: #1967D2;\n",
       "      height: 32px;\n",
       "      padding: 0 0 0 0;\n",
       "      width: 32px;\n",
       "    }\n",
       "\n",
       "    .colab-df-convert:hover {\n",
       "      background-color: #E2EBFA;\n",
       "      box-shadow: 0px 1px 2px rgba(60, 64, 67, 0.3), 0px 1px 3px 1px rgba(60, 64, 67, 0.15);\n",
       "      fill: #174EA6;\n",
       "    }\n",
       "\n",
       "    .colab-df-buttons div {\n",
       "      margin-bottom: 4px;\n",
       "    }\n",
       "\n",
       "    [theme=dark] .colab-df-convert {\n",
       "      background-color: #3B4455;\n",
       "      fill: #D2E3FC;\n",
       "    }\n",
       "\n",
       "    [theme=dark] .colab-df-convert:hover {\n",
       "      background-color: #434B5C;\n",
       "      box-shadow: 0px 1px 3px 1px rgba(0, 0, 0, 0.15);\n",
       "      filter: drop-shadow(0px 1px 2px rgba(0, 0, 0, 0.3));\n",
       "      fill: #FFFFFF;\n",
       "    }\n",
       "  </style>\n",
       "\n",
       "    <script>\n",
       "      const buttonEl =\n",
       "        document.querySelector('#df-c33464ac-1bbb-40c9-ab7a-905c0c6a8ddc button.colab-df-convert');\n",
       "      buttonEl.style.display =\n",
       "        google.colab.kernel.accessAllowed ? 'block' : 'none';\n",
       "\n",
       "      async function convertToInteractive(key) {\n",
       "        const element = document.querySelector('#df-c33464ac-1bbb-40c9-ab7a-905c0c6a8ddc');\n",
       "        const dataTable =\n",
       "          await google.colab.kernel.invokeFunction('convertToInteractive',\n",
       "                                                    [key], {});\n",
       "        if (!dataTable) return;\n",
       "\n",
       "        const docLinkHtml = 'Like what you see? Visit the ' +\n",
       "          '<a target=\"_blank\" href=https://colab.research.google.com/notebooks/data_table.ipynb>data table notebook</a>'\n",
       "          + ' to learn more about interactive tables.';\n",
       "        element.innerHTML = '';\n",
       "        dataTable['output_type'] = 'display_data';\n",
       "        await google.colab.output.renderOutput(dataTable, element);\n",
       "        const docLink = document.createElement('div');\n",
       "        docLink.innerHTML = docLinkHtml;\n",
       "        element.appendChild(docLink);\n",
       "      }\n",
       "    </script>\n",
       "  </div>\n",
       "\n",
       "\n",
       "    <div id=\"df-aab6d680-3320-420a-afa2-a9dc3a011ece\">\n",
       "      <button class=\"colab-df-quickchart\" onclick=\"quickchart('df-aab6d680-3320-420a-afa2-a9dc3a011ece')\"\n",
       "                title=\"Suggest charts\"\n",
       "                style=\"display:none;\">\n",
       "\n",
       "<svg xmlns=\"http://www.w3.org/2000/svg\" height=\"24px\"viewBox=\"0 0 24 24\"\n",
       "     width=\"24px\">\n",
       "    <g>\n",
       "        <path d=\"M19 3H5c-1.1 0-2 .9-2 2v14c0 1.1.9 2 2 2h14c1.1 0 2-.9 2-2V5c0-1.1-.9-2-2-2zM9 17H7v-7h2v7zm4 0h-2V7h2v10zm4 0h-2v-4h2v4z\"/>\n",
       "    </g>\n",
       "</svg>\n",
       "      </button>\n",
       "\n",
       "<style>\n",
       "  .colab-df-quickchart {\n",
       "      --bg-color: #E8F0FE;\n",
       "      --fill-color: #1967D2;\n",
       "      --hover-bg-color: #E2EBFA;\n",
       "      --hover-fill-color: #174EA6;\n",
       "      --disabled-fill-color: #AAA;\n",
       "      --disabled-bg-color: #DDD;\n",
       "  }\n",
       "\n",
       "  [theme=dark] .colab-df-quickchart {\n",
       "      --bg-color: #3B4455;\n",
       "      --fill-color: #D2E3FC;\n",
       "      --hover-bg-color: #434B5C;\n",
       "      --hover-fill-color: #FFFFFF;\n",
       "      --disabled-bg-color: #3B4455;\n",
       "      --disabled-fill-color: #666;\n",
       "  }\n",
       "\n",
       "  .colab-df-quickchart {\n",
       "    background-color: var(--bg-color);\n",
       "    border: none;\n",
       "    border-radius: 50%;\n",
       "    cursor: pointer;\n",
       "    display: none;\n",
       "    fill: var(--fill-color);\n",
       "    height: 32px;\n",
       "    padding: 0;\n",
       "    width: 32px;\n",
       "  }\n",
       "\n",
       "  .colab-df-quickchart:hover {\n",
       "    background-color: var(--hover-bg-color);\n",
       "    box-shadow: 0 1px 2px rgba(60, 64, 67, 0.3), 0 1px 3px 1px rgba(60, 64, 67, 0.15);\n",
       "    fill: var(--button-hover-fill-color);\n",
       "  }\n",
       "\n",
       "  .colab-df-quickchart-complete:disabled,\n",
       "  .colab-df-quickchart-complete:disabled:hover {\n",
       "    background-color: var(--disabled-bg-color);\n",
       "    fill: var(--disabled-fill-color);\n",
       "    box-shadow: none;\n",
       "  }\n",
       "\n",
       "  .colab-df-spinner {\n",
       "    border: 2px solid var(--fill-color);\n",
       "    border-color: transparent;\n",
       "    border-bottom-color: var(--fill-color);\n",
       "    animation:\n",
       "      spin 1s steps(1) infinite;\n",
       "  }\n",
       "\n",
       "  @keyframes spin {\n",
       "    0% {\n",
       "      border-color: transparent;\n",
       "      border-bottom-color: var(--fill-color);\n",
       "      border-left-color: var(--fill-color);\n",
       "    }\n",
       "    20% {\n",
       "      border-color: transparent;\n",
       "      border-left-color: var(--fill-color);\n",
       "      border-top-color: var(--fill-color);\n",
       "    }\n",
       "    30% {\n",
       "      border-color: transparent;\n",
       "      border-left-color: var(--fill-color);\n",
       "      border-top-color: var(--fill-color);\n",
       "      border-right-color: var(--fill-color);\n",
       "    }\n",
       "    40% {\n",
       "      border-color: transparent;\n",
       "      border-right-color: var(--fill-color);\n",
       "      border-top-color: var(--fill-color);\n",
       "    }\n",
       "    60% {\n",
       "      border-color: transparent;\n",
       "      border-right-color: var(--fill-color);\n",
       "    }\n",
       "    80% {\n",
       "      border-color: transparent;\n",
       "      border-right-color: var(--fill-color);\n",
       "      border-bottom-color: var(--fill-color);\n",
       "    }\n",
       "    90% {\n",
       "      border-color: transparent;\n",
       "      border-bottom-color: var(--fill-color);\n",
       "    }\n",
       "  }\n",
       "</style>\n",
       "\n",
       "      <script>\n",
       "        async function quickchart(key) {\n",
       "          const quickchartButtonEl =\n",
       "            document.querySelector('#' + key + ' button');\n",
       "          quickchartButtonEl.disabled = true;  // To prevent multiple clicks.\n",
       "          quickchartButtonEl.classList.add('colab-df-spinner');\n",
       "          try {\n",
       "            const charts = await google.colab.kernel.invokeFunction(\n",
       "                'suggestCharts', [key], {});\n",
       "          } catch (error) {\n",
       "            console.error('Error during call to suggestCharts:', error);\n",
       "          }\n",
       "          quickchartButtonEl.classList.remove('colab-df-spinner');\n",
       "          quickchartButtonEl.classList.add('colab-df-quickchart-complete');\n",
       "        }\n",
       "        (() => {\n",
       "          let quickchartButtonEl =\n",
       "            document.querySelector('#df-aab6d680-3320-420a-afa2-a9dc3a011ece button');\n",
       "          quickchartButtonEl.style.display =\n",
       "            google.colab.kernel.accessAllowed ? 'block' : 'none';\n",
       "        })();\n",
       "      </script>\n",
       "    </div>\n",
       "\n",
       "    </div>\n",
       "  </div>\n"
      ],
      "text/plain": [
       "              gene_id            Gene names       type\n",
       "0  ENSMUSG00000000001                 Gnai3  cytoplasm\n",
       "1  ENSMUSG00000000028  Cdc45 Cdc45l Cdc45l2    nucleus\n",
       "2  ENSMUSG00000000049            Apoh B2gp1  cytoplasm\n",
       "3  ENSMUSG00000000058                  Cav2  cytoplasm\n",
       "4  ENSMUSG00000000085                 Scmh1    nucleus"
      ]
     },
     "execution_count": 14,
     "metadata": {},
     "output_type": "execute_result"
    }
   ],
   "source": [
    "import ssl\n",
    "ssl._create_default_https_context = ssl._create_unverified_context\n",
    "mouselocal = pd.read_csv('https://hyeshik.qbio.io/binfo/mouselocalization-20210507.txt', sep='\\t')\n",
    "mouselocal.head()"
   ]
  },
  {
   "cell_type": "markdown",
   "metadata": {
    "id": "Q9vgSzeiQxDU"
   },
   "source": [
    "이제 이 localization 데이터와 위에서 만든 scatter를 결합해서 논문 그림과 비슷하게 만들어 봅시다."
   ]
  },
  {
   "cell_type": "code",
   "execution_count": null,
   "metadata": {
    "id": "aPPW73t4X3pp"
   },
   "outputs": [],
   "source": [
    "# 여기에 새로 코드를 작성해서 논문 그림과 비슷하게 만들어 봅시다."
   ]
  }
 ],
 "metadata": {
  "colab": {
   "provenance": []
  },
  "kernelspec": {
   "display_name": "Python 3 (ipykernel)",
   "language": "python",
   "name": "python3"
  },
  "language_info": {
   "codemirror_mode": {
    "name": "ipython",
    "version": 3
   },
   "file_extension": ".py",
   "mimetype": "text/x-python",
   "name": "python",
   "nbconvert_exporter": "python",
   "pygments_lexer": "ipython3",
   "version": "3.13.1"
  }
 },
 "nbformat": 4,
 "nbformat_minor": 4
}
