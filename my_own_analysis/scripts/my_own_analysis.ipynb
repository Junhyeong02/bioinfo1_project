{
 "cells": [
  {
   "cell_type": "markdown",
   "id": "63864f05-23ea-423d-9397-da704b238473",
   "metadata": {},
   "source": [
    "# 1. 데이터 다운로드"
   ]
  },
  {
   "cell_type": "code",
   "execution_count": 2,
   "id": "27795b72-8b41-4c2e-a707-ca40cc914e3c",
   "metadata": {},
   "outputs": [],
   "source": [
    "!mkdir -p ../data/moa-work"
   ]
  },
  {
   "cell_type": "code",
   "execution_count": 3,
   "id": "9498a79b-f4dd-4a3a-847d-d28cca14d505",
   "metadata": {},
   "outputs": [
    {
     "name": "stdout",
     "output_type": "stream",
     "text": [
      "/var2/Works/junhyeong/bioinfo1_project/my_own_analysis/data/moa-work\n"
     ]
    },
    {
     "name": "stderr",
     "output_type": "stream",
     "text": [
      "/home/junhyeong/miniconda3/envs/biopython-env/lib/python3.13/site-packages/IPython/core/magics/osm.py:417: UserWarning: This is now an optional IPython functionality, setting dhist requires you to install the `pickleshare` library.\n",
      "  self.shell.db['dhist'] = compress_dhist(dhist)[-100:]\n"
     ]
    }
   ],
   "source": [
    "%cd ../data/moa-work"
   ]
  },
  {
   "cell_type": "code",
   "execution_count": 4,
   "id": "92174d9d-1fc5-479a-b648-f311d504dadd",
   "metadata": {},
   "outputs": [],
   "source": [
    "%cp -r ../moa-eclip/* ./"
   ]
  },
  {
   "cell_type": "code",
   "execution_count": 5,
   "id": "ad774063-c4cf-4263-adc8-1a552501a73b",
   "metadata": {},
   "outputs": [],
   "source": [
    "!gzip -d *.gz"
   ]
  },
  {
   "cell_type": "code",
   "execution_count": 9,
   "id": "0eabac34-5241-4f1a-b05c-0b0ed565df65",
   "metadata": {},
   "outputs": [
    {
     "name": "stdout",
     "output_type": "stream",
     "text": [
      "--2025-06-05 11:23:49--  https://www.arabidopsis.org/api/download-files/download?filePath=Sequences/Assemblies/TAIR9_chr_all.fas\n",
      "Resolving www.arabidopsis.org (www.arabidopsis.org)... 76.223.67.159, 15.197.242.219\n",
      "Connecting to www.arabidopsis.org (www.arabidopsis.org)|76.223.67.159|:443... connected.\n",
      "HTTP request sent, awaiting response... 200 OK\n",
      "Length: unspecified [binary/octet-stream]\n",
      "Saving to: ‘../moa-genomic-fasta/at.genome.fasta’\n",
      "\n",
      "../moa-genomic-fast     [         <=>        ] 115.57M  5.19MB/s    in 16s     \n",
      "\n",
      "2025-06-05 11:24:06 (7.43 MB/s) - ‘../moa-genomic-fasta/at.genome.fasta’ saved [121183059]\n",
      "\n"
     ]
    }
   ],
   "source": [
    "!wget https://www.arabidopsis.org/api/download-files/download?filePath=Sequences/Assemblies/TAIR9_chr_all.fas -O ../moa-genomic-fasta/at.genome.fasta"
   ]
  },
  {
   "cell_type": "markdown",
   "id": "905a9c2f-39dd-4576-b4f9-3efd30f1bc4e",
   "metadata": {},
   "source": [
    "# 2. READ filtering"
   ]
  },
  {
   "cell_type": "code",
   "execution_count": 11,
   "id": "02a52d47-dbb6-4e59-b52c-4b7dd88ba486",
   "metadata": {},
   "outputs": [
    {
     "name": "stdout",
     "output_type": "stream",
     "text": [
      "usage: fastp [options] ... \n",
      "options:\n",
      "  -i, --in1                            read1 input file name (string [=])\n",
      "  -o, --out1                           read1 output file name (string [=])\n",
      "  -I, --in2                            read2 input file name (string [=])\n",
      "  -O, --out2                           read2 output file name (string [=])\n",
      "      --unpaired1                      for PE input, if read1 passed QC but read2 not, it will be written to unpaired1. Default is to discard it. (string [=])\n",
      "      --unpaired2                      for PE input, if read2 passed QC but read1 not, it will be written to unpaired2. If --unpaired2 is same as --unpaired1 (default mode), both unpaired reads will be written to this same file. (string [=])\n",
      "      --overlapped_out                 for each read pair, output the overlapped region if it has no any mismatched base. (string [=])\n",
      "      --failed_out                     specify the file to store reads that cannot pass the filters. (string [=])\n",
      "  -m, --merge                          for paired-end input, merge each pair of reads into a single read if they are overlapped. The merged reads will be written to the file given by --merged_out, the unmerged reads will be written to the files specified by --out1 and --out2. The merging mode is disabled by default.\n",
      "      --merged_out                     in the merging mode, specify the file name to store merged output, or specify --stdout to stream the merged output (string [=])\n",
      "      --include_unmerged               in the merging mode, write the unmerged or unpaired reads to the file specified by --merge. Disabled by default.\n",
      "  -6, --phred64                        indicate the input is using phred64 scoring (it'll be converted to phred33, so the output will still be phred33)\n",
      "  -z, --compression                    compression level for gzip output (1 ~ 9). 1 is fastest, 9 is smallest, default is 4. (int [=4])\n",
      "      --stdin                          input from STDIN. If the STDIN is interleaved paired-end FASTQ, please also add --interleaved_in.\n",
      "      --stdout                         stream passing-filters reads to STDOUT. This option will result in interleaved FASTQ output for paired-end output. Disabled by default.\n",
      "      --interleaved_in                 indicate that <in1> is an interleaved FASTQ which contains both read1 and read2. Disabled by default.\n",
      "      --reads_to_process               specify how many reads/pairs to be processed. Default 0 means process all reads. (int [=0])\n",
      "      --dont_overwrite                 don't overwrite existing files. Overwritting is allowed by default.\n",
      "      --fix_mgi_id                     the MGI FASTQ ID format is not compatible with many BAM operation tools, enable this option to fix it.\n",
      "  -V, --verbose                        output verbose log information (i.e. when every 1M reads are processed).\n",
      "  -A, --disable_adapter_trimming       adapter trimming is enabled by default. If this option is specified, adapter trimming is disabled\n",
      "  -a, --adapter_sequence               the adapter for read1. For SE data, if not specified, the adapter will be auto-detected. For PE data, this is used if R1/R2 are found not overlapped. (string [=auto])\n",
      "      --adapter_sequence_r2            the adapter for read2 (PE data only). This is used if R1/R2 are found not overlapped. If not specified, it will be the same as <adapter_sequence> (string [=auto])\n",
      "      --adapter_fasta                  specify a FASTA file to trim both read1 and read2 (if PE) by all the sequences in this FASTA file (string [=])\n",
      "      --detect_adapter_for_pe          by default, the auto-detection for adapter is for SE data input only, turn on this option to enable it for PE data.\n",
      "  -f, --trim_front1                    trimming how many bases in front for read1, default is 0 (int [=0])\n",
      "  -t, --trim_tail1                     trimming how many bases in tail for read1, default is 0 (int [=0])\n",
      "  -b, --max_len1                       if read1 is longer than max_len1, then trim read1 at its tail to make it as long as max_len1. Default 0 means no limitation (int [=0])\n",
      "  -F, --trim_front2                    trimming how many bases in front for read2. If it's not specified, it will follow read1's settings (int [=0])\n",
      "  -T, --trim_tail2                     trimming how many bases in tail for read2. If it's not specified, it will follow read1's settings (int [=0])\n",
      "  -B, --max_len2                       if read2 is longer than max_len2, then trim read2 at its tail to make it as long as max_len2. Default 0 means no limitation. If it's not specified, it will follow read1's settings (int [=0])\n",
      "  -D, --dedup                          enable deduplication to drop the duplicated reads/pairs\n",
      "      --dup_calc_accuracy              accuracy level to calculate duplication (1~6), higher level uses more memory (1G, 2G, 4G, 8G, 16G, 24G). Default 1 for no-dedup mode, and 3 for dedup mode. (int [=0])\n",
      "      --dont_eval_duplication          don't evaluate duplication rate to save time and use less memory.\n",
      "  -g, --trim_poly_g                    force polyG tail trimming, by default trimming is automatically enabled for Illumina NextSeq/NovaSeq data\n",
      "      --poly_g_min_len                 the minimum length to detect polyG in the read tail. 10 by default. (int [=10])\n",
      "  -G, --disable_trim_poly_g            disable polyG tail trimming, by default trimming is automatically enabled for Illumina NextSeq/NovaSeq data\n",
      "  -x, --trim_poly_x                    enable polyX trimming in 3' ends.\n",
      "      --poly_x_min_len                 the minimum length to detect polyX in the read tail. 10 by default. (int [=10])\n",
      "  -5, --cut_front                      move a sliding window from front (5') to tail, drop the bases in the window if its mean quality < threshold, stop otherwise.\n",
      "  -3, --cut_tail                       move a sliding window from tail (3') to front, drop the bases in the window if its mean quality < threshold, stop otherwise.\n",
      "  -r, --cut_right                      move a sliding window from front to tail, if meet one window with mean quality < threshold, drop the bases in the window and the right part, and then stop.\n",
      "  -W, --cut_window_size                the window size option shared by cut_front, cut_tail or cut_sliding. Range: 1~1000, default: 4 (int [=4])\n",
      "  -M, --cut_mean_quality               the mean quality requirement option shared by cut_front, cut_tail or cut_sliding. Range: 1~36 default: 20 (Q20) (int [=20])\n",
      "      --cut_front_window_size          the window size option of cut_front, default to cut_window_size if not specified (int [=4])\n",
      "      --cut_front_mean_quality         the mean quality requirement option for cut_front, default to cut_mean_quality if not specified (int [=20])\n",
      "      --cut_tail_window_size           the window size option of cut_tail, default to cut_window_size if not specified (int [=4])\n",
      "      --cut_tail_mean_quality          the mean quality requirement option for cut_tail, default to cut_mean_quality if not specified (int [=20])\n",
      "      --cut_right_window_size          the window size option of cut_right, default to cut_window_size if not specified (int [=4])\n",
      "      --cut_right_mean_quality         the mean quality requirement option for cut_right, default to cut_mean_quality if not specified (int [=20])\n",
      "  -Q, --disable_quality_filtering      quality filtering is enabled by default. If this option is specified, quality filtering is disabled\n",
      "  -q, --qualified_quality_phred        the quality value that a base is qualified. Default 15 means phred quality >=Q15 is qualified. (int [=15])\n",
      "  -u, --unqualified_percent_limit      how many percents of bases are allowed to be unqualified (0~100). Default 40 means 40% (int [=40])\n",
      "  -n, --n_base_limit                   if one read's number of N base is >n_base_limit, then this read/pair is discarded. Default is 5 (int [=5])\n",
      "  -e, --average_qual                   if one read's average quality score <avg_qual, then this read/pair is discarded. Default 0 means no requirement (int [=0])\n",
      "  -L, --disable_length_filtering       length filtering is enabled by default. If this option is specified, length filtering is disabled\n",
      "  -l, --length_required                reads shorter than length_required will be discarded, default is 15. (int [=15])\n",
      "      --length_limit                   reads longer than length_limit will be discarded, default 0 means no limitation. (int [=0])\n",
      "  -y, --low_complexity_filter          enable low complexity filter. The complexity is defined as the percentage of base that is different from its next base (base[i] != base[i+1]).\n",
      "  -Y, --complexity_threshold           the threshold for low complexity filter (0~100). Default is 30, which means 30% complexity is required. (int [=30])\n",
      "      --filter_by_index1               specify a file contains a list of barcodes of index1 to be filtered out, one barcode per line (string [=])\n",
      "      --filter_by_index2               specify a file contains a list of barcodes of index2 to be filtered out, one barcode per line (string [=])\n",
      "      --filter_by_index_threshold      the allowed difference of index barcode for index filtering, default 0 means completely identical. (int [=0])\n",
      "  -c, --correction                     enable base correction in overlapped regions (only for PE data), default is disabled\n",
      "      --overlap_len_require            the minimum length to detect overlapped region of PE reads. This will affect overlap analysis based PE merge, adapter trimming and correction. 30 by default. (int [=30])\n",
      "      --overlap_diff_limit             the maximum number of mismatched bases to detect overlapped region of PE reads. This will affect overlap analysis based PE merge, adapter trimming and correction. 5 by default. (int [=5])\n",
      "      --overlap_diff_percent_limit     the maximum percentage of mismatched bases to detect overlapped region of PE reads. This will affect overlap analysis based PE merge, adapter trimming and correction. Default 20 means 20%. (int [=20])\n",
      "  -U, --umi                            enable unique molecular identifier (UMI) preprocessing\n",
      "      --umi_loc                        specify the location of UMI, can be (index1/index2/read1/read2/per_index/per_read, default is none (string [=])\n",
      "      --umi_len                        if the UMI is in read1/read2, its length should be provided (int [=0])\n",
      "      --umi_prefix                     if specified, an underline will be used to connect prefix and UMI (i.e. prefix=UMI, UMI=AATTCG, final=UMI_AATTCG). No prefix by default (string [=])\n",
      "      --umi_skip                       if the UMI is in read1/read2, fastp can skip several bases following UMI, default is 0 (int [=0])\n",
      "  -p, --overrepresentation_analysis    enable overrepresented sequence analysis.\n",
      "  -P, --overrepresentation_sampling    one in (--overrepresentation_sampling) reads will be computed for overrepresentation analysis (1~10000), smaller is slower, default is 20. (int [=20])\n",
      "  -j, --json                           the json format report file name (string [=fastp.json])\n",
      "  -h, --html                           the html format report file name (string [=fastp.html])\n",
      "  -R, --report_title                   should be quoted with ' or \", default is \"fastp report\" (string [=fastp report])\n",
      "  -w, --thread                         worker thread number, default is 3 (int [=3])\n",
      "  -s, --split                          split output by limiting total split file number with this option (2~999), a sequential number prefix will be added to output name ( 0001.out.fq, 0002.out.fq...), disabled by default (int [=0])\n",
      "  -S, --split_by_lines                 split output by limiting lines of each file with this option(>=1000), a sequential number prefix will be added to output name ( 0001.out.fq, 0002.out.fq...), disabled by default (long [=0])\n",
      "  -d, --split_prefix_digits            the digits for the sequential number padding (1~10), default is 4, so the filename will be padded as 0001.xxx, 0 to disable padding (int [=4])\n",
      "      --cut_by_quality5                DEPRECATED, use --cut_front instead.\n",
      "      --cut_by_quality3                DEPRECATED, use --cut_tail instead.\n",
      "      --cut_by_quality_aggressive      DEPRECATED, use --cut_right instead.\n",
      "      --discard_unmerged               DEPRECATED, no effect now, see the introduction for merging.\n",
      "  -?, --help                           print this message\n",
      "\n"
     ]
    }
   ],
   "source": [
    "!conda run -n seq-env fastp --help"
   ]
  },
  {
   "cell_type": "code",
   "execution_count": 14,
   "id": "d368a674-7fd2-4dd9-a8e2-5891f898d83a",
   "metadata": {},
   "outputs": [
    {
     "name": "stdout",
     "output_type": "stream",
     "text": [
      "total 59G\n",
      "drwxrwxr-x. 2 junhyeong junhyeong 4.0K Jun  5 11:16 .\n",
      "drwxrwxr-x. 6 junhyeong junhyeong 4.0K Jun  5 11:16 ..\n",
      "-rw-rw-r--. 1 junhyeong junhyeong 9.9G Jun  5 11:08 GFP-AtSKRP-eCLIP_1_f1.fastq\n",
      "-rw-rw-r--. 1 junhyeong junhyeong 9.9G Jun  5 11:08 GFP-AtSKRP-eCLIP_1_r2.fastq\n",
      "-rw-rw-r--. 1 junhyeong junhyeong 9.3G Jun  5 11:08 GFP-AtSKRP-eCLIP_2_f1.fastq\n",
      "-rw-rw-r--. 1 junhyeong junhyeong 9.3G Jun  5 11:08 GFP-AtSKRP-eCLIP_2_r2.fastq\n",
      "-rw-rw-r--. 1 junhyeong junhyeong 8.6G Jun  5 11:08 GFP-AtSKRP-eCLIP_3_f1.fastq\n",
      "-rw-rw-r--. 1 junhyeong junhyeong 8.6G Jun  5 11:08 GFP-AtSKRP-eCLIP_3_r2.fastq\n",
      "-rw-rw-r--. 1 junhyeong junhyeong 1.9G Jun  5 11:08 GFP-eCLIP_f1.fastq\n",
      "-rw-rw-r--. 1 junhyeong junhyeong 1.9G Jun  5 11:08 GFP-eCLIP_r2.fastq\n"
     ]
    }
   ],
   "source": [
    "!ls -alh"
   ]
  },
  {
   "cell_type": "code",
   "execution_count": 15,
   "id": "2c3095e6-3a28-4687-b985-ae32b01ad67c",
   "metadata": {},
   "outputs": [
    {
     "name": "stdout",
     "output_type": "stream",
     "text": [
      "WARNING: fastp uses up to 16 threads although you specified 20\n",
      "Read1 before filtering:\n",
      "total reads: 29076664\n",
      "total bases: 4361499600\n",
      "Q20 bases: 3993291408(91.5578%)\n",
      "Q30 bases: 3709439773(85.0496%)\n",
      "\n",
      "Read2 before filtering:\n",
      "total reads: 29076664\n",
      "total bases: 4361499600\n",
      "Q20 bases: 4062245960(93.1387%)\n",
      "Q30 bases: 3906987664(89.579%)\n",
      "\n",
      "Read1 after filtering:\n",
      "total reads: 28705783\n",
      "total bases: 2435835067\n",
      "Q20 bases: 2365943768(97.1307%)\n",
      "Q30 bases: 2263480580(92.9242%)\n",
      "\n",
      "Read2 after filtering:\n",
      "total reads: 28705783\n",
      "total bases: 2435835067\n",
      "Q20 bases: 2380689380(97.7361%)\n",
      "Q30 bases: 2324321723(95.422%)\n",
      "\n",
      "Filtering result:\n",
      "reads passed filter: 57411566\n",
      "reads failed due to low quality: 739198\n",
      "reads failed due to too many N: 2564\n",
      "reads failed due to too short: 0\n",
      "reads with adapter trimmed: 53127328\n",
      "bases trimmed due to adapters: 3744337740\n",
      "\n",
      "Duplication rate: 4.19458%\n",
      "\n",
      "Insert size peak (evaluated by paired-end reads): 52\n",
      "\n",
      "JSON report: fastp.json\n",
      "HTML report: fastp.html\n",
      "\n",
      "fastp -i GFP-AtSKRP-eCLIP_1_f1.fastq -I GFP-AtSKRP-eCLIP_1_r2.fastq -o GFP-AtSKRP-eCLIP_1_f1.parse.fastq -O GFP-AtSKRP-eCLIP_1_r2.parse.fastq -w 20 \n",
      "fastp v0.23.2, time used: 171 seconds\n",
      "\n"
     ]
    }
   ],
   "source": [
    "!conda run -n seq-env fastp -i GFP-AtSKRP-eCLIP_1_f1.fastq -I GFP-AtSKRP-eCLIP_1_r2.fastq -o GFP-AtSKRP-eCLIP_1_f1.parse.fastq -O GFP-AtSKRP-eCLIP_1_r2.parse.fastq -w 20"
   ]
  },
  {
   "cell_type": "code",
   "execution_count": 16,
   "id": "8196fbaa-bb95-4348-91d3-71a9a86bb2c7",
   "metadata": {},
   "outputs": [
    {
     "name": "stdout",
     "output_type": "stream",
     "text": [
      "WARNING: fastp uses up to 16 threads although you specified 20\n",
      "Read1 before filtering:\n",
      "total reads: 27530414\n",
      "total bases: 4129562100\n",
      "Q20 bases: 3770818643(91.3128%)\n",
      "Q30 bases: 3503512484(84.8398%)\n",
      "\n",
      "Read2 before filtering:\n",
      "total reads: 27530414\n",
      "total bases: 4129562100\n",
      "Q20 bases: 3842867199(93.0575%)\n",
      "Q30 bases: 3692379472(89.4133%)\n",
      "\n",
      "Read1 after filtering:\n",
      "total reads: 27140239\n",
      "total bases: 2333217673\n",
      "Q20 bases: 2268817979(97.2399%)\n",
      "Q30 bases: 2170085287(93.0083%)\n",
      "\n",
      "Read2 after filtering:\n",
      "total reads: 27140239\n",
      "total bases: 2333217673\n",
      "Q20 bases: 2285674774(97.9623%)\n",
      "Q30 bases: 2231269834(95.6306%)\n",
      "\n",
      "Filtering result:\n",
      "reads passed filter: 54280478\n",
      "reads failed due to low quality: 775486\n",
      "reads failed due to too many N: 4864\n",
      "reads failed due to too short: 0\n",
      "reads with adapter trimmed: 49723972\n",
      "bases trimmed due to adapters: 3480401542\n",
      "\n",
      "Duplication rate: 3.98579%\n",
      "\n",
      "Insert size peak (evaluated by paired-end reads): 52\n",
      "\n",
      "JSON report: fastp.json\n",
      "HTML report: fastp.html\n",
      "\n",
      "fastp -i GFP-AtSKRP-eCLIP_2_f1.fastq -I GFP-AtSKRP-eCLIP_2_r2.fastq -o GFP-AtSKRP-eCLIP_2_f1.parse.fastq -O GFP-AtSKRP-eCLIP_2_r2.parse.fastq -w 20 \n",
      "fastp v0.23.2, time used: 143 seconds\n",
      "\n"
     ]
    }
   ],
   "source": [
    "!conda run -n seq-env fastp -i GFP-AtSKRP-eCLIP_2_f1.fastq -I GFP-AtSKRP-eCLIP_2_r2.fastq -o GFP-AtSKRP-eCLIP_2_f1.parse.fastq -O GFP-AtSKRP-eCLIP_2_r2.parse.fastq -w 20"
   ]
  },
  {
   "cell_type": "code",
   "execution_count": 17,
   "id": "2f4e5b59-d498-4eeb-8b74-efaa85d4ff59",
   "metadata": {},
   "outputs": [
    {
     "name": "stdout",
     "output_type": "stream",
     "text": [
      "WARNING: fastp uses up to 16 threads although you specified 20\n",
      "Read1 before filtering:\n",
      "total reads: 25195917\n",
      "total bases: 3779387550\n",
      "Q20 bases: 3500819460(92.6293%)\n",
      "Q30 bases: 3305622101(87.4645%)\n",
      "\n",
      "Read2 before filtering:\n",
      "total reads: 25195917\n",
      "total bases: 3779387550\n",
      "Q20 bases: 3541261883(93.6994%)\n",
      "Q30 bases: 3394204057(89.8083%)\n",
      "\n",
      "Read1 after filtering:\n",
      "total reads: 24840954\n",
      "total bases: 2265808109\n",
      "Q20 bases: 2218013733(97.8906%)\n",
      "Q30 bases: 2139627757(94.4311%)\n",
      "\n",
      "Read2 after filtering:\n",
      "total reads: 24840954\n",
      "total bases: 2265808109\n",
      "Q20 bases: 2225849871(98.2365%)\n",
      "Q30 bases: 2171543716(95.8397%)\n",
      "\n",
      "Filtering result:\n",
      "reads passed filter: 49681908\n",
      "reads failed due to low quality: 708844\n",
      "reads failed due to too many N: 1082\n",
      "reads failed due to too short: 0\n",
      "reads with adapter trimmed: 43074986\n",
      "bases trimmed due to adapters: 2924381234\n",
      "\n",
      "Duplication rate: 9.48633%\n",
      "\n",
      "Insert size peak (evaluated by paired-end reads): 52\n",
      "\n",
      "JSON report: fastp.json\n",
      "HTML report: fastp.html\n",
      "\n",
      "fastp -i GFP-AtSKRP-eCLIP_3_f1.fastq -I GFP-AtSKRP-eCLIP_3_r2.fastq -o GFP-AtSKRP-eCLIP_3_f1.parse.fastq -O GFP-AtSKRP-eCLIP_3_r2.parse.fastq -w 20 \n",
      "fastp v0.23.2, time used: 89 seconds\n",
      "\n"
     ]
    }
   ],
   "source": [
    "!conda run -n seq-env fastp -i GFP-AtSKRP-eCLIP_3_f1.fastq -I GFP-AtSKRP-eCLIP_3_r2.fastq -o GFP-AtSKRP-eCLIP_3_f1.parse.fastq -O GFP-AtSKRP-eCLIP_3_r2.parse.fastq -w 20"
   ]
  },
  {
   "cell_type": "code",
   "execution_count": 18,
   "id": "d5368488-e619-4600-8e00-75c7979ba48e",
   "metadata": {},
   "outputs": [
    {
     "name": "stdout",
     "output_type": "stream",
     "text": [
      "WARNING: fastp uses up to 16 threads although you specified 20\n",
      "Read1 before filtering:\n",
      "total reads: 5452540\n",
      "total bases: 817881000\n",
      "Q20 bases: 585191588(71.5497%)\n",
      "Q30 bases: 493086622(60.2883%)\n",
      "\n",
      "Read2 before filtering:\n",
      "total reads: 5452540\n",
      "total bases: 817881000\n",
      "Q20 bases: 584148625(71.4222%)\n",
      "Q30 bases: 509777576(62.3291%)\n",
      "\n",
      "Read1 after filtering:\n",
      "total reads: 3924581\n",
      "total bases: 522403678\n",
      "Q20 bases: 395986605(75.8009%)\n",
      "Q30 bases: 331569493(63.47%)\n",
      "\n",
      "Read2 after filtering:\n",
      "total reads: 3924581\n",
      "total bases: 522403678\n",
      "Q20 bases: 386721925(74.0274%)\n",
      "Q30 bases: 333174642(63.7772%)\n",
      "\n",
      "Filtering result:\n",
      "reads passed filter: 7849162\n",
      "reads failed due to low quality: 3055570\n",
      "reads failed due to too many N: 348\n",
      "reads failed due to too short: 0\n",
      "reads with adapter trimmed: 1720158\n",
      "bases trimmed due to adapters: 133828964\n",
      "\n",
      "Duplication rate: 1.11482%\n",
      "\n",
      "Insert size peak (evaluated by paired-end reads): 52\n",
      "\n",
      "JSON report: fastp.json\n",
      "HTML report: fastp.html\n",
      "\n",
      "fastp -i GFP-eCLIP_f1.fastq -I GFP-eCLIP_r2.fastq -o GFP-eCLIP_f1.parse.fastq -O GFP-eCLIP_r2.parse.fastq -w 20 \n",
      "fastp v0.23.2, time used: 11 seconds\n",
      "\n"
     ]
    }
   ],
   "source": [
    "!conda run -n seq-env fastp -i GFP-eCLIP_f1.fastq -I GFP-eCLIP_r2.fastq -o GFP-eCLIP_f1.parse.fastq -O GFP-eCLIP_r2.parse.fastq -w 20"
   ]
  },
  {
   "cell_type": "markdown",
   "id": "2820fdf8-5ffc-42f2-80cc-48dea6496bc8",
   "metadata": {},
   "source": [
    "# 3. READ MAPPING"
   ]
  },
  {
   "cell_type": "code",
   "execution_count": 19,
   "id": "878ec339-f9bb-43dc-970a-64a5e352e22e",
   "metadata": {},
   "outputs": [
    {
     "name": "stdout",
     "output_type": "stream",
     "text": [
      "total 97G\n",
      "drwxrwxr-x. 2 junhyeong junhyeong 4.0K Jun  7 15:24 .\n",
      "drwxrwxr-x. 5 junhyeong junhyeong 4.0K Jun  7 15:19 ..\n",
      "-rw-rw-r--. 1 junhyeong junhyeong 473K Jun  7 15:24 fastp.html\n",
      "-rw-rw-r--. 1 junhyeong junhyeong 129K Jun  7 15:24 fastp.json\n",
      "-rw-rw-r--. 1 junhyeong junhyeong 9.9G Jun  5 11:08 GFP-AtSKRP-eCLIP_1_f1.fastq\n",
      "-rw-rw-r--. 1 junhyeong junhyeong 6.3G Jun  7 15:18 GFP-AtSKRP-eCLIP_1_f1.parse.fastq\n",
      "-rw-rw-r--. 1 junhyeong junhyeong 9.9G Jun  5 11:08 GFP-AtSKRP-eCLIP_1_r2.fastq\n",
      "-rw-rw-r--. 1 junhyeong junhyeong 6.3G Jun  7 15:18 GFP-AtSKRP-eCLIP_1_r2.parse.fastq\n",
      "-rw-rw-r--. 1 junhyeong junhyeong 9.3G Jun  5 11:08 GFP-AtSKRP-eCLIP_2_f1.fastq\n",
      "-rw-rw-r--. 1 junhyeong junhyeong 6.0G Jun  7 15:22 GFP-AtSKRP-eCLIP_2_f1.parse.fastq\n",
      "-rw-rw-r--. 1 junhyeong junhyeong 9.3G Jun  5 11:08 GFP-AtSKRP-eCLIP_2_r2.fastq\n",
      "-rw-rw-r--. 1 junhyeong junhyeong 6.0G Jun  7 15:22 GFP-AtSKRP-eCLIP_2_r2.parse.fastq\n",
      "-rw-rw-r--. 1 junhyeong junhyeong 8.6G Jun  5 11:08 GFP-AtSKRP-eCLIP_3_f1.fastq\n",
      "-rw-rw-r--. 1 junhyeong junhyeong 5.7G Jun  7 15:24 GFP-AtSKRP-eCLIP_3_f1.parse.fastq\n",
      "-rw-rw-r--. 1 junhyeong junhyeong 8.6G Jun  5 11:08 GFP-AtSKRP-eCLIP_3_r2.fastq\n",
      "-rw-rw-r--. 1 junhyeong junhyeong 5.7G Jun  7 15:24 GFP-AtSKRP-eCLIP_3_r2.parse.fastq\n",
      "-rw-rw-r--. 1 junhyeong junhyeong 1.9G Jun  5 11:08 GFP-eCLIP_f1.fastq\n",
      "-rw-rw-r--. 1 junhyeong junhyeong 1.2G Jun  7 15:24 GFP-eCLIP_f1.parse.fastq\n",
      "-rw-rw-r--. 1 junhyeong junhyeong 1.9G Jun  5 11:08 GFP-eCLIP_r2.fastq\n",
      "-rw-rw-r--. 1 junhyeong junhyeong 1.2G Jun  7 15:24 GFP-eCLIP_r2.parse.fastq\n"
     ]
    }
   ],
   "source": [
    "!ls -alh"
   ]
  },
  {
   "cell_type": "code",
   "execution_count": 20,
   "id": "c11585b1-29f3-4833-972e-2f541604d7a0",
   "metadata": {},
   "outputs": [
    {
     "name": "stdout",
     "output_type": "stream",
     "text": [
      "total 116M\n",
      "drwxrwxr-x. 2 junhyeong junhyeong 4.0K Jun  5 11:23 .\n",
      "drwxrwxr-x. 5 junhyeong junhyeong 4.0K Jun  7 15:19 ..\n",
      "-rw-rw-r--. 1 junhyeong junhyeong 116M Jun  5 11:24 at.genome.fasta\n"
     ]
    }
   ],
   "source": [
    "!ls -alh ../moa-genomic-fasta/"
   ]
  },
  {
   "cell_type": "code",
   "execution_count": 21,
   "id": "ca666acb-c9ff-4c7b-adf1-5dbb0e4ea553",
   "metadata": {},
   "outputs": [
    {
     "name": "stdout",
     "output_type": "stream",
     "text": [
      "HISAT2 version 2.2.1 by Daehwan Kim (infphilo@gmail.com, http://www.ccb.jhu.edu/people/infphilo)\n",
      "Usage: hisat2-build [options]* <reference_in> <ht2_index_base>\n",
      "    reference_in            comma-separated list of files with ref sequences\n",
      "    hisat2_index_base       write ht2 data to files with this dir/basename\n",
      "Options:\n",
      "    -c                      reference sequences given on cmd line (as\n",
      "                            <reference_in>)\n",
      "    --large-index           force generated index to be 'large', even if ref\n",
      "                            has fewer than 4 billion nucleotides\n",
      "    -a/--noauto             disable automatic -p/--bmax/--dcv memory-fitting\n",
      "    -p <int>                number of threads\n",
      "    --bmax <int>            max bucket sz for blockwise suffix-array builder\n",
      "    --bmaxdivn <int>        max bucket sz as divisor of ref len (default: 4)\n",
      "    --dcv <int>             diff-cover period for blockwise (default: 1024)\n",
      "    --nodc                  disable diff-cover (algorithm becomes quadratic)\n",
      "    -r/--noref              don't build .3/.4.ht2 (packed reference) portion\n",
      "    -3/--justref            just build .3/.4.ht2 (packed reference) portion\n",
      "    -o/--offrate <int>      SA is sampled every 2^offRate BWT chars (default: 5)\n",
      "    -t/--ftabchars <int>    # of chars consumed in initial lookup (default: 10)\n",
      "    --localoffrate <int>    SA (local) is sampled every 2^offRate BWT chars (default: 3)\n",
      "    --localftabchars <int>  # of chars consumed in initial lookup in a local index (default: 6)\n",
      "    --snp <path>            SNP file name\n",
      "    --haplotype <path>      haplotype file name\n",
      "    --ss <path>             Splice site file name\n",
      "    --exon <path>           Exon file name\n",
      "    --repeat-ref <path>     Repeat reference file name\n",
      "    --repeat-info <path>    Repeat information file name\n",
      "    --repeat-snp <path>     Repeat snp file name\n",
      "    --repeat-haplotype <path>   Repeat haplotype file name\n",
      "    --seed <int>            seed for random number generator\n",
      "    -q/--quiet              disable verbose output (for debugging)\n",
      "    -h/--help               print detailed description of tool and its options\n",
      "    --usage                 print this usage message\n",
      "    --version               print version information and quit\n",
      "\n"
     ]
    }
   ],
   "source": [
    "!conda run -n seq-env hisat2-build -h"
   ]
  },
  {
   "cell_type": "code",
   "execution_count": null,
   "id": "cd233723-5d55-4aa3-bf5c-6dbc2435d4d3",
   "metadata": {},
   "outputs": [],
   "source": [
    "!conda run -n seq-env hisat2-build -f ../moa-genomic-fasta/at.genome.fasta ../moa-genomic-fasta/at.genome.index"
   ]
  },
  {
   "cell_type": "code",
   "execution_count": null,
   "id": "22905c70-82fb-4238-951d-dbc1e9b2e5ea",
   "metadata": {},
   "outputs": [],
   "source": []
  }
 ],
 "metadata": {
  "kernelspec": {
   "display_name": "biopython-env",
   "language": "python",
   "name": "biopython-env"
  },
  "language_info": {
   "codemirror_mode": {
    "name": "ipython",
    "version": 3
   },
   "file_extension": ".py",
   "mimetype": "text/x-python",
   "name": "python",
   "nbconvert_exporter": "python",
   "pygments_lexer": "ipython3",
   "version": "3.13.2"
  }
 },
 "nbformat": 4,
 "nbformat_minor": 5
}
