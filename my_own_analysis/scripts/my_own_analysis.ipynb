{
 "cells": [
  {
   "cell_type": "markdown",
   "id": "63864f05-23ea-423d-9397-da704b238473",
   "metadata": {},
   "source": [
    "# 1. 데이터 다운로드"
   ]
  },
  {
   "cell_type": "code",
   "execution_count": null,
   "id": "27795b72-8b41-4c2e-a707-ca40cc914e3c",
   "metadata": {},
   "outputs": [],
   "source": [
    "!mkdir -p ../data/moa-work"
   ]
  },
  {
   "cell_type": "code",
   "execution_count": 1,
   "id": "9498a79b-f4dd-4a3a-847d-d28cca14d505",
   "metadata": {},
   "outputs": [
    {
     "name": "stdout",
     "output_type": "stream",
     "text": [
      "/var2/Works/junhyeong/bioinfo1_project/my_own_analysis/data/moa-work\n"
     ]
    }
   ],
   "source": [
    "%cd ../data/moa-work"
   ]
  },
  {
   "cell_type": "code",
   "execution_count": null,
   "id": "92174d9d-1fc5-479a-b648-f311d504dadd",
   "metadata": {},
   "outputs": [],
   "source": [
    "%cp -r ../moa-eclip/* ./"
   ]
  },
  {
   "cell_type": "code",
   "execution_count": null,
   "id": "ad774063-c4cf-4263-adc8-1a552501a73b",
   "metadata": {},
   "outputs": [],
   "source": [
    "!gzip -d *.gz"
   ]
  },
  {
   "cell_type": "code",
   "execution_count": null,
   "id": "0eabac34-5241-4f1a-b05c-0b0ed565df65",
   "metadata": {},
   "outputs": [],
   "source": [
    "!wget https://www.arabidopsis.org/api/download-files/download?filePath=Sequences/Assemblies/TAIR9_chr_all.fas -O ../moa-genomic-fasta/at.genome.fasta"
   ]
  },
  {
   "cell_type": "code",
   "execution_count": 58,
   "id": "33e4d19a-96da-4253-a29a-f5b45f165e11",
   "metadata": {},
   "outputs": [
    {
     "name": "stdout",
     "output_type": "stream",
     "text": [
      "--2025-06-09 08:34:56--  https://www.arabidopsis.org/api/download-files/download?filePath=Genes/TAIR9_genome_release/tair9_gff3/TAIR9_GFF3_genes.gff\n",
      "Resolving www.arabidopsis.org (www.arabidopsis.org)... 15.197.242.219, 76.223.67.159\n",
      "Connecting to www.arabidopsis.org (www.arabidopsis.org)|15.197.242.219|:443... connected.\n",
      "HTTP request sent, awaiting response... 200 OK\n",
      "Length: unspecified [binary/octet-stream]\n",
      "Saving to: ‘../moa-genomic-fasta/at.gff3’\n",
      "\n",
      "../moa-genomic-fast     [             <=>    ]  38.38M  10.4MB/s    in 4.2s    \n",
      "\n",
      "2025-06-09 08:35:01 (9.05 MB/s) - ‘../moa-genomic-fasta/at.gff3’ saved [40240838]\n",
      "\n"
     ]
    }
   ],
   "source": [
    "!wget https://www.arabidopsis.org/api/download-files/download?filePath=Genes/TAIR9_genome_release/tair9_gff3/TAIR9_GFF3_genes.gff -O ../moa-genomic-fasta/at.gff3"
   ]
  },
  {
   "cell_type": "markdown",
   "id": "905a9c2f-39dd-4576-b4f9-3efd30f1bc4e",
   "metadata": {},
   "source": [
    "# 2. READ filtering"
   ]
  },
  {
   "cell_type": "code",
   "execution_count": 34,
   "id": "02a52d47-dbb6-4e59-b52c-4b7dd88ba486",
   "metadata": {},
   "outputs": [
    {
     "name": "stdout",
     "output_type": "stream",
     "text": [
      "usage: fastp [options] ... \n",
      "options:\n",
      "  -i, --in1                            read1 input file name (string [=])\n",
      "  -o, --out1                           read1 output file name (string [=])\n",
      "  -I, --in2                            read2 input file name (string [=])\n",
      "  -O, --out2                           read2 output file name (string [=])\n",
      "      --unpaired1                      for PE input, if read1 passed QC but read2 not, it will be written to unpaired1. Default is to discard it. (string [=])\n",
      "      --unpaired2                      for PE input, if read2 passed QC but read1 not, it will be written to unpaired2. If --unpaired2 is same as --unpaired1 (default mode), both unpaired reads will be written to this same file. (string [=])\n",
      "      --overlapped_out                 for each read pair, output the overlapped region if it has no any mismatched base. (string [=])\n",
      "      --failed_out                     specify the file to store reads that cannot pass the filters. (string [=])\n",
      "  -m, --merge                          for paired-end input, merge each pair of reads into a single read if they are overlapped. The merged reads will be written to the file given by --merged_out, the unmerged reads will be written to the files specified by --out1 and --out2. The merging mode is disabled by default.\n",
      "      --merged_out                     in the merging mode, specify the file name to store merged output, or specify --stdout to stream the merged output (string [=])\n",
      "      --include_unmerged               in the merging mode, write the unmerged or unpaired reads to the file specified by --merge. Disabled by default.\n",
      "  -6, --phred64                        indicate the input is using phred64 scoring (it'll be converted to phred33, so the output will still be phred33)\n",
      "  -z, --compression                    compression level for gzip output (1 ~ 9). 1 is fastest, 9 is smallest, default is 4. (int [=4])\n",
      "      --stdin                          input from STDIN. If the STDIN is interleaved paired-end FASTQ, please also add --interleaved_in.\n",
      "      --stdout                         stream passing-filters reads to STDOUT. This option will result in interleaved FASTQ output for paired-end output. Disabled by default.\n",
      "      --interleaved_in                 indicate that <in1> is an interleaved FASTQ which contains both read1 and read2. Disabled by default.\n",
      "      --reads_to_process               specify how many reads/pairs to be processed. Default 0 means process all reads. (int [=0])\n",
      "      --dont_overwrite                 don't overwrite existing files. Overwritting is allowed by default.\n",
      "      --fix_mgi_id                     the MGI FASTQ ID format is not compatible with many BAM operation tools, enable this option to fix it.\n",
      "  -V, --verbose                        output verbose log information (i.e. when every 1M reads are processed).\n",
      "  -A, --disable_adapter_trimming       adapter trimming is enabled by default. If this option is specified, adapter trimming is disabled\n",
      "  -a, --adapter_sequence               the adapter for read1. For SE data, if not specified, the adapter will be auto-detected. For PE data, this is used if R1/R2 are found not overlapped. (string [=auto])\n",
      "      --adapter_sequence_r2            the adapter for read2 (PE data only). This is used if R1/R2 are found not overlapped. If not specified, it will be the same as <adapter_sequence> (string [=auto])\n",
      "      --adapter_fasta                  specify a FASTA file to trim both read1 and read2 (if PE) by all the sequences in this FASTA file (string [=])\n",
      "      --detect_adapter_for_pe          by default, the auto-detection for adapter is for SE data input only, turn on this option to enable it for PE data.\n",
      "  -f, --trim_front1                    trimming how many bases in front for read1, default is 0 (int [=0])\n",
      "  -t, --trim_tail1                     trimming how many bases in tail for read1, default is 0 (int [=0])\n",
      "  -b, --max_len1                       if read1 is longer than max_len1, then trim read1 at its tail to make it as long as max_len1. Default 0 means no limitation (int [=0])\n",
      "  -F, --trim_front2                    trimming how many bases in front for read2. If it's not specified, it will follow read1's settings (int [=0])\n",
      "  -T, --trim_tail2                     trimming how many bases in tail for read2. If it's not specified, it will follow read1's settings (int [=0])\n",
      "  -B, --max_len2                       if read2 is longer than max_len2, then trim read2 at its tail to make it as long as max_len2. Default 0 means no limitation. If it's not specified, it will follow read1's settings (int [=0])\n",
      "  -D, --dedup                          enable deduplication to drop the duplicated reads/pairs\n",
      "      --dup_calc_accuracy              accuracy level to calculate duplication (1~6), higher level uses more memory (1G, 2G, 4G, 8G, 16G, 24G). Default 1 for no-dedup mode, and 3 for dedup mode. (int [=0])\n",
      "      --dont_eval_duplication          don't evaluate duplication rate to save time and use less memory.\n",
      "  -g, --trim_poly_g                    force polyG tail trimming, by default trimming is automatically enabled for Illumina NextSeq/NovaSeq data\n",
      "      --poly_g_min_len                 the minimum length to detect polyG in the read tail. 10 by default. (int [=10])\n",
      "  -G, --disable_trim_poly_g            disable polyG tail trimming, by default trimming is automatically enabled for Illumina NextSeq/NovaSeq data\n",
      "  -x, --trim_poly_x                    enable polyX trimming in 3' ends.\n",
      "      --poly_x_min_len                 the minimum length to detect polyX in the read tail. 10 by default. (int [=10])\n",
      "  -5, --cut_front                      move a sliding window from front (5') to tail, drop the bases in the window if its mean quality < threshold, stop otherwise.\n",
      "  -3, --cut_tail                       move a sliding window from tail (3') to front, drop the bases in the window if its mean quality < threshold, stop otherwise.\n",
      "  -r, --cut_right                      move a sliding window from front to tail, if meet one window with mean quality < threshold, drop the bases in the window and the right part, and then stop.\n",
      "  -W, --cut_window_size                the window size option shared by cut_front, cut_tail or cut_sliding. Range: 1~1000, default: 4 (int [=4])\n",
      "  -M, --cut_mean_quality               the mean quality requirement option shared by cut_front, cut_tail or cut_sliding. Range: 1~36 default: 20 (Q20) (int [=20])\n",
      "      --cut_front_window_size          the window size option of cut_front, default to cut_window_size if not specified (int [=4])\n",
      "      --cut_front_mean_quality         the mean quality requirement option for cut_front, default to cut_mean_quality if not specified (int [=20])\n",
      "      --cut_tail_window_size           the window size option of cut_tail, default to cut_window_size if not specified (int [=4])\n",
      "      --cut_tail_mean_quality          the mean quality requirement option for cut_tail, default to cut_mean_quality if not specified (int [=20])\n",
      "      --cut_right_window_size          the window size option of cut_right, default to cut_window_size if not specified (int [=4])\n",
      "      --cut_right_mean_quality         the mean quality requirement option for cut_right, default to cut_mean_quality if not specified (int [=20])\n",
      "  -Q, --disable_quality_filtering      quality filtering is enabled by default. If this option is specified, quality filtering is disabled\n",
      "  -q, --qualified_quality_phred        the quality value that a base is qualified. Default 15 means phred quality >=Q15 is qualified. (int [=15])\n",
      "  -u, --unqualified_percent_limit      how many percents of bases are allowed to be unqualified (0~100). Default 40 means 40% (int [=40])\n",
      "  -n, --n_base_limit                   if one read's number of N base is >n_base_limit, then this read/pair is discarded. Default is 5 (int [=5])\n",
      "  -e, --average_qual                   if one read's average quality score <avg_qual, then this read/pair is discarded. Default 0 means no requirement (int [=0])\n",
      "  -L, --disable_length_filtering       length filtering is enabled by default. If this option is specified, length filtering is disabled\n",
      "  -l, --length_required                reads shorter than length_required will be discarded, default is 15. (int [=15])\n",
      "      --length_limit                   reads longer than length_limit will be discarded, default 0 means no limitation. (int [=0])\n",
      "  -y, --low_complexity_filter          enable low complexity filter. The complexity is defined as the percentage of base that is different from its next base (base[i] != base[i+1]).\n",
      "  -Y, --complexity_threshold           the threshold for low complexity filter (0~100). Default is 30, which means 30% complexity is required. (int [=30])\n",
      "      --filter_by_index1               specify a file contains a list of barcodes of index1 to be filtered out, one barcode per line (string [=])\n",
      "      --filter_by_index2               specify a file contains a list of barcodes of index2 to be filtered out, one barcode per line (string [=])\n",
      "      --filter_by_index_threshold      the allowed difference of index barcode for index filtering, default 0 means completely identical. (int [=0])\n",
      "  -c, --correction                     enable base correction in overlapped regions (only for PE data), default is disabled\n",
      "      --overlap_len_require            the minimum length to detect overlapped region of PE reads. This will affect overlap analysis based PE merge, adapter trimming and correction. 30 by default. (int [=30])\n",
      "      --overlap_diff_limit             the maximum number of mismatched bases to detect overlapped region of PE reads. This will affect overlap analysis based PE merge, adapter trimming and correction. 5 by default. (int [=5])\n",
      "      --overlap_diff_percent_limit     the maximum percentage of mismatched bases to detect overlapped region of PE reads. This will affect overlap analysis based PE merge, adapter trimming and correction. Default 20 means 20%. (int [=20])\n",
      "  -U, --umi                            enable unique molecular identifier (UMI) preprocessing\n",
      "      --umi_loc                        specify the location of UMI, can be (index1/index2/read1/read2/per_index/per_read, default is none (string [=])\n",
      "      --umi_len                        if the UMI is in read1/read2, its length should be provided (int [=0])\n",
      "      --umi_prefix                     if specified, an underline will be used to connect prefix and UMI (i.e. prefix=UMI, UMI=AATTCG, final=UMI_AATTCG). No prefix by default (string [=])\n",
      "      --umi_skip                       if the UMI is in read1/read2, fastp can skip several bases following UMI, default is 0 (int [=0])\n",
      "  -p, --overrepresentation_analysis    enable overrepresented sequence analysis.\n",
      "  -P, --overrepresentation_sampling    one in (--overrepresentation_sampling) reads will be computed for overrepresentation analysis (1~10000), smaller is slower, default is 20. (int [=20])\n",
      "  -j, --json                           the json format report file name (string [=fastp.json])\n",
      "  -h, --html                           the html format report file name (string [=fastp.html])\n",
      "  -R, --report_title                   should be quoted with ' or \", default is \"fastp report\" (string [=fastp report])\n",
      "  -w, --thread                         worker thread number, default is 3 (int [=3])\n",
      "  -s, --split                          split output by limiting total split file number with this option (2~999), a sequential number prefix will be added to output name ( 0001.out.fq, 0002.out.fq...), disabled by default (int [=0])\n",
      "  -S, --split_by_lines                 split output by limiting lines of each file with this option(>=1000), a sequential number prefix will be added to output name ( 0001.out.fq, 0002.out.fq...), disabled by default (long [=0])\n",
      "  -d, --split_prefix_digits            the digits for the sequential number padding (1~10), default is 4, so the filename will be padded as 0001.xxx, 0 to disable padding (int [=4])\n",
      "      --cut_by_quality5                DEPRECATED, use --cut_front instead.\n",
      "      --cut_by_quality3                DEPRECATED, use --cut_tail instead.\n",
      "      --cut_by_quality_aggressive      DEPRECATED, use --cut_right instead.\n",
      "      --discard_unmerged               DEPRECATED, no effect now, see the introduction for merging.\n",
      "  -?, --help                           print this message\n",
      "\n"
     ]
    }
   ],
   "source": [
    "!conda run -n seq-env fastp --help"
   ]
  },
  {
   "cell_type": "code",
   "execution_count": 35,
   "id": "d368a674-7fd2-4dd9-a8e2-5891f898d83a",
   "metadata": {},
   "outputs": [
    {
     "name": "stdout",
     "output_type": "stream",
     "text": [
      "total 139G\n",
      "drwxrwxr-x. 2 junhyeong junhyeong 4.0K Jun  7 16:17 .\n",
      "drwxrwxr-x. 5 junhyeong junhyeong 4.0K Jun  7 15:19 ..\n",
      "-rw-rw-r--. 1 junhyeong junhyeong 473K Jun  7 15:24 fastp.html\n",
      "-rw-rw-r--. 1 junhyeong junhyeong 129K Jun  7 15:24 fastp.json\n",
      "-rw-rw-r--. 1 junhyeong junhyeong 9.9G Jun  5 11:08 GFP-AtSKRP-eCLIP_1_f1.fastq\n",
      "-rw-rw-r--. 1 junhyeong junhyeong 6.3G Jun  7 15:18 GFP-AtSKRP-eCLIP_1_f1.parse.fastq\n",
      "-rw-rw-r--. 1 junhyeong junhyeong 9.9G Jun  5 11:08 GFP-AtSKRP-eCLIP_1_r2.fastq\n",
      "-rw-rw-r--. 1 junhyeong junhyeong 6.3G Jun  7 15:18 GFP-AtSKRP-eCLIP_1_r2.parse.fastq\n",
      "-rw-rw-r--. 1 junhyeong junhyeong  14G Jun  7 15:57 GFP-AtSKRP-eCLIP_1.sam\n",
      "-rw-rw-r--. 1 junhyeong junhyeong 9.3G Jun  5 11:08 GFP-AtSKRP-eCLIP_2_f1.fastq\n",
      "-rw-rw-r--. 1 junhyeong junhyeong 6.0G Jun  7 15:22 GFP-AtSKRP-eCLIP_2_f1.parse.fastq\n",
      "-rw-rw-r--. 1 junhyeong junhyeong 9.3G Jun  5 11:08 GFP-AtSKRP-eCLIP_2_r2.fastq\n",
      "-rw-rw-r--. 1 junhyeong junhyeong 6.0G Jun  7 15:22 GFP-AtSKRP-eCLIP_2_r2.parse.fastq\n",
      "-rw-rw-r--. 1 junhyeong junhyeong  14G Jun  7 16:07 GFP-AtSKRP-eCLIP_2.sam\n",
      "-rw-rw-r--. 1 junhyeong junhyeong 8.6G Jun  5 11:08 GFP-AtSKRP-eCLIP_3_f1.fastq\n",
      "-rw-rw-r--. 1 junhyeong junhyeong 5.7G Jun  7 15:24 GFP-AtSKRP-eCLIP_3_f1.parse.fastq\n",
      "-rw-rw-r--. 1 junhyeong junhyeong 8.6G Jun  5 11:08 GFP-AtSKRP-eCLIP_3_r2.fastq\n",
      "-rw-rw-r--. 1 junhyeong junhyeong 5.7G Jun  7 15:24 GFP-AtSKRP-eCLIP_3_r2.parse.fastq\n",
      "-rw-rw-r--. 1 junhyeong junhyeong  13G Jun  7 16:40 GFP-AtSKRP-eCLIP_3.sam\n",
      "-rw-rw-r--. 1 junhyeong junhyeong 1.9G Jun  5 11:08 GFP-eCLIP_f1.fastq\n",
      "-rw-rw-r--. 1 junhyeong junhyeong 1.2G Jun  7 15:24 GFP-eCLIP_f1.parse.fastq\n",
      "-rw-rw-r--. 1 junhyeong junhyeong 1.9G Jun  5 11:08 GFP-eCLIP_r2.fastq\n",
      "-rw-rw-r--. 1 junhyeong junhyeong 1.2G Jun  7 15:24 GFP-eCLIP_r2.parse.fastq\n",
      "-rw-rw-r--. 1 junhyeong junhyeong 2.5G Jun  7 16:18 GFP-eCLIP.sam\n"
     ]
    }
   ],
   "source": [
    "!ls -alh"
   ]
  },
  {
   "cell_type": "code",
   "execution_count": 144,
   "id": "2c3095e6-3a28-4687-b985-ae32b01ad67c",
   "metadata": {},
   "outputs": [
    {
     "name": "stdout",
     "output_type": "stream",
     "text": [
      "Detecting adapter sequence for read1...\n",
      ">Illumina TruSeq Adapter Read 1\n",
      "AGATCGGAAGAGCACACGTCTGAACTCCAGTCA\n",
      "\n",
      "Detecting adapter sequence for read2...\n",
      ">Illumina TruSeq Adapter Read 2\n",
      "AGATCGGAAGAGCGTCGTGTAGGGAAAGAGTGT\n",
      "\n",
      "Read1 before filtering:\n",
      "total reads: 29076664\n",
      "total bases: 4361499600\n",
      "Q20 bases: 3993291408(91.5578%)\n",
      "Q30 bases: 3709439773(85.0496%)\n",
      "\n",
      "Read2 before filtering:\n",
      "total reads: 29076664\n",
      "total bases: 4361499600\n",
      "Q20 bases: 4062245960(93.1387%)\n",
      "Q30 bases: 3906987664(89.579%)\n",
      "\n",
      "Read1 after filtering:\n",
      "total reads: 28588251\n",
      "total bases: 2133958767\n",
      "Q20 bases: 2085671774(97.7372%)\n",
      "Q30 bases: 2003364621(93.8802%)\n",
      "\n",
      "Read2 after filtering:\n",
      "total reads: 28588251\n",
      "total bases: 2093414303\n",
      "Q20 bases: 2056102590(98.2177%)\n",
      "Q30 bases: 2008200596(95.9294%)\n",
      "\n",
      "Filtering result:\n",
      "reads passed filter: 57176502\n",
      "reads failed due to low quality: 678058\n",
      "reads failed due to too many N: 2266\n",
      "reads failed due to too short: 296502\n",
      "reads with adapter trimmed: 54445279\n",
      "bases trimmed due to adapters: 4116640294\n",
      "\n",
      "Duplication rate: 4.19458%\n",
      "\n",
      "Insert size peak (evaluated by paired-end reads): 150\n",
      "\n",
      "JSON report: fastp.json\n",
      "HTML report: fastp.html\n",
      "\n",
      "fastp -i GFP-AtSKRP-eCLIP_1_f1.fastq -I GFP-AtSKRP-eCLIP_1_r2.fastq -o GFP-AtSKRP-eCLIP_1_f1.parse.fastq -O GFP-AtSKRP-eCLIP_1_r2.parse.fastq -w 16 --detect_adapter_for_pe --umi --umi_loc=read2 --umi_len=10 --umi_prefix=UMI \n",
      "fastp v0.23.2, time used: 146 seconds\n",
      "\n"
     ]
    }
   ],
   "source": [
    "!conda run -n seq-env fastp -i GFP-AtSKRP-eCLIP_1_f1.fastq -I GFP-AtSKRP-eCLIP_1_r2.fastq -o GFP-AtSKRP-eCLIP_1_f1.parse.fastq -O GFP-AtSKRP-eCLIP_1_r2.parse.fastq -w 16 --detect_adapter_for_pe --umi --umi_loc=read2 --umi_len=10 --umi_prefix=\"UMI\""
   ]
  },
  {
   "cell_type": "code",
   "execution_count": 145,
   "id": "8196fbaa-bb95-4348-91d3-71a9a86bb2c7",
   "metadata": {},
   "outputs": [
    {
     "name": "stdout",
     "output_type": "stream",
     "text": [
      "Detecting adapter sequence for read1...\n",
      ">Illumina TruSeq Adapter Read 1\n",
      "AGATCGGAAGAGCACACGTCTGAACTCCAGTCA\n",
      "\n",
      "Detecting adapter sequence for read2...\n",
      ">Illumina TruSeq Adapter Read 2\n",
      "AGATCGGAAGAGCGTCGTGTAGGGAAAGAGTGT\n",
      "\n",
      "Read1 before filtering:\n",
      "total reads: 27530414\n",
      "total bases: 4129562100\n",
      "Q20 bases: 3770818643(91.3128%)\n",
      "Q30 bases: 3503512484(84.8398%)\n",
      "\n",
      "Read2 before filtering:\n",
      "total reads: 27530414\n",
      "total bases: 4129562100\n",
      "Q20 bases: 3842867199(93.0575%)\n",
      "Q30 bases: 3692379472(89.4133%)\n",
      "\n",
      "Read1 after filtering:\n",
      "total reads: 27067010\n",
      "total bases: 2060703685\n",
      "Q20 bases: 2014323069(97.7493%)\n",
      "Q30 bases: 1933249030(93.815%)\n",
      "\n",
      "Read2 after filtering:\n",
      "total reads: 27067010\n",
      "total bases: 2015416579\n",
      "Q20 bases: 1983022930(98.3927%)\n",
      "Q30 bases: 1936437231(96.0812%)\n",
      "\n",
      "Filtering result:\n",
      "reads passed filter: 54134020\n",
      "reads failed due to low quality: 724188\n",
      "reads failed due to too many N: 2862\n",
      "reads failed due to too short: 199758\n",
      "reads with adapter trimmed: 50828646\n",
      "bases trimmed due to adapters: 3813602511\n",
      "\n",
      "Duplication rate: 3.98579%\n",
      "\n",
      "Insert size peak (evaluated by paired-end reads): 150\n",
      "\n",
      "JSON report: fastp.json\n",
      "HTML report: fastp.html\n",
      "\n",
      "fastp -i GFP-AtSKRP-eCLIP_2_f1.fastq -I GFP-AtSKRP-eCLIP_2_r2.fastq -o GFP-AtSKRP-eCLIP_2_f1.parse.fastq -O GFP-AtSKRP-eCLIP_2_r2.parse.fastq -w 16 --detect_adapter_for_pe --umi --umi_loc=read2 --umi_len=10 --umi_prefix=UMI \n",
      "fastp v0.23.2, time used: 125 seconds\n",
      "\n"
     ]
    }
   ],
   "source": [
    "!conda run -n seq-env fastp -i GFP-AtSKRP-eCLIP_2_f1.fastq -I GFP-AtSKRP-eCLIP_2_r2.fastq -o GFP-AtSKRP-eCLIP_2_f1.parse.fastq -O GFP-AtSKRP-eCLIP_2_r2.parse.fastq -w 16 --detect_adapter_for_pe --umi --umi_loc=read2 --umi_len=10 --umi_prefix=\"UMI\""
   ]
  },
  {
   "cell_type": "code",
   "execution_count": 146,
   "id": "2f4e5b59-d498-4eeb-8b74-efaa85d4ff59",
   "metadata": {},
   "outputs": [
    {
     "name": "stdout",
     "output_type": "stream",
     "text": [
      "Detecting adapter sequence for read1...\n",
      ">Illumina TruSeq Adapter Read 1\n",
      "AGATCGGAAGAGCACACGTCTGAACTCCAGTCA\n",
      "\n",
      "Detecting adapter sequence for read2...\n",
      ">Illumina TruSeq Adapter Read 2\n",
      "AGATCGGAAGAGCGTCGTGTAGGGAAAGAGTGT\n",
      "\n",
      "Read1 before filtering:\n",
      "total reads: 25195917\n",
      "total bases: 3779387550\n",
      "Q20 bases: 3500819460(92.6293%)\n",
      "Q30 bases: 3305622101(87.4645%)\n",
      "\n",
      "Read2 before filtering:\n",
      "total reads: 25195917\n",
      "total bases: 3779387550\n",
      "Q20 bases: 3541261883(93.6994%)\n",
      "Q30 bases: 3394204057(89.8083%)\n",
      "\n",
      "Read1 after filtering:\n",
      "total reads: 24759523\n",
      "total bases: 2025076497\n",
      "Q20 bases: 1992303829(98.3817%)\n",
      "Q30 bases: 1926274570(95.1211%)\n",
      "\n",
      "Read2 after filtering:\n",
      "total reads: 24759523\n",
      "total bases: 1978462172\n",
      "Q20 bases: 1952101091(98.6676%)\n",
      "Q30 bases: 1904239238(96.2485%)\n",
      "\n",
      "Filtering result:\n",
      "reads passed filter: 49519046\n",
      "reads failed due to low quality: 581284\n",
      "reads failed due to too many N: 916\n",
      "reads failed due to too short: 290588\n",
      "reads with adapter trimmed: 44053584\n",
      "bases trimmed due to adapters: 3218950110\n",
      "\n",
      "Duplication rate: 9.48633%\n",
      "\n",
      "Insert size peak (evaluated by paired-end reads): 150\n",
      "\n",
      "JSON report: fastp.json\n",
      "HTML report: fastp.html\n",
      "\n",
      "fastp -i GFP-AtSKRP-eCLIP_3_f1.fastq -I GFP-AtSKRP-eCLIP_3_r2.fastq -o GFP-AtSKRP-eCLIP_3_f1.parse.fastq -O GFP-AtSKRP-eCLIP_3_r2.parse.fastq -w 16 --detect_adapter_for_pe --umi --umi_loc=read2 --umi_len=10 --umi_prefix=UMI \n",
      "fastp v0.23.2, time used: 142 seconds\n",
      "\n"
     ]
    }
   ],
   "source": [
    "!conda run -n seq-env fastp -i GFP-AtSKRP-eCLIP_3_f1.fastq -I GFP-AtSKRP-eCLIP_3_r2.fastq -o GFP-AtSKRP-eCLIP_3_f1.parse.fastq -O GFP-AtSKRP-eCLIP_3_r2.parse.fastq -w 16 --detect_adapter_for_pe --umi --umi_loc=read2 --umi_len=10 --umi_prefix=\"UMI\""
   ]
  },
  {
   "cell_type": "code",
   "execution_count": 147,
   "id": "d5368488-e619-4600-8e00-75c7979ba48e",
   "metadata": {},
   "outputs": [
    {
     "name": "stdout",
     "output_type": "stream",
     "text": [
      "Detecting adapter sequence for read1...\n",
      ">Illumina TruSeq Adapter Read 1\n",
      "AGATCGGAAGAGCACACGTCTGAACTCCAGTCA\n",
      "\n",
      "Detecting adapter sequence for read2...\n",
      "No adapter detected for read2\n",
      "\n",
      "Read1 before filtering:\n",
      "total reads: 5452540\n",
      "total bases: 817881000\n",
      "Q20 bases: 585191588(71.5497%)\n",
      "Q30 bases: 493086622(60.2883%)\n",
      "\n",
      "Read2 before filtering:\n",
      "total reads: 5452540\n",
      "total bases: 817881000\n",
      "Q20 bases: 584148625(71.4222%)\n",
      "Q30 bases: 509777576(62.3291%)\n",
      "\n",
      "Read1 after filtering:\n",
      "total reads: 1951700\n",
      "total bases: 212035584\n",
      "Q20 bases: 189770388(89.4993%)\n",
      "Q30 bases: 163228260(76.9815%)\n",
      "\n",
      "Read2 after filtering:\n",
      "total reads: 1951700\n",
      "total bases: 218845591\n",
      "Q20 bases: 181272730(82.8313%)\n",
      "Q30 bases: 153756776(70.2581%)\n",
      "\n",
      "Filtering result:\n",
      "reads passed filter: 3903400\n",
      "reads failed due to low quality: 3213754\n",
      "reads failed due to too many N: 30\n",
      "reads failed due to too short: 3787896\n",
      "reads with adapter trimmed: 5075886\n",
      "bases trimmed due to adapters: 615137148\n",
      "\n",
      "Duplication rate: 1.11482%\n",
      "\n",
      "Insert size peak (evaluated by paired-end reads): 150\n",
      "\n",
      "JSON report: fastp.json\n",
      "HTML report: fastp.html\n",
      "\n",
      "fastp -i GFP-eCLIP_f1.fastq -I GFP-eCLIP_r2.fastq -o GFP-eCLIP_f1.parse.fastq -O GFP-eCLIP_r2.parse.fastq -w 16 --detect_adapter_for_pe --umi --umi_loc=read2 --umi_len=10 --umi_prefix=UMI \n",
      "fastp v0.23.2, time used: 64 seconds\n",
      "\n"
     ]
    }
   ],
   "source": [
    "!conda run -n seq-env fastp -i GFP-eCLIP_f1.fastq -I GFP-eCLIP_r2.fastq -o GFP-eCLIP_f1.parse.fastq -O GFP-eCLIP_r2.parse.fastq -w 16 --detect_adapter_for_pe --umi --umi_loc=read2 --umi_len=10 --umi_prefix=\"UMI\""
   ]
  },
  {
   "cell_type": "code",
   "execution_count": 91,
   "id": "5fdec491-5b0d-4bd8-aeff-b6b88f5560b3",
   "metadata": {},
   "outputs": [],
   "source": [
    "# 2-2. PCR deduplicate"
   ]
  },
  {
   "cell_type": "markdown",
   "id": "2820fdf8-5ffc-42f2-80cc-48dea6496bc8",
   "metadata": {},
   "source": [
    "# 3. READ MAPPING"
   ]
  },
  {
   "cell_type": "code",
   "execution_count": 148,
   "id": "878ec339-f9bb-43dc-970a-64a5e352e22e",
   "metadata": {},
   "outputs": [
    {
     "name": "stdout",
     "output_type": "stream",
     "text": [
      "total 141G\n",
      "drwxrwxr-x. 3 junhyeong junhyeong 4.0K Jun 11 14:54 .\n",
      "drwxrwxr-x. 5 junhyeong junhyeong 4.0K Jun  7 15:19 ..\n",
      "-rw-rw-r--. 1 junhyeong junhyeong 2.4M Jun 11 13:45 at-plusexon.bed\n",
      "-rw-r--r--. 1 junhyeong junhyeong  40K Jun 11 14:16 .at-plusexon.bed.swp\n",
      "-rw-rw-r--. 1 junhyeong junhyeong 3.7M Jun 11 13:45 at-plusexon.gff3\n",
      "-rw-r--r--. 1 junhyeong junhyeong  52K Jun 11 14:54 .at-plusexon.gff3.swp\n",
      "-rw-rw-r--. 1 junhyeong junhyeong 2.4M Jun 11 14:00 at-plusexon.slop.bed\n",
      "-rw-r--r--. 1 junhyeong junhyeong  40K Jun 11 14:16 .at-plusexon.slop.bed.swp\n",
      "-rw-rw-r--. 1 junhyeong junhyeong 470K Jun 11 15:12 fastp.html\n",
      "-rw-rw-r--. 1 junhyeong junhyeong 128K Jun 11 15:12 fastp.json\n",
      "-rw-rw-r--. 1 junhyeong junhyeong 903M Jun  9 15:32 filtered-GFP-AtSKRP-eCLIP_1.bam\n",
      "-rw-rw-r--. 1 junhyeong junhyeong 928M Jun  9 15:42 filtered-GFP-AtSKRP-eCLIP_2.bam\n",
      "-rw-rw-r--. 1 junhyeong junhyeong  36M Jun  9 15:42 filtered-GFP-AtSKRP-eCLIP_3.bam\n",
      "-rw-rw-r--. 1 junhyeong junhyeong 179K Jun  9 15:42 filtered-GFP-eCLIP.bam\n",
      "-rw-rw-r--. 1 junhyeong junhyeong 650M Jun 11 13:22 filtered-sorted-GFP-AtSKRP-eCLIP_1.bam\n",
      "-rw-rw-r--. 1 junhyeong junhyeong 667M Jun 11 13:23 filtered-sorted-GFP-AtSKRP-eCLIP_2.bam\n",
      "-rw-rw-r--. 1 junhyeong junhyeong  27M Jun 11 13:24 filtered-sorted-GFP-AtSKRP-eCLIP_3.bam\n",
      "-rw-rw-r--. 1 junhyeong junhyeong 172K Jun 11 13:24 filtered-sorted-GFP-eCLIP.bam\n",
      "-rw-rw-r--. 1 junhyeong junhyeong  64M Jun 11 13:23 fivepcounts-GFP-AtSKRP-eCLIP_1.bed\n",
      "-rw-rw-r--. 1 junhyeong junhyeong  64M Jun 11 13:24 fivepcounts-GFP-AtSKRP-eCLIP_2.bed\n",
      "-rw-rw-r--. 1 junhyeong junhyeong 2.2M Jun 11 13:24 fivepcounts-GFP-AtSKRP-eCLIP_3.bed\n",
      "-rw-rw-r--. 1 junhyeong junhyeong  24K Jun 11 13:24 fivepcounts-GFP-eCLIP.bed\n",
      "-rw-rw-r--. 1 junhyeong junhyeong 9.9G Jun  5 11:08 GFP-AtSKRP-eCLIP_1_f1.fastq\n",
      "-rw-rw-r--. 1 junhyeong junhyeong 6.1G Jun 11 15:06 GFP-AtSKRP-eCLIP_1_f1.parse.fastq\n",
      "-rw-rw-r--. 1 junhyeong junhyeong 9.9G Jun  5 11:08 GFP-AtSKRP-eCLIP_1_r2.fastq\n",
      "-rw-rw-r--. 1 junhyeong junhyeong 6.0G Jun 11 15:06 GFP-AtSKRP-eCLIP_1_r2.parse.fastq\n",
      "-rw-rw-r--. 1 junhyeong junhyeong  16G Jun  7 17:19 GFP-AtSKRP-eCLIP_1.sam\n",
      "-rw-rw-r--. 1 junhyeong junhyeong 9.3G Jun  5 11:08 GFP-AtSKRP-eCLIP_2_f1.fastq\n",
      "-rw-rw-r--. 1 junhyeong junhyeong 5.8G Jun 11 15:09 GFP-AtSKRP-eCLIP_2_f1.parse.fastq\n",
      "-rw-rw-r--. 1 junhyeong junhyeong 9.3G Jun  5 11:08 GFP-AtSKRP-eCLIP_2_r2.fastq\n",
      "-rw-rw-r--. 1 junhyeong junhyeong 5.8G Jun 11 15:09 GFP-AtSKRP-eCLIP_2_r2.parse.fastq\n",
      "-rw-rw-r--. 1 junhyeong junhyeong  15G Jun  7 17:29 GFP-AtSKRP-eCLIP_2.sam\n",
      "-rw-rw-r--. 1 junhyeong junhyeong 8.6G Jun  5 11:08 GFP-AtSKRP-eCLIP_3_f1.fastq\n",
      "-rw-rw-r--. 1 junhyeong junhyeong 5.6G Jun 11 15:11 GFP-AtSKRP-eCLIP_3_f1.parse.fastq\n",
      "-rw-rw-r--. 1 junhyeong junhyeong 8.6G Jun  5 11:08 GFP-AtSKRP-eCLIP_3_r2.fastq\n",
      "-rw-rw-r--. 1 junhyeong junhyeong 5.5G Jun 11 15:11 GFP-AtSKRP-eCLIP_3_r2.parse.fastq\n",
      "-rw-rw-r--. 1 junhyeong junhyeong  12G Jun  7 17:36 GFP-AtSKRP-eCLIP_3.sam\n",
      "-rw-rw-r--. 1 junhyeong junhyeong 1.9G Jun  5 11:08 GFP-eCLIP_f1.fastq\n",
      "-rw-rw-r--. 1 junhyeong junhyeong 546M Jun 11 15:12 GFP-eCLIP_f1.parse.fastq\n",
      "-rw-rw-r--. 1 junhyeong junhyeong 1.9G Jun  5 11:08 GFP-eCLIP_r2.fastq\n",
      "-rw-rw-r--. 1 junhyeong junhyeong 559M Jun 11 15:12 GFP-eCLIP_r2.parse.fastq\n",
      "-rw-rw-r--. 1 junhyeong junhyeong 1.2G Jun  9 15:44 GFP-eCLIP.sam\n",
      "drwxrwxr-x. 2 junhyeong junhyeong 4.0K Jun  9 16:27 .ipynb_checkpoints\n",
      "-rw-rw-r--. 1 junhyeong junhyeong  57M Jun 11 14:00 plusexon-filtered-AtSKRP-eCLIP_1.txt\n"
     ]
    }
   ],
   "source": [
    "!ls -alh"
   ]
  },
  {
   "cell_type": "code",
   "execution_count": 149,
   "id": "c11585b1-29f3-4833-972e-2f541604d7a0",
   "metadata": {},
   "outputs": [
    {
     "name": "stdout",
     "output_type": "stream",
     "text": [
      "total 332M\n",
      "drwxrwxr-x. 2 junhyeong junhyeong 4.0K Jun 11 13:55 .\n",
      "drwxrwxr-x. 5 junhyeong junhyeong 4.0K Jun  7 15:19 ..\n",
      "-rw-rw-r--. 1 junhyeong junhyeong 116M Jun  5 11:24 at.genome.fasta\n",
      "-rw-rw-r--. 1 junhyeong junhyeong  42M Jun  7 15:33 at.genome.index.1.ht2\n",
      "-rw-rw-r--. 1 junhyeong junhyeong  29M Jun  7 15:33 at.genome.index.2.ht2\n",
      "-rw-rw-r--. 1 junhyeong junhyeong 3.2K Jun  7 15:32 at.genome.index.3.ht2\n",
      "-rw-rw-r--. 1 junhyeong junhyeong  29M Jun  7 15:32 at.genome.index.4.ht2\n",
      "-rw-rw-r--. 1 junhyeong junhyeong  51M Jun  7 15:34 at.genome.index.5.ht2\n",
      "-rw-rw-r--. 1 junhyeong junhyeong  30M Jun  7 15:34 at.genome.index.6.ht2\n",
      "-rw-rw-r--. 1 junhyeong junhyeong   12 Jun  7 15:32 at.genome.index.7.ht2\n",
      "-rw-rw-r--. 1 junhyeong junhyeong    8 Jun  7 15:32 at.genome.index.8.ht2\n",
      "-rw-rw-r--. 1 junhyeong junhyeong   73 Jun 11 14:00 at.genome.size\n",
      "-rw-rw-r--. 1 junhyeong junhyeong  39M Jun  9 08:35 at.gff3\n"
     ]
    }
   ],
   "source": [
    "!ls -alh ../moa-genomic-fasta/"
   ]
  },
  {
   "cell_type": "code",
   "execution_count": 47,
   "id": "ca666acb-c9ff-4c7b-adf1-5dbb0e4ea553",
   "metadata": {},
   "outputs": [],
   "source": [
    "# !conda run -n seq-env hisat2-build -h"
   ]
  },
  {
   "cell_type": "code",
   "execution_count": 48,
   "id": "cd233723-5d55-4aa3-bf5c-6dbc2435d4d3",
   "metadata": {},
   "outputs": [],
   "source": [
    "# !conda run -n seq-env hisat2-build -f ../moa-genomic-fasta/at.genome.fasta ../moa-genomic-fasta/at.genome.index"
   ]
  },
  {
   "cell_type": "code",
   "execution_count": 49,
   "id": "22905c70-82fb-4238-951d-dbc1e9b2e5ea",
   "metadata": {},
   "outputs": [
    {
     "name": "stdout",
     "output_type": "stream",
     "text": [
      "HISAT2 version 2.2.1 by Daehwan Kim (infphilo@gmail.com, www.ccb.jhu.edu/people/infphilo)\n",
      "Usage: \n",
      "  hisat2 [options]* -x <ht2-idx> {-1 <m1> -2 <m2> | -U <r>} [-S <sam>]\n",
      "\n",
      "  <ht2-idx>  Index filename prefix (minus trailing .X.ht2).\n",
      "  <m1>       Files with #1 mates, paired with files in <m2>.\n",
      "             Could be gzip'ed (extension: .gz) or bzip2'ed (extension: .bz2).\n",
      "  <m2>       Files with #2 mates, paired with files in <m1>.\n",
      "             Could be gzip'ed (extension: .gz) or bzip2'ed (extension: .bz2).\n",
      "  <r>        Files with unpaired reads.\n",
      "             Could be gzip'ed (extension: .gz) or bzip2'ed (extension: .bz2).\n",
      "  <sam>      File for SAM output (default: stdout)\n",
      "\n",
      "  <m1>, <m2>, <r> can be comma-separated lists (no whitespace) and can be\n",
      "  specified many times.  E.g. '-U file1.fq,file2.fq -U file3.fq'.\n",
      "\n",
      "Options (defaults in parentheses):\n",
      "\n",
      " Input:\n",
      "  -q                 query input files are FASTQ .fq/.fastq (default)\n",
      "  --qseq             query input files are in Illumina's qseq format\n",
      "  -f                 query input files are (multi-)FASTA .fa/.mfa\n",
      "  -r                 query input files are raw one-sequence-per-line\n",
      "  -c                 <m1>, <m2>, <r> are sequences themselves, not files\n",
      "  -s/--skip <int>    skip the first <int> reads/pairs in the input (none)\n",
      "  -u/--upto <int>    stop after first <int> reads/pairs (no limit)\n",
      "  -5/--trim5 <int>   trim <int> bases from 5'/left end of reads (0)\n",
      "  -3/--trim3 <int>   trim <int> bases from 3'/right end of reads (0)\n",
      "  --phred33          qualities are Phred+33 (default)\n",
      "  --phred64          qualities are Phred+64\n",
      "  --int-quals        qualities encoded as space-delimited integers\n",
      "\n",
      " Presets:                 Same as:\n",
      "   --fast                 --no-repeat-index\n",
      "   --sensitive            --bowtie2-dp 1 -k 30 --score-min L,0,-0.5\n",
      "   --very-sensitive       --bowtie2-dp 2 -k 50 --score-min L,0,-1\n",
      "\n",
      " Alignment:\n",
      "  --bowtie2-dp <int> use Bowtie2's dynamic programming alignment algorithm (0) - 0: no dynamic programming, 1: conditional dynamic programming, and 2: unconditional dynamic programming (slowest)\n",
      "  --n-ceil <func>    func for max # non-A/C/G/Ts permitted in aln (L,0,0.15)\n",
      "  --ignore-quals     treat all quality values as 30 on Phred scale (off)\n",
      "  --nofw             do not align forward (original) version of read (off)\n",
      "  --norc             do not align reverse-complement version of read (off)\n",
      "  --no-repeat-index  do not use repeat index\n",
      "\n",
      " Spliced Alignment:\n",
      "  --pen-cansplice <int>              penalty for a canonical splice site (0)\n",
      "  --pen-noncansplice <int>           penalty for a non-canonical splice site (12)\n",
      "  --pen-canintronlen <func>          penalty for long introns (G,-8,1) with canonical splice sites\n",
      "  --pen-noncanintronlen <func>       penalty for long introns (G,-8,1) with noncanonical splice sites\n",
      "  --min-intronlen <int>              minimum intron length (20)\n",
      "  --max-intronlen <int>              maximum intron length (500000)\n",
      "  --known-splicesite-infile <path>   provide a list of known splice sites\n",
      "  --novel-splicesite-outfile <path>  report a list of splice sites\n",
      "  --novel-splicesite-infile <path>   provide a list of novel splice sites\n",
      "  --no-temp-splicesite               disable the use of splice sites found\n",
      "  --no-spliced-alignment             disable spliced alignment\n",
      "  --rna-strandness <string>          specify strand-specific information (unstranded)\n",
      "  --tmo                              reports only those alignments within known transcriptome\n",
      "  --dta                              reports alignments tailored for transcript assemblers\n",
      "  --dta-cufflinks                    reports alignments tailored specifically for cufflinks\n",
      "  --avoid-pseudogene                 tries to avoid aligning reads to pseudogenes (experimental option)\n",
      "  --no-templatelen-adjustment        disables template length adjustment for RNA-seq reads\n",
      "\n",
      " Scoring:\n",
      "  --mp <int>,<int>   max and min penalties for mismatch; lower qual = lower penalty <6,2>\n",
      "  --sp <int>,<int>   max and min penalties for soft-clipping; lower qual = lower penalty <2,1>\n",
      "  --no-softclip      no soft-clipping\n",
      "  --np <int>         penalty for non-A/C/G/Ts in read/ref (1)\n",
      "  --rdg <int>,<int>  read gap open, extend penalties (5,3)\n",
      "  --rfg <int>,<int>  reference gap open, extend penalties (5,3)\n",
      "  --score-min <func> min acceptable alignment score w/r/t read length\n",
      "                     (L,0.0,-0.2)\n",
      "\n",
      " Reporting:\n",
      "  -k <int>           It searches for at most <int> distinct, primary alignments for each read. Primary alignments mean \n",
      "                     alignments whose alignment score is equal to or higher than any other alignments. The search terminates \n",
      "                     when it cannot find more distinct valid alignments, or when it finds <int>, whichever happens first. \n",
      "                     The alignment score for a paired-end alignment equals the sum of the alignment scores of \n",
      "                     the individual mates. Each reported read or pair alignment beyond the first has the SAM ‘secondary’ bit \n",
      "                     (which equals 256) set in its FLAGS field. For reads that have more than <int> distinct, \n",
      "                     valid alignments, hisat2 does not guarantee that the <int> alignments reported are the best possible \n",
      "                     in terms of alignment score. Default: 5 (linear index) or 10 (graph index).\n",
      "                     Note: HISAT2 is not designed with large values for -k in mind, and when aligning reads to long, \n",
      "                     repetitive genomes, large -k could make alignment much slower.\n",
      "  --max-seeds <int>  HISAT2, like other aligners, uses seed-and-extend approaches. HISAT2 tries to extend seeds to \n",
      "                     full-length alignments. In HISAT2, --max-seeds is used to control the maximum number of seeds that \n",
      "                     will be extended. For DNA-read alignment (--no-spliced-alignment), HISAT2 extends up to these many seeds\n",
      "                     and skips the rest of the seeds. For RNA-read alignment, HISAT2 skips extending seeds and reports \n",
      "                     no alignments if the number of seeds is larger than the number specified with the option, \n",
      "                     to be compatible with previous versions of HISAT2. Large values for --max-seeds may improve alignment \n",
      "                     sensitivity, but HISAT2 is not designed with large values for --max-seeds in mind, and when aligning \n",
      "                     reads to long, repetitive genomes, large --max-seeds could make alignment much slower. \n",
      "                     The default value is the maximum of 5 and the value that comes with -k times 2.\n",
      "  -a/--all           HISAT2 reports all alignments it can find. Using the option is equivalent to using both --max-seeds \n",
      "                     and -k with the maximum value that a 64-bit signed integer can represent (9,223,372,036,854,775,807).\n",
      "  --repeat           report alignments to repeat sequences directly\n",
      "\n",
      " Paired-end:\n",
      "  -I/--minins <int>  minimum fragment length (0), only valid with --no-spliced-alignment\n",
      "  -X/--maxins <int>  maximum fragment length (500), only valid with --no-spliced-alignment\n",
      "  --fr/--rf/--ff     -1, -2 mates align fw/rev, rev/fw, fw/fw (--fr)\n",
      "  --no-mixed         suppress unpaired alignments for paired reads\n",
      "  --no-discordant    suppress discordant alignments for paired reads\n",
      "\n",
      " Output:\n",
      "  -t/--time          print wall-clock time taken by search phases\n",
      "  --un <path>           write unpaired reads that didn't align to <path>\n",
      "  --al <path>           write unpaired reads that aligned at least once to <path>\n",
      "  --un-conc <path>      write pairs that didn't align concordantly to <path>\n",
      "  --al-conc <path>      write pairs that aligned concordantly at least once to <path>\n",
      "  (Note: for --un, --al, --un-conc, or --al-conc, add '-gz' to the option name, e.g.\n",
      "  --un-gz <path>, to gzip compress output, or add '-bz2' to bzip2 compress output.)\n",
      "  --summary-file <path> print alignment summary to this file.\n",
      "  --new-summary         print alignment summary in a new style, which is more machine-friendly.\n",
      "  --quiet               print nothing to stderr except serious errors\n",
      "  --met-file <path>     send metrics to file at <path> (off)\n",
      "  --met-stderr          send metrics to stderr (off)\n",
      "  --met <int>           report internal counters & metrics every <int> secs (1)\n",
      "  --no-head             suppress header lines, i.e. lines starting with @\n",
      "  --no-sq               suppress @SQ header lines\n",
      "  --rg-id <text>        set read group id, reflected in @RG line and RG:Z: opt field\n",
      "  --rg <text>           add <text> (\"lab:value\") to @RG line of SAM header.\n",
      "                        Note: @RG line only printed when --rg-id is set.\n",
      "  --omit-sec-seq        put '*' in SEQ and QUAL fields for secondary alignments.\n",
      "\n",
      " Performance:\n",
      "  -o/--offrate <int> override offrate of index; must be >= index's offrate\n",
      "  -p/--threads <int> number of alignment threads to launch (1)\n",
      "  --reorder          force SAM output order to match order of input reads\n",
      "  --mm               use memory-mapped I/O for index; many 'hisat2's can share\n",
      "\n",
      " Other:\n",
      "  --qc-filter        filter out reads that are bad according to QSEQ filter\n",
      "  --seed <int>       seed for random number generator (0)\n",
      "  --non-deterministic seed rand. gen. arbitrarily instead of using read attributes\n",
      "  --remove-chrname   remove 'chr' from reference names in alignment\n",
      "  --add-chrname      add 'chr' to reference names in alignment \n",
      "  --version          print version information and quit\n",
      "  -h/--help          print this usage message\n",
      "\n"
     ]
    }
   ],
   "source": [
    "!conda run -n seq-env hisat2 -h"
   ]
  },
  {
   "cell_type": "code",
   "execution_count": 3,
   "id": "4da9d970-ed89-479c-afad-19375befe9a8",
   "metadata": {},
   "outputs": [
    {
     "name": "stdout",
     "output_type": "stream",
     "text": [
      "28588251 reads; of these:\n",
      "  28588251 (100.00%) were paired; of these:\n",
      "    17486146 (61.17%) aligned concordantly 0 times\n",
      "    9292031 (32.50%) aligned concordantly exactly 1 time\n",
      "    1810074 (6.33%) aligned concordantly >1 times\n",
      "    ----\n",
      "    17486146 pairs aligned concordantly 0 times; of these:\n",
      "      253322 (1.45%) aligned discordantly 1 time\n",
      "    ----\n",
      "    17232824 pairs aligned 0 times concordantly or discordantly; of these:\n",
      "      34465648 mates make up the pairs; of these:\n",
      "        33160772 (96.21%) aligned 0 times\n",
      "        1040976 (3.02%) aligned exactly 1 time\n",
      "        263900 (0.77%) aligned >1 times\n",
      "42.00% overall alignment rate\n",
      "\n"
     ]
    }
   ],
   "source": [
    "!conda run -n seq-env hisat2 -x ../moa-genomic-fasta/at.genome.index -1 ./GFP-AtSKRP-eCLIP_1_f1.parse.fastq -2 ./GFP-AtSKRP-eCLIP_1_r2.parse.fastq -S ./GFP-AtSKRP-eCLIP_1.sam -p 64 --dta --no-softclip --score-min L,0.6,-0.6"
   ]
  },
  {
   "cell_type": "code",
   "execution_count": 51,
   "id": "b79d4ced-254e-490f-ae85-92b7ee09e393",
   "metadata": {},
   "outputs": [
    {
     "name": "stdout",
     "output_type": "stream",
     "text": [
      "27107874 reads; of these:\n",
      "  27107874 (100.00%) were paired; of these:\n",
      "    20384570 (75.20%) aligned concordantly 0 times\n",
      "    5553534 (20.49%) aligned concordantly exactly 1 time\n",
      "    1169770 (4.32%) aligned concordantly >1 times\n",
      "    ----\n",
      "    20384570 pairs aligned concordantly 0 times; of these:\n",
      "      47923 (0.24%) aligned discordantly 1 time\n",
      "    ----\n",
      "    20336647 pairs aligned 0 times concordantly or discordantly; of these:\n",
      "      40673294 mates make up the pairs; of these:\n",
      "        36885313 (90.69%) aligned 0 times\n",
      "        3420316 (8.41%) aligned exactly 1 time\n",
      "        367665 (0.90%) aligned >1 times\n",
      "31.97% overall alignment rate\n",
      "\n"
     ]
    }
   ],
   "source": [
    "!conda run -n seq-env hisat2 -x ../moa-genomic-fasta/at.genome.index -1 ./GFP-AtSKRP-eCLIP_2_f1.parse.fastq -2 ./GFP-AtSKRP-eCLIP_2_r2.parse.fastq -S ./GFP-AtSKRP-eCLIP_2.sam -p 64 --dta --no-softclip --score-min L,0.6,-0.6"
   ]
  },
  {
   "cell_type": "code",
   "execution_count": null,
   "id": "1486febe-5000-4e36-ab04-ca827896b0d2",
   "metadata": {},
   "outputs": [],
   "source": [
    "!conda run -n seq-env hisat2 -x ../moa-genomic-fasta/at.genome.index -1 ./GFP-AtSKRP-eCLIP_3_f1.parse.fastq -2 ./GFP-AtSKRP-eCLIP_3_r2.parse.fastq -S ./GFP-AtSKRP-eCLIP_3.sam -p 64 --dta --no-softclip --score-min L,0.6,-0.6"
   ]
  },
  {
   "cell_type": "code",
   "execution_count": null,
   "id": "b66538e8-ec16-42de-8662-e44583865778",
   "metadata": {},
   "outputs": [],
   "source": [
    "!conda run -n seq-env hisat2 -x ../moa-genomic-fasta/at.genome.index -1 ./GFP-eCLIP_f1.parse.fastq -2 ./GFP-eCLIP_r2.parse.fastq -S ./GFP-eCLIP.sam -p 64 --dta --no-softclip --score-min L,0.6,-0.6"
   ]
  },
  {
   "cell_type": "code",
   "execution_count": 73,
   "id": "fb141b3f-db6b-469b-ae23-c6e73595b842",
   "metadata": {},
   "outputs": [
    {
     "name": "stdout",
     "output_type": "stream",
     "text": [
      "\n",
      "Program: samtools (Tools for alignments in the SAM format)\n",
      "Version: 1.21 (using htslib 1.21)\n",
      "\n",
      "Usage:   samtools <command> [options]\n",
      "\n",
      "Commands:\n",
      "  -- Indexing\n",
      "     dict           create a sequence dictionary file\n",
      "     faidx          index/extract FASTA\n",
      "     fqidx          index/extract FASTQ\n",
      "     index          index alignment\n",
      "\n",
      "  -- Editing\n",
      "     calmd          recalculate MD/NM tags and '=' bases\n",
      "     fixmate        fix mate information\n",
      "     reheader       replace BAM header\n",
      "     targetcut      cut fosmid regions (for fosmid pool only)\n",
      "     addreplacerg   adds or replaces RG tags\n",
      "     markdup        mark duplicates\n",
      "     ampliconclip   clip oligos from the end of reads\n",
      "\n",
      "  -- File operations\n",
      "     collate        shuffle and group alignments by name\n",
      "     cat            concatenate BAMs\n",
      "     consensus      produce a consensus Pileup/FASTA/FASTQ\n",
      "     merge          merge sorted alignments\n",
      "     mpileup        multi-way pileup\n",
      "     sort           sort alignment file\n",
      "     split          splits a file by read group\n",
      "     quickcheck     quickly check if SAM/BAM/CRAM file appears intact\n",
      "     fastq          converts a BAM to a FASTQ\n",
      "     fasta          converts a BAM to a FASTA\n",
      "     import         Converts FASTA or FASTQ files to SAM/BAM/CRAM\n",
      "     reference      Generates a reference from aligned data\n",
      "     reset          Reverts aligner changes in reads\n",
      "\n",
      "  -- Statistics\n",
      "     bedcov         read depth per BED region\n",
      "     coverage       alignment depth and percent coverage\n",
      "     depth          compute the depth\n",
      "     flagstat       simple stats\n",
      "     idxstats       BAM index stats\n",
      "     cram-size      list CRAM Content-ID and Data-Series sizes\n",
      "     phase          phase heterozygotes\n",
      "     stats          generate stats (former bamcheck)\n",
      "     ampliconstats  generate amplicon specific stats\n",
      "\n",
      "  -- Viewing\n",
      "     flags          explain BAM flags\n",
      "     head           header viewer\n",
      "     tview          text alignment viewer\n",
      "     view           SAM<->BAM<->CRAM conversion\n",
      "     depad          convert padded BAM to unpadded BAM\n",
      "     samples        list the samples in a set of SAM/BAM/CRAM files\n",
      "\n",
      "  -- Misc\n",
      "     help [cmd]     display this help message or help for [cmd]\n",
      "     version        detailed version information\n",
      "\n"
     ]
    }
   ],
   "source": [
    "!/usr/local/bin/samtools-1.21/bin/samtools --help"
   ]
  },
  {
   "cell_type": "code",
   "execution_count": 79,
   "id": "d06af3d3-1e67-446a-889d-2e357b498e0d",
   "metadata": {},
   "outputs": [
    {
     "name": "stdout",
     "output_type": "stream",
     "text": [
      "\n",
      "Usage: samtools view [options] <in.bam>|<in.sam>|<in.cram> [region ...]\n",
      "\n",
      "Output options:\n",
      "  -b, --bam                  Output BAM\n",
      "  -C, --cram                 Output CRAM (requires -T)\n",
      "  -1, --fast                 Use fast BAM compression (and default to --bam)\n",
      "  -u, --uncompressed         Uncompressed BAM output (and default to --bam)\n",
      "  -h, --with-header          Include header in SAM output\n",
      "  -H, --header-only          Print SAM header only (no alignments)\n",
      "      --no-header            Print SAM alignment records only [default]\n",
      "  -c, --count                Print only the count of matching records\n",
      "  -o, --output FILE          Write output to FILE [standard output]\n",
      "  -U, --unoutput FILE, --output-unselected FILE\n",
      "                             Output reads not selected by filters to FILE\n",
      "  -p, --unmap                Set flag to UNMAP on reads not selected\n",
      "                             then write to output file.\n",
      "  -P, --fetch-pairs          Retrieve complete pairs even when outside of region\n",
      "Input options:\n",
      "  -t, --fai-reference FILE   FILE listing reference names and lengths\n",
      "  -M, --use-index            Use index and multi-region iterator for regions\n",
      "      --region[s]-file FILE  Use index to include only reads overlapping FILE\n",
      "  -X, --customized-index     Expect extra index file argument after <in.bam>\n",
      "\n",
      "Filtering options (Only include in output reads that...):\n",
      "  -L, --target[s]-file FILE  ...overlap (BED) regions in FILE\n",
      "  -N, --qname-file [^]FILE   ...whose read name is listed in FILE (\"^\" negates)\n",
      "  -r, --read-group STR       ...are in read group STR\n",
      "  -R, --read-group-file [^]FILE\n",
      "                             ...are in a read group listed in FILE\n",
      "  -d, --tag STR1[:STR2]      ...have a tag STR1 (with associated value STR2)\n",
      "  -D, --tag-file STR:FILE    ...have a tag STR whose value is listed in FILE\n",
      "  -q, --min-MQ INT           ...have mapping quality >= INT\n",
      "  -l, --library STR          ...are in library STR\n",
      "  -m, --min-qlen INT         ...cover >= INT query bases (as measured via CIGAR)\n",
      "  -e, --expr STR             ...match the filter expression STR\n",
      "  -f, --require-flags FLAG   ...have all of the FLAGs present\n",
      "  -F, --excl[ude]-flags FLAG ...have none of the FLAGs present\n",
      "      --rf, --incl-flags, --include-flags FLAG\n",
      "                             ...have some of the FLAGs present\n",
      "  -G FLAG                    EXCLUDE reads with all of the FLAGs present\n",
      "      --subsample FLOAT      Keep only FLOAT fraction of templates/read pairs\n",
      "      --subsample-seed INT   Influence WHICH reads are kept in subsampling [0]\n",
      "  -s INT.FRAC                Same as --subsample 0.FRAC --subsample-seed INT\n",
      "\n",
      "Processing options:\n",
      "      --add-flags FLAG       Add FLAGs to reads\n",
      "      --remove-flags FLAG    Remove FLAGs from reads\n",
      "  -x, --remove-tag STR\n",
      "               Comma-separated read tags to strip (repeatable) [null]\n",
      "      --keep-tag STR\n",
      "               Comma-separated read tags to preserve (repeatable) [null].\n",
      "               Equivalent to \"-x ^STR\"\n",
      "  -B, --remove-B             Collapse the backward CIGAR operation\n",
      "  -z, --sanitize FLAGS       Perform sanitity checking and fixing on records.\n",
      "                             FLAGS is comma separated (see manual). [off]\n",
      "\n",
      "General options:\n",
      "  -?, --help   Print long help, including note about region specification\n",
      "  -S           Ignored (input format is auto-detected)\n",
      "      --no-PG  Do not add a PG line\n",
      "      --input-fmt-option OPT[=VAL]\n",
      "               Specify a single input file format option in the form\n",
      "               of OPTION or OPTION=VALUE\n",
      "  -O, --output-fmt FORMAT[,OPT[=VAL]]...\n",
      "               Specify output format (SAM, BAM, CRAM)\n",
      "      --output-fmt-option OPT[=VAL]\n",
      "               Specify a single output file format option in the form\n",
      "               of OPTION or OPTION=VALUE\n",
      "  -T, --reference FILE\n",
      "               Reference sequence FASTA FILE [null]\n",
      "  -@, --threads INT\n",
      "               Number of additional threads to use [0]\n",
      "      --write-index\n",
      "               Automatically index the output files [off]\n",
      "      --verbosity INT\n",
      "               Set level of verbosity\n",
      "\n",
      "Notes:\n",
      "\n",
      "1. This command now auto-detects the input format (BAM/CRAM/SAM).\n",
      "   Further control over the CRAM format can be specified by using the\n",
      "   --output-fmt-option, e.g. to specify the number of sequences per slice\n",
      "   and to use avoid reference based compression:\n",
      "\n",
      "\tsamtools view -C --output-fmt-option seqs_per_slice=5000 \\\n",
      "\t   --output-fmt-option no_ref -o out.cram in.bam\n",
      "\n",
      "   Options can also be specified as a comma separated list within the\n",
      "   --output-fmt value too.  For example this is equivalent to the above\n",
      "\n",
      "\tsamtools view --output-fmt cram,seqs_per_slice=5000,no_ref \\\n",
      "\t   -o out.cram in.bam\n",
      "\n",
      "2. The file supplied with `-t' is SPACE/TAB delimited with the first\n",
      "   two fields of each line consisting of the reference name and the\n",
      "   corresponding sequence length. The `.fai' file generated by \n",
      "   `samtools faidx' is suitable for use as this file. This may be an\n",
      "   empty file if reads are unaligned.\n",
      "\n",
      "3. SAM->BAM conversion:  samtools view -bT ref.fa in.sam.gz\n",
      "\n",
      "4. BAM->SAM conversion:  samtools view -h in.bam\n",
      "\n",
      "5. A region should be presented in one of the following formats:\n",
      "   `chr1', `chr2:1,000' and `chr3:1000-2,000'. When a region is\n",
      "   specified, the input alignment file must be a sorted and indexed\n",
      "   alignment (BAM/CRAM) file.\n",
      "\n",
      "6. Option `-u' is preferred over `-b' when the output is piped to\n",
      "   another samtools command.\n",
      "\n",
      "7. Option `-M`/`--use-index` causes overlaps with `-L` BED file regions and\n",
      "   command-line region arguments to be computed using the multi-region iterator\n",
      "   and an index. This increases speed, omits duplicates, and outputs the reads\n",
      "   as they are ordered in the input SAM/BAM/CRAM file.\n",
      "\n",
      "8. Options `-L`/`--target[s]-file` and `--region[s]-file` may not be used\n",
      "   together. `--region[s]-file FILE` is simply equivalent to `-M -L FILE`,\n",
      "   so using both causes one of the specified BED files to be ignored.\n",
      "\n"
     ]
    }
   ],
   "source": [
    "!/usr/local/bin/samtools-1.21/bin/samtools view --help"
   ]
  },
  {
   "cell_type": "markdown",
   "id": "bd2058c5-c048-4e03-97fc-16eab998b247",
   "metadata": {},
   "source": [
    "# Main analysis"
   ]
  },
  {
   "cell_type": "code",
   "execution_count": 41,
   "id": "f4cab737-1aae-4a37-84b5-0c25462ba23b",
   "metadata": {},
   "outputs": [
    {
     "name": "stdout",
     "output_type": "stream",
     "text": [
      "1\t3630\t3913\tAT1G01010.1\t+\n",
      "1\t3995\t4276\tAT1G01010.1\t+\n",
      "1\t4485\t4605\tAT1G01010.1\t+\n",
      "1\t4705\t5095\tAT1G01010.1\t+\n",
      "1\t5173\t5326\tAT1G01010.1\t+\n",
      "1\t5438\t5899\tAT1G01010.1\t+\n",
      "1\t23145\t24451\tAT1G01040.1\t+\n",
      "1\t24541\t24655\tAT1G01040.1\t+\n",
      "1\t24751\t24962\tAT1G01040.1\t+\n",
      "1\t25040\t25435\tAT1G01040.1\t+\n"
     ]
    }
   ],
   "source": [
    "!grep -P '\\texon\\t' ../moa-genomic-fasta/at.gff3 | grep -P '\\t\\+\\t' | grep -P '\\.1$' | sed -e 's/\\tParent=/\\t/g'  > at-plusexon.gff3\n",
    "!awk -F '\\t' -v OFS='\\t' '{ print $1, $4-1, $5, $9, $7 }' at-plusexon.gff3 | sed -e 's/Chr//g'  > at-plusexon.bed\n",
    "!head at-plusexon.bed"
   ]
  },
  {
   "cell_type": "code",
   "execution_count": 48,
   "id": "a260fd1d-38a0-4b72-baf1-5f87778dae19",
   "metadata": {},
   "outputs": [
    {
     "name": "stdout",
     "output_type": "stream",
     "text": [
      "1\t30427671\n",
      "2\t19698289\n",
      "3\t23459830\n",
      "4\t18585056\n",
      "5\t26975502\n",
      "M\t366924\n",
      "C\t154478\n"
     ]
    }
   ],
   "source": [
    "!bioawk -c fastx '{ print $name\"\\t\"length($seq) }' ../moa-genomic-fasta/at.genome.fasta | sed -e 's/mitochondria/M/g' | sed -e ' s/chloroplast/C/g' > ../moa-genomic-fasta/at.genome.size\n",
    "!head ../moa-genomic-fasta/at.genome.size"
   ]
  },
  {
   "cell_type": "code",
   "execution_count": 49,
   "id": "084eafcf-4f5f-468a-adb8-00cf282094f0",
   "metadata": {},
   "outputs": [
    {
     "name": "stdout",
     "output_type": "stream",
     "text": [
      "1\t3580\t3963\tAT1G01010.1\t+\n",
      "1\t3945\t4326\tAT1G01010.1\t+\n",
      "1\t4435\t4655\tAT1G01010.1\t+\n",
      "1\t4655\t5145\tAT1G01010.1\t+\n",
      "1\t5123\t5376\tAT1G01010.1\t+\n",
      "1\t5388\t5949\tAT1G01010.1\t+\n",
      "1\t23095\t24501\tAT1G01040.1\t+\n",
      "1\t24491\t24705\tAT1G01040.1\t+\n",
      "1\t24701\t25012\tAT1G01040.1\t+\n",
      "1\t24990\t25485\tAT1G01040.1\t+\n"
     ]
    }
   ],
   "source": [
    "!/usr/local/bin/bedtools2/bin/bedtools slop -i at-plusexon.bed -g ../moa-genomic-fasta/at.genome.size -b 50 > at-plusexon.slop.bed\n",
    "!head at-plusexon.slop.bed"
   ]
  },
  {
   "cell_type": "markdown",
   "id": "f60c0371-830c-40fd-8f61-b60aa4ebde28",
   "metadata": {},
   "source": [
    "## SAM PARSERING"
   ]
  },
  {
   "cell_type": "code",
   "execution_count": 4,
   "id": "7caa33a3-abff-4405-8b41-22141944bff5",
   "metadata": {},
   "outputs": [],
   "source": [
    "!(/usr/local/bin/samtools-1.21/bin/samtools view -@ 64 -H ./GFP-AtSKRP-eCLIP_1.sam; \\\n",
    "  /usr/local/bin/samtools-1.21/bin/samtools view -@ 64 -F20 ./GFP-AtSKRP-eCLIP_1.sam | \\\n",
    "  bioawk -c sam '{ if (length($seq) >= 25) print $0; }') | \\\n",
    " /usr/local/bin/samtools-1.21/bin/samtools view -@ 64 -b -o ./filtered-GFP-AtSKRP-eCLIP_1.bam"
   ]
  },
  {
   "cell_type": "code",
   "execution_count": 86,
   "id": "ff40ac22-4757-4eb1-83ec-adbb52ef3427",
   "metadata": {},
   "outputs": [],
   "source": [
    "!(/usr/local/bin/samtools-1.21/bin/samtools view -@ 64 -H ./GFP-AtSKRP-eCLIP_2.sam; \\\n",
    "  /usr/local/bin/samtools-1.21/bin/samtools view -@ 64 -F20 ./GFP-AtSKRP-eCLIP_2.sam | \\\n",
    "  bioawk -c sam '{ if (length($seq) >= 25) print $0; }') | \\\n",
    " /usr/local/bin/samtools-1.21/bin/samtools view -@ 64 -b -o ./filtered-GFP-AtSKRP-eCLIP_2.bam"
   ]
  },
  {
   "cell_type": "code",
   "execution_count": 87,
   "id": "29ceffb6-ec6c-404d-9f4d-f061972c7428",
   "metadata": {},
   "outputs": [],
   "source": [
    "!(/usr/local/bin/samtools-1.21/bin/samtools view -@ 64 -H ./GFP-AtSKRP-eCLIP_3.sam; \\\n",
    "  /usr/local/bin/samtools-1.21/bin/samtools view -@ 64 -F20 ./GFP-AtSKRP-eCLIP_3.sam | \\\n",
    "  bioawk -c sam '{ if (length($seq) >= 25) print $0; }') | \\\n",
    " /usr/local/bin/samtools-1.21/bin/samtools view -@ 64 -b -o ./filtered-GFP-AtSKRP-eCLIP_3.bam"
   ]
  },
  {
   "cell_type": "code",
   "execution_count": 88,
   "id": "49d5fc55-eab4-420b-974c-22b00d6d2888",
   "metadata": {},
   "outputs": [
    {
     "name": "stdout",
     "output_type": "stream",
     "text": [
      "[E::sam_parse1] SEQ and QUAL are of different length\n",
      "samtools view: error reading file \"./GFP-eCLIP.sam\"\n",
      "samtools view: error closing \"./GFP-eCLIP.sam\": -5\n"
     ]
    }
   ],
   "source": [
    "!(/usr/local/bin/samtools-1.21/bin/samtools view -@ 64 -H ./GFP-eCLIP.sam; \\\n",
    "  /usr/local/bin/samtools-1.21/bin/samtools view -@ 64 -F20 ./GFP-eCLIP.sam | \\\n",
    "  bioawk -c sam '{ if (length($seq) >= 20) print $0; }') | \\\n",
    " /usr/local/bin/samtools-1.21/bin/samtools view -@ 64 -b -o ./filtered-GFP-eCLIP.bam"
   ]
  },
  {
   "cell_type": "code",
   "execution_count": 89,
   "id": "a0f76384-0ea6-4b5f-8e72-92ad183e746b",
   "metadata": {},
   "outputs": [
    {
     "name": "stdout",
     "output_type": "stream",
     "text": [
      "-rw-rw-r--. 1 junhyeong junhyeong 903M Jun  9 15:32 filtered-GFP-AtSKRP-eCLIP_1.bam\n",
      "-rw-rw-r--. 1 junhyeong junhyeong 928M Jun  9 15:42 filtered-GFP-AtSKRP-eCLIP_2.bam\n",
      "-rw-rw-r--. 1 junhyeong junhyeong  36M Jun  9 15:42 filtered-GFP-AtSKRP-eCLIP_3.bam\n",
      "-rw-rw-r--. 1 junhyeong junhyeong 179K Jun  9 15:42 filtered-GFP-eCLIP.bam\n",
      "-rw-rw-r--. 1 junhyeong junhyeong 650M Jun  9 15:38 filtered-sorted-GFP-AtSKRP-eCLIP_1.bam\n"
     ]
    }
   ],
   "source": [
    "!ls -alh *.bam"
   ]
  },
  {
   "cell_type": "markdown",
   "id": "8f4002cc-bf55-4e3a-a30c-ceeaa9e395a0",
   "metadata": {},
   "source": [
    "## sort bam"
   ]
  },
  {
   "cell_type": "code",
   "execution_count": 5,
   "id": "a9972c54-7366-4c5d-9242-65c946a0423f",
   "metadata": {},
   "outputs": [
    {
     "name": "stdout",
     "output_type": "stream",
     "text": [
      "[bam_sort_core] merging from 0 files and 64 in-memory blocks...\n",
      "1\t3635\t3636\t1\n",
      "1\t3639\t3640\t3\n",
      "1\t3718\t3719\t3\n",
      "1\t3735\t3736\t1\n",
      "1\t3781\t3782\t1\n",
      "1\t3795\t3796\t1\n",
      "1\t3827\t3828\t1\n",
      "1\t3874\t3875\t2\n",
      "1\t3995\t3996\t1\n",
      "1\t4171\t4172\t1\n"
     ]
    }
   ],
   "source": [
    "!/usr/local/bin/samtools-1.21/bin/samtools sort -@ 64 -o filtered-sorted-GFP-AtSKRP-eCLIP_1.bam filtered-GFP-AtSKRP-eCLIP_1.bam\n",
    "!/usr/local/bin/bedtools2/bin/bedtools genomecov -ibam filtered-sorted-GFP-AtSKRP-eCLIP_1.bam -strand + -bg -5 > fivepcounts-GFP-AtSKRP-eCLIP_1.bed\n",
    "!head fivepcounts-GFP-AtSKRP-eCLIP_1.bed"
   ]
  },
  {
   "cell_type": "code",
   "execution_count": 34,
   "id": "d6ba5f23-86ba-4739-ae3b-d2bbd15656d5",
   "metadata": {},
   "outputs": [
    {
     "name": "stdout",
     "output_type": "stream",
     "text": [
      "[bam_sort_core] merging from 0 files and 64 in-memory blocks...\n",
      "1\t3988\t3989\t1\n",
      "1\t4030\t4031\t1\n",
      "1\t4100\t4101\t1\n",
      "1\t4227\t4228\t1\n",
      "1\t4244\t4245\t1\n",
      "1\t4395\t4396\t1\n",
      "1\t4482\t4483\t1\n",
      "1\t4570\t4571\t1\n",
      "1\t4605\t4606\t1\n",
      "1\t4671\t4672\t2\n"
     ]
    }
   ],
   "source": [
    "!/usr/local/bin/samtools-1.21/bin/samtools sort -@ 64 -o filtered-sorted-GFP-AtSKRP-eCLIP_2.bam filtered-GFP-AtSKRP-eCLIP_2.bam\n",
    "!/usr/local/bin/bedtools2/bin/bedtools genomecov -ibam filtered-sorted-GFP-AtSKRP-eCLIP_2.bam -strand + -bg -5 > fivepcounts-GFP-AtSKRP-eCLIP_2.bed\n",
    "!head fivepcounts-GFP-AtSKRP-eCLIP_2.bed"
   ]
  },
  {
   "cell_type": "code",
   "execution_count": 35,
   "id": "1892045d-a1ea-47e6-a43d-87d16b40d517",
   "metadata": {},
   "outputs": [
    {
     "name": "stdout",
     "output_type": "stream",
     "text": [
      "[bam_sort_core] merging from 0 files and 64 in-memory blocks...\n",
      "1\t3856\t3857\t1\n",
      "1\t5432\t5433\t3\n",
      "1\t7014\t7015\t2\n",
      "1\t7463\t7464\t1\n",
      "1\t7597\t7598\t1\n",
      "1\t8070\t8071\t1\n",
      "1\t23812\t23813\t2\n",
      "1\t23827\t23828\t1\n",
      "1\t23829\t23830\t1\n",
      "1\t24213\t24214\t1\n"
     ]
    }
   ],
   "source": [
    "!/usr/local/bin/samtools-1.21/bin/samtools sort -@ 64 -o filtered-sorted-GFP-AtSKRP-eCLIP_3.bam filtered-GFP-AtSKRP-eCLIP_3.bam\n",
    "!/usr/local/bin/bedtools2/bin/bedtools genomecov -ibam filtered-sorted-GFP-AtSKRP-eCLIP_3.bam -strand + -bg -5 > fivepcounts-GFP-AtSKRP-eCLIP_3.bed\n",
    "!head fivepcounts-GFP-AtSKRP-eCLIP_3.bed"
   ]
  },
  {
   "cell_type": "code",
   "execution_count": 36,
   "id": "404b502c-f119-41bc-81fe-4745d2a6150d",
   "metadata": {},
   "outputs": [
    {
     "name": "stdout",
     "output_type": "stream",
     "text": [
      "[bam_sort_core] merging from 0 files and 64 in-memory blocks...\n",
      "1\t564581\t564582\t1\n",
      "1\t740590\t740591\t1\n",
      "1\t917700\t917701\t1\n",
      "1\t1203359\t1203360\t1\n",
      "1\t1651717\t1651718\t1\n",
      "1\t1943338\t1943339\t1\n",
      "1\t2509400\t2509401\t1\n",
      "1\t2538168\t2538169\t1\n",
      "1\t2538170\t2538171\t45\n",
      "1\t2641041\t2641042\t1\n"
     ]
    }
   ],
   "source": [
    "!/usr/local/bin/samtools-1.21/bin/samtools sort -@ 64 -o filtered-sorted-GFP-eCLIP.bam filtered-GFP-eCLIP.bam\n",
    "!/usr/local/bin/bedtools2/bin/bedtools genomecov -ibam filtered-sorted-GFP-eCLIP.bam -strand + -bg -5 > fivepcounts-GFP-eCLIP.bed\n",
    "!head fivepcounts-GFP-eCLIP.bed"
   ]
  },
  {
   "cell_type": "code",
   "execution_count": 6,
   "id": "b51cc2c6-9a7d-4873-b9a2-278b4344934a",
   "metadata": {},
   "outputs": [
    {
     "name": "stdout",
     "output_type": "stream",
     "text": [
      "1\t3635\t3636\t1\t1\t3580\t3963\tAT1G01010.1\t+\n",
      "1\t3639\t3640\t3\t1\t3580\t3963\tAT1G01010.1\t+\n",
      "1\t3718\t3719\t3\t1\t3580\t3963\tAT1G01010.1\t+\n",
      "1\t3735\t3736\t1\t1\t3580\t3963\tAT1G01010.1\t+\n",
      "1\t3781\t3782\t1\t1\t3580\t3963\tAT1G01010.1\t+\n",
      "1\t3795\t3796\t1\t1\t3580\t3963\tAT1G01010.1\t+\n",
      "1\t3827\t3828\t1\t1\t3580\t3963\tAT1G01010.1\t+\n",
      "1\t3874\t3875\t2\t1\t3580\t3963\tAT1G01010.1\t+\n",
      "1\t3995\t3996\t1\t1\t3945\t4326\tAT1G01010.1\t+\n",
      "1\t4171\t4172\t1\t1\t3945\t4326\tAT1G01010.1\t+\n"
     ]
    }
   ],
   "source": [
    "!/usr/local/bin/bedtools2/bin/bedtools intersect -a fivepcounts-GFP-AtSKRP-eCLIP_1.bed -b at-plusexon.slop.bed -wa -wb -nonamecheck > plusexon-filtered-AtSKRP-eCLIP_1.txt\n",
    "!head plusexon-filtered-AtSKRP-eCLIP_1.txt"
   ]
  },
  {
   "cell_type": "code",
   "execution_count": null,
   "id": "84c8325f-9565-4f32-b5bb-f0bec58daf12",
   "metadata": {},
   "outputs": [],
   "source": [
    "!/usr/local/bin/bedtools2/bin/bedtools intersect --help"
   ]
  },
  {
   "cell_type": "code",
   "execution_count": 7,
   "id": "1c7ac5e9-4937-425a-a120-0f2975ae6166",
   "metadata": {},
   "outputs": [],
   "source": [
    "import pandas as pd"
   ]
  },
  {
   "cell_type": "code",
   "execution_count": 8,
   "id": "cd2c9c08-5dbb-4a57-a5c8-f95babade8a5",
   "metadata": {},
   "outputs": [],
   "source": [
    "from matplotlib import pyplot as plt\n",
    "import numpy as np"
   ]
  },
  {
   "cell_type": "code",
   "execution_count": 9,
   "id": "0bbb5a3c-ab21-4149-9b25-7af1fff76b14",
   "metadata": {},
   "outputs": [],
   "source": [
    "df = pd.read_csv(\"plusexon-filtered-AtSKRP-eCLIP_1.txt\", sep = \"\\t\", names = [\"chr\", \"5-end_in\", \"5-end_ex\", \"cov\", \"chr2\", \"start\", \"end\", \"id\",  \"strand\"])"
   ]
  },
  {
   "cell_type": "code",
   "execution_count": 10,
   "id": "cf790c5f-798c-4cfc-b10a-f60fe516bc43",
   "metadata": {},
   "outputs": [],
   "source": [
    "df[\"exon_start\"] = df[\"start\"] + 50\n",
    "df[\"exon_end\"] = df[\"end\"] - 50"
   ]
  },
  {
   "cell_type": "code",
   "execution_count": 11,
   "id": "9e1c1d64-0476-48a0-ac58-63d165e26571",
   "metadata": {},
   "outputs": [],
   "source": [
    "df[\"relative_position_to_start\"] = df[\"5-end_in\"] - df[\"exon_start\"]\n",
    "df[\"relative_position_to_end\"]  = df[\"5-end_ex\"] - df[\"exon_end\"]"
   ]
  },
  {
   "cell_type": "code",
   "execution_count": 12,
   "id": "f3fcfff7-d0e1-4e17-9105-5cdc2791b56b",
   "metadata": {},
   "outputs": [],
   "source": [
    "cov = df[[\"relative_position_to_start\", \"relative_position_to_end\", \"cov\"]].copy()"
   ]
  },
  {
   "cell_type": "code",
   "execution_count": 13,
   "id": "2fb6a062-d86f-438b-8c5c-b1cbbf823266",
   "metadata": {},
   "outputs": [],
   "source": [
    "rpts = cov.groupby(\"relative_position_to_start\").sum().loc[-50:50][\"cov\"]\n",
    "rpte = cov.groupby(\"relative_position_to_end\").sum().loc[-50:50][\"cov\"]"
   ]
  },
  {
   "cell_type": "code",
   "execution_count": 14,
   "id": "bc16fb1e-43ad-4d79-9bf9-81713870e280",
   "metadata": {},
   "outputs": [
    {
     "data": {
      "text/plain": [
       "Index([-50, -49, -48, -47, -46, -45, -44, -43, -42, -41,\n",
       "       ...\n",
       "        41,  42,  43,  44,  45,  46,  47,  48,  49,  50],\n",
       "      dtype='int64', name='relative_position_to_start', length=101)"
      ]
     },
     "execution_count": 14,
     "metadata": {},
     "output_type": "execute_result"
    }
   ],
   "source": [
    "rpts.index"
   ]
  },
  {
   "cell_type": "code",
   "execution_count": 37,
   "id": "814ac3b1-cc61-4cce-8fed-ab7f74494a70",
   "metadata": {},
   "outputs": [
    {
     "data": {
      "image/png": "[encoded data removed]",
      "text/plain": [
       "<Figure size 800x400 with 1 Axes>"
      ]
     },
     "metadata": {},
     "output_type": "display_data"
    }
   ],
   "source": [
    "fig, ax = plt.subplots(1, 1, figsize=(8, 4))\n",
    "\n",
    "ax.plot(rpts.index, rpts / 10000, color = \"blue\")\n",
    "plt.xlim(-55, 55)\n",
    "plt.grid(True, linestyle=':')\n",
    "plt.axvline(0, color = \"red\")\n",
    "plt.xticks([-50, 0 , 50], [\"-50 nt\", \"ie junction\", \"50 nt\"], fontsize = 15)\n",
    "\n",
    "plt.tight_layout()\n",
    "plt.savefig('ie_junction.png')\n",
    "\n",
    "plt.show()"
   ]
  },
  {
   "cell_type": "code",
   "execution_count": 38,
   "id": "7eb1e993-4660-40c9-9e73-2530aefead94",
   "metadata": {},
   "outputs": [
    {
     "data": {
      "image/png": "[encoded data removed]",
      "text/plain": [
       "<Figure size 800x400 with 1 Axes>"
      ]
     },
     "metadata": {},
     "output_type": "display_data"
    }
   ],
   "source": [
    "fig, ax = plt.subplots(1, 1, figsize=(8, 4))\n",
    "\n",
    "ax.plot(rpts.index, rpte / 10000, color = \"blue\")\n",
    "plt.xlim(-55, 55)\n",
    "plt.grid(True, linestyle=':')\n",
    "plt.axvline(0, color = \"red\")\n",
    "plt.xticks([-50, 0 , 50], [\"-50 nt\", \"ei junction\", \"50 nt\"], fontsize = 15)\n",
    "\n",
    "plt.tight_layout()\n",
    "plt.savefig('ei_junction.png')\n",
    "\n",
    "plt.show()"
   ]
  },
  {
   "cell_type": "code",
   "execution_count": null,
   "id": "0edd0b0b-88d5-49e4-95ff-de548c27b490",
   "metadata": {},
   "outputs": [],
   "source": [
    "plt.xlabel(\"Relative position to start codon of 5'-end of reads\")\n",
    "plt.ylabel('siLuc\\nRaw read count\\n(x1000)')\n",
    "plt.xlim(-50, 50)\n",
    "plt.ylim(0, 60)\n",
    "plt.grid(True, linestyle=':')\n",
    "plt.axvline(0, color = \"red\")\n",
    "plt.tight_layout()\n",
    "\n",
    "plt.text(0, 65, \"start codon\", horizontalalignment = \"center\")"
   ]
  }
 ],
 "metadata": {
  "kernelspec": {
   "display_name": "Python 3 (ipykernel)",
   "language": "python",
   "name": "python3"
  },
  "language_info": {
   "codemirror_mode": {
    "name": "ipython",
    "version": 3
   },
   "file_extension": ".py",
   "mimetype": "text/x-python",
   "name": "python",
   "nbconvert_exporter": "python",
   "pygments_lexer": "ipython3",
   "version": "3.13.1"
  }
 },
 "nbformat": 4,
 "nbformat_minor": 5
}
