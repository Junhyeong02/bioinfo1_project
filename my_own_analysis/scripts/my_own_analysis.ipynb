{
 "cells": [
  {
   "cell_type": "markdown",
   "id": "63864f05-23ea-423d-9397-da704b238473",
   "metadata": {},
   "source": [
    "# 데이터 다운로드"
   ]
  },
  {
   "cell_type": "code",
   "execution_count": 2,
   "id": "27795b72-8b41-4c2e-a707-ca40cc914e3c",
   "metadata": {},
   "outputs": [],
   "source": [
    "!mkdir -p ../data/moa-work"
   ]
  },
  {
   "cell_type": "code",
   "execution_count": 3,
   "id": "9498a79b-f4dd-4a3a-847d-d28cca14d505",
   "metadata": {},
   "outputs": [
    {
     "name": "stdout",
     "output_type": "stream",
     "text": [
      "/var2/Works/junhyeong/bioinfo1_project/my_own_analysis/data/moa-work\n"
     ]
    },
    {
     "name": "stderr",
     "output_type": "stream",
     "text": [
      "/home/junhyeong/miniconda3/envs/biopython-env/lib/python3.13/site-packages/IPython/core/magics/osm.py:417: UserWarning: This is now an optional IPython functionality, setting dhist requires you to install the `pickleshare` library.\n",
      "  self.shell.db['dhist'] = compress_dhist(dhist)[-100:]\n"
     ]
    }
   ],
   "source": [
    "%cd ../data/moa-work"
   ]
  },
  {
   "cell_type": "code",
   "execution_count": 4,
   "id": "92174d9d-1fc5-479a-b648-f311d504dadd",
   "metadata": {},
   "outputs": [],
   "source": [
    "%cp -r ../moa-eclip/* ./"
   ]
  },
  {
   "cell_type": "code",
   "execution_count": 5,
   "id": "ad774063-c4cf-4263-adc8-1a552501a73b",
   "metadata": {},
   "outputs": [],
   "source": [
    "!gzip -d *.gz"
   ]
  },
  {
   "cell_type": "code",
   "execution_count": 9,
   "id": "0eabac34-5241-4f1a-b05c-0b0ed565df65",
   "metadata": {},
   "outputs": [
    {
     "name": "stdout",
     "output_type": "stream",
     "text": [
      "--2025-06-05 11:23:49--  https://www.arabidopsis.org/api/download-files/download?filePath=Sequences/Assemblies/TAIR9_chr_all.fas\n",
      "Resolving www.arabidopsis.org (www.arabidopsis.org)... 76.223.67.159, 15.197.242.219\n",
      "Connecting to www.arabidopsis.org (www.arabidopsis.org)|76.223.67.159|:443... connected.\n",
      "HTTP request sent, awaiting response... 200 OK\n",
      "Length: unspecified [binary/octet-stream]\n",
      "Saving to: ‘../moa-genomic-fasta/at.genome.fasta’\n",
      "\n",
      "../moa-genomic-fast     [         <=>        ] 115.57M  5.19MB/s    in 16s     \n",
      "\n",
      "2025-06-05 11:24:06 (7.43 MB/s) - ‘../moa-genomic-fasta/at.genome.fasta’ saved [121183059]\n",
      "\n"
     ]
    }
   ],
   "source": [
    "!wget https://www.arabidopsis.org/api/download-files/download?filePath=Sequences/Assemblies/TAIR9_chr_all.fas -O ../moa-genomic-fasta/at.genome.fasta"
   ]
  },
  {
   "cell_type": "markdown",
   "id": "47c3d518-9537-4efa-88c1-5f813581946e",
   "metadata": {},
   "source": [
    "# READ filtering"
   ]
  },
  {
   "cell_type": "code",
   "execution_count": null,
   "id": "018bb80f-5d6f-490f-ab95-238d22b1e0f6",
   "metadata": {},
   "outputs": [],
   "source": []
  },
  {
   "cell_type": "code",
   "execution_count": null,
   "id": "b2c83ad5-fe6a-4a94-83c4-8149563fe7f6",
   "metadata": {},
   "outputs": [],
   "source": []
  },
  {
   "cell_type": "markdown",
   "id": "905a9c2f-39dd-4576-b4f9-3efd30f1bc4e",
   "metadata": {},
   "source": [
    "# READ MAPPING"
   ]
  },
  {
   "cell_type": "code",
   "execution_count": null,
   "id": "2c3095e6-3a28-4687-b985-ae32b01ad67c",
   "metadata": {},
   "outputs": [],
   "source": []
  }
 ],
 "metadata": {
  "kernelspec": {
   "display_name": "biopython-env",
   "language": "python",
   "name": "biopython-env"
  },
  "language_info": {
   "codemirror_mode": {
    "name": "ipython",
    "version": 3
   },
   "file_extension": ".py",
   "mimetype": "text/x-python",
   "name": "python",
   "nbconvert_exporter": "python",
   "pygments_lexer": "ipython3",
   "version": "3.13.2"
  }
 },
 "nbformat": 4,
 "nbformat_minor": 5
}
